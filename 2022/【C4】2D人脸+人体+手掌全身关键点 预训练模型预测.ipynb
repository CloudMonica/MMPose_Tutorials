{
 "cells": [
  {
   "cell_type": "markdown",
   "id": "63f1dd0a-8685-40fd-b5d7-3218f97ac899",
   "metadata": {},
   "source": [
    "# 2D人脸+人体全身关键点 预训练模型预测\n",
    "\n",
    "人脸+人体全身关键点检测\n",
    "\n",
    "参考文档：https://github.com/open-mmlab/mmpose/blob/master/demo/docs/2d_wholebody_pose_demo.md\n",
    "\n",
    "作者：同济子豪兄 2022-06-06\n",
    "\n",
    "如果报错`CUDA out of memory.`则重启前面几个代码的`kernel`即可。"
   ]
  },
  {
   "cell_type": "markdown",
   "id": "4ff424e2-8d49-4f7c-8e81-24a957d1b7b9",
   "metadata": {},
   "source": [
    "## 进入 MMPose 主目录"
   ]
  },
  {
   "cell_type": "code",
   "execution_count": 1,
   "id": "c24d56aa-5528-4561-bb1c-33bcffe2c852",
   "metadata": {},
   "outputs": [
    {
     "data": {
      "text/plain": [
       "['.git',\n",
       " '.circleci',\n",
       " '.dev_scripts',\n",
       " '.github',\n",
       " '.gitignore',\n",
       " '.pre-commit-config.yaml',\n",
       " '.pylintrc',\n",
       " '.readthedocs.yml',\n",
       " 'CITATION.cff',\n",
       " 'LICENSE',\n",
       " 'MANIFEST.in',\n",
       " 'README.md',\n",
       " 'README_CN.md',\n",
       " 'configs',\n",
       " 'demo',\n",
       " 'docker',\n",
       " 'docs',\n",
       " 'mmpose',\n",
       " 'model-index.yml',\n",
       " 'pytest.ini',\n",
       " 'requirements.txt',\n",
       " 'requirements',\n",
       " 'resources',\n",
       " 'setup.cfg',\n",
       " 'setup.py',\n",
       " 'tests',\n",
       " 'tools',\n",
       " 'mmpose.egg-info',\n",
       " 'checkpoints',\n",
       " 'outputs',\n",
       " 'data',\n",
       " 'work_dirs']"
      ]
     },
     "execution_count": 1,
     "metadata": {},
     "output_type": "execute_result"
    }
   ],
   "source": [
    "import os\n",
    "os.chdir('mmpose')\n",
    "os.listdir()"
   ]
  },
  {
   "cell_type": "markdown",
   "id": "a5c11033-5a43-4b53-9880-df6f847f347d",
   "metadata": {},
   "source": [
    "## 用目标检测预测框作为`top_down`算法的输入框输入"
   ]
  },
  {
   "cell_type": "code",
   "execution_count": 2,
   "id": "2c4c1abb-7e8e-4e8d-bf96-beabb78fd401",
   "metadata": {},
   "outputs": [
    {
     "name": "stdout",
     "output_type": "stream",
     "text": [
      "load checkpoint from http path: https://download.openmmlab.com/mmdetection/v2.0/faster_rcnn/faster_rcnn_r50_fpn_1x_coco/faster_rcnn_r50_fpn_1x_coco_20200130-047c8118.pth\n",
      "load checkpoint from http path: https://download.openmmlab.com/mmpose/top_down/hrnet/hrnet_w48_coco_wholebody_384x288_dark-f5726563_20200918.pth\n",
      "Downloading: \"https://download.openmmlab.com/mmpose/top_down/hrnet/hrnet_w48_coco_wholebody_384x288_dark-f5726563_20200918.pth\" to /home/featurize/.cache/torch/hub/checkpoints/hrnet_w48_coco_wholebody_384x288_dark-f5726563_20200918.pth\n",
      "100%|█████████████████████████████████████████| 243M/243M [00:02<00:00, 116MB/s]\n"
     ]
    }
   ],
   "source": [
    "!python demo/top_down_img_demo_with_mmdet.py \\\n",
    "        demo/mmdetection_cfg/faster_rcnn_r50_fpn_coco.py \\\n",
    "        https://download.openmmlab.com/mmdetection/v2.0/faster_rcnn/faster_rcnn_r50_fpn_1x_coco/faster_rcnn_r50_fpn_1x_coco_20200130-047c8118.pth \\\n",
    "        configs/wholebody/2d_kpt_sview_rgb_img/topdown_heatmap/coco-wholebody/hrnet_w48_coco_wholebody_384x288_dark_plus.py \\\n",
    "        https://download.openmmlab.com/mmpose/top_down/hrnet/hrnet_w48_coco_wholebody_384x288_dark-f5726563_20200918.pth \\\n",
    "        --img data/multi-person.jpeg \\\n",
    "        --out-img-root outputs/C4/C4_1_whole_body_img"
   ]
  },
  {
   "cell_type": "markdown",
   "id": "05a6d4a0-493b-4c39-b9fb-7b636ee3774d",
   "metadata": {},
   "source": [
    "## 用标注框作为`top_down`算法的输入框输入"
   ]
  },
  {
   "cell_type": "code",
   "execution_count": 5,
   "id": "7e063f0f-1027-4ecf-a431-884b0ac1144d",
   "metadata": {},
   "outputs": [
    {
     "name": "stdout",
     "output_type": "stream",
     "text": [
      "loading annotations into memory...\n",
      "Done (t=0.00s)\n",
      "creating index...\n",
      "index created!\n",
      "load checkpoint from http path: https://download.openmmlab.com/mmpose/top_down/hrnet/hrnet_w48_coco_wholebody_384x288_dark-f5726563_20200918.pth\n"
     ]
    }
   ],
   "source": [
    "!python demo/top_down_img_demo.py \\\n",
    "        configs/wholebody/2d_kpt_sview_rgb_img/topdown_heatmap/coco-wholebody/hrnet_w48_coco_wholebody_384x288_dark_plus.py \\\n",
    "        https://download.openmmlab.com/mmpose/top_down/hrnet/hrnet_w48_coco_wholebody_384x288_dark-f5726563_20200918.pth \\\n",
    "        --img-root tests/data/coco/ \\\n",
    "        --json-file tests/data/coco/test_coco.json \\\n",
    "        --out-img-root outputs/C4/C4_2_gt_whole_body_img"
   ]
  },
  {
   "cell_type": "markdown",
   "id": "bcd3a87f-2ab1-4091-94be-298e20215f21",
   "metadata": {},
   "source": [
    "## 视频预测-`top_down`算法"
   ]
  },
  {
   "cell_type": "code",
   "execution_count": 3,
   "id": "5120a34d-5515-4328-9ab5-ee2fc2091c3b",
   "metadata": {},
   "outputs": [
    {
     "name": "stdout",
     "output_type": "stream",
     "text": [
      "Initializing model...\n",
      "load checkpoint from http path: https://download.openmmlab.com/mmdetection/v2.0/faster_rcnn/faster_rcnn_r50_fpn_1x_coco/faster_rcnn_r50_fpn_1x_coco_20200130-047c8118.pth\n",
      "load checkpoint from http path: https://download.openmmlab.com/mmpose/top_down/hrnet/hrnet_w48_coco_wholebody_384x288_dark-f5726563_20200918.pth\n",
      "Running inference...\n",
      "[>>>>>>>>>>>>>>>>>>>>>>>>>>>>> ] 192/193, 3.0 task/s, elapsed: 64s, ETA:     0s\n"
     ]
    }
   ],
   "source": [
    "!python demo/top_down_video_demo_with_mmdet.py \\\n",
    "        demo/mmdetection_cfg/faster_rcnn_r50_fpn_coco.py \\\n",
    "        https://download.openmmlab.com/mmdetection/v2.0/faster_rcnn/faster_rcnn_r50_fpn_1x_coco/faster_rcnn_r50_fpn_1x_coco_20200130-047c8118.pth \\\n",
    "        configs/wholebody/2d_kpt_sview_rgb_img/topdown_heatmap/coco-wholebody/hrnet_w48_coco_wholebody_384x288_dark_plus.py \\\n",
    "        https://download.openmmlab.com/mmpose/top_down/hrnet/hrnet_w48_coco_wholebody_384x288_dark-f5726563_20200918.pth \\\n",
    "        --video-path data/mother.mp4 \\\n",
    "        --out-video-root outputs/C4/C4_3_whole_body_video"
   ]
  },
  {
   "cell_type": "code",
   "execution_count": null,
   "id": "21ade942-2e4c-4d12-8a70-6eacc13dc578",
   "metadata": {},
   "outputs": [],
   "source": []
  }
 ],
 "metadata": {
  "kernelspec": {
   "display_name": "Python 3 (ipykernel)",
   "language": "python",
   "name": "python3"
  },
  "language_info": {
   "codemirror_mode": {
    "name": "ipython",
    "version": 3
   },
   "file_extension": ".py",
   "mimetype": "text/x-python",
   "name": "python",
   "nbconvert_exporter": "python",
   "pygments_lexer": "ipython3",
   "version": "3.7.10"
  }
 },
 "nbformat": 4,
 "nbformat_minor": 5
}
