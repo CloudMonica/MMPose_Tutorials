{
 "cells": [
  {
   "cell_type": "markdown",
   "id": "63f1dd0a-8685-40fd-b5d7-3218f97ac899",
   "metadata": {},
   "source": [
    "# 2D Animal Pose预训练模型预测\n",
    "\n",
    "参考文档：https://github.com/open-mmlab/mmpose/blob/master/demo/docs/2d_animal_demo.md\n",
    "\n",
    "作者：同济子豪兄 2022-06-10\n",
    "\n",
    "如果报错`CUDA out of memory.`则重启前面几个代码的`kernel`即可。"
   ]
  },
  {
   "cell_type": "markdown",
   "id": "4ff424e2-8d49-4f7c-8e81-24a957d1b7b9",
   "metadata": {},
   "source": [
    "## 进入 MMPose 主目录"
   ]
  },
  {
   "cell_type": "code",
   "execution_count": 1,
   "id": "c24d56aa-5528-4561-bb1c-33bcffe2c852",
   "metadata": {},
   "outputs": [],
   "source": [
    "import os\n",
    "os.chdir('mmpose')"
   ]
  },
  {
   "cell_type": "markdown",
   "id": "dc37c003-6a05-452b-82da-45f45fcba04d",
   "metadata": {},
   "source": [
    "## 用标注框作为`top_down`算法的输入框输入"
   ]
  },
  {
   "cell_type": "code",
   "execution_count": 2,
   "id": "22c1623b-6d6f-465f-8b03-382fd9317c5e",
   "metadata": {},
   "outputs": [
    {
     "name": "stdout",
     "output_type": "stream",
     "text": [
      "loading annotations into memory...\n",
      "Done (t=0.00s)\n",
      "creating index...\n",
      "index created!\n",
      "load checkpoint from http path: https://download.openmmlab.com/mmpose/animal/resnet/res50_macaque_256x192-98f1dd3a_20210407.pth\n",
      "Downloading: \"https://download.openmmlab.com/mmpose/animal/resnet/res50_macaque_256x192-98f1dd3a_20210407.pth\" to /home/featurize/.cache/torch/hub/checkpoints/res50_macaque_256x192-98f1dd3a_20210407.pth\n",
      "100%|█████████████████████████████████████████| 130M/130M [00:01<00:00, 107MB/s]\n"
     ]
    }
   ],
   "source": [
    "!python demo/top_down_img_demo.py \\\n",
    "        configs/animal/2d_kpt_sview_rgb_img/topdown_heatmap/macaque/res50_macaque_256x192.py \\\n",
    "        https://download.openmmlab.com/mmpose/animal/resnet/res50_macaque_256x192-98f1dd3a_20210407.pth \\\n",
    "        --img-root tests/data/macaque/ \\\n",
    "        --json-file tests/data/macaque/test_macaque.json \\\n",
    "        --out-img-root outputs/D2/D2_1_macaque_gt_img"
   ]
  },
  {
   "cell_type": "markdown",
   "id": "70374980-1f64-4b3b-9805-690b489de44f",
   "metadata": {},
   "source": [
    "## 视频预测"
   ]
  },
  {
   "cell_type": "markdown",
   "id": "3fc842f0-a879-4336-8092-4d57993b362d",
   "metadata": {},
   "source": [
    "使用全图作为输入"
   ]
  },
  {
   "cell_type": "code",
   "execution_count": 2,
   "id": "5badef9b-a40c-4aee-b61b-7284c2c36a5f",
   "metadata": {},
   "outputs": [
    {
     "name": "stdout",
     "output_type": "stream",
     "text": [
      "Initializing model...\n",
      "load checkpoint from http path: https://download.openmmlab.com/mmpose/animal/resnet/res152_fly_192x192-fcafbd5a_20210407.pth\n",
      "Downloading: \"https://download.openmmlab.com/mmpose/animal/resnet/res152_fly_192x192-fcafbd5a_20210407.pth\" to /home/featurize/.cache/torch/hub/checkpoints/res152_fly_192x192-fcafbd5a_20210407.pth\n",
      "100%|█████████████████████████████████████████| 263M/263M [00:02<00:00, 114MB/s]\n",
      "Running inference...\n",
      "[>>>>>>>>>>>>>>>>>>>>>>>>>>>>>>] 120/120, 22.9 task/s, elapsed: 5s, ETA:     0s\n"
     ]
    }
   ],
   "source": [
    "!python demo/top_down_video_demo_full_frame_without_det.py \\\n",
    "        configs/animal/2d_kpt_sview_rgb_img/topdown_heatmap/fly/res152_fly_192x192.py \\\n",
    "        https://download.openmmlab.com/mmpose/animal/resnet/res152_fly_192x192-fcafbd5a_20210407.pth \\\n",
    "        --video-path data/fly.mp4 \\\n",
    "        --out-video-root outputs/D2/D2_2_fly_video\n"
   ]
  },
  {
   "cell_type": "markdown",
   "id": "1bf48470-9106-446d-be77-976f376553f5",
   "metadata": {},
   "source": [
    "## 马"
   ]
  },
  {
   "cell_type": "markdown",
   "id": "de2a211e-fb2d-4b2d-bd38-e390f3edcf57",
   "metadata": {},
   "source": [
    "\n",
    "\n",
    "使用目标检测预测框作为输入\n",
    "\n",
    "MS COCO数据集中的80个类别中，包含10类动物\n",
    "\n",
    "15: 'bird', 16: 'cat', 17: 'dog', 18: 'horse', 19: 'sheep', 20: 'cow', 21: 'elephant', 22: 'bear', 23: 'zebra', 24: 'giraffe'"
   ]
  },
  {
   "cell_type": "code",
   "execution_count": 3,
   "id": "e4ed2baf-4880-4dec-8422-bb179c925cc3",
   "metadata": {
    "tags": []
   },
   "outputs": [
    {
     "name": "stdout",
     "output_type": "stream",
     "text": [
      "Initializing model...\n",
      "load checkpoint from http path: https://download.openmmlab.com/mmdetection/v2.0/faster_rcnn/faster_rcnn_r50_fpn_2x_coco/faster_rcnn_r50_fpn_2x_coco_bbox_mAP-0.384_20200504_210434-a5d8aa15.pth\n",
      "Downloading: \"https://download.openmmlab.com/mmdetection/v2.0/faster_rcnn/faster_rcnn_r50_fpn_2x_coco/faster_rcnn_r50_fpn_2x_coco_bbox_mAP-0.384_20200504_210434-a5d8aa15.pth\" to /home/featurize/.cache/torch/hub/checkpoints/faster_rcnn_r50_fpn_2x_coco_bbox_mAP-0.384_20200504_210434-a5d8aa15.pth\n",
      "100%|█████████████████████████████████████████| 160M/160M [00:01<00:00, 114MB/s]\n",
      "load checkpoint from http path: https://download.openmmlab.com/mmpose/animal/resnet/res50_horse10_256x256_split1-3a3dc37e_20210405.pth\n",
      "Downloading: \"https://download.openmmlab.com/mmpose/animal/resnet/res50_horse10_256x256_split1-3a3dc37e_20210405.pth\" to /home/featurize/.cache/torch/hub/checkpoints/res50_horse10_256x256_split1-3a3dc37e_20210405.pth\n",
      "100%|█████████████████████████████████████████| 130M/130M [00:01<00:00, 115MB/s]\n",
      "Running inference...\n",
      "[>>>>>>>>>>>>>>>>>>>>>>>>>>>>  ] 140/145, 4.9 task/s, elapsed: 29s, ETA:     1s\n"
     ]
    }
   ],
   "source": [
    "!python demo/top_down_video_demo_with_mmdet.py \\\n",
    "        demo/mmdetection_cfg/faster_rcnn_r50_fpn_coco.py \\\n",
    "        https://download.openmmlab.com/mmdetection/v2.0/faster_rcnn/faster_rcnn_r50_fpn_2x_coco/faster_rcnn_r50_fpn_2x_coco_bbox_mAP-0.384_20200504_210434-a5d8aa15.pth \\\n",
    "        configs/animal/2d_kpt_sview_rgb_img/topdown_heatmap/horse10/res50_horse10_256x256-split1.py \\\n",
    "        https://download.openmmlab.com/mmpose/animal/resnet/res50_horse10_256x256_split1-3a3dc37e_20210405.pth \\\n",
    "        --video-path data/horse1.mp4 \\\n",
    "        --out-video-root outputs/D2/D2_3_horse_video \\\n",
    "        --bbox-thr 0.1 \\\n",
    "        --kpt-thr 0.4 \\\n",
    "        --det-cat-id 18 \\\n",
    "        --radius 5 \\\n",
    "        --thickness 3"
   ]
  },
  {
   "cell_type": "markdown",
   "id": "4c7d9383-b0a3-4f88-b06c-e778b6c76a41",
   "metadata": {},
   "source": [
    "## 其它动物\n",
    "\n",
    "MMDetection 目标检测模型：https://github.com/open-mmlab/mmpose/blob/master/demo/docs/mmdet_modelzoo.md\n",
    "\n",
    "MMPose 动物关键点检测模型：https://mmpose.readthedocs.io/en/latest/topics/animal.html\n",
    "\n",
    "> 如遇报错`urllib.error.HTTPError: HTTP Error 403: Forbidden`，重新运行一遍即可"
   ]
  },
  {
   "cell_type": "code",
   "execution_count": null,
   "id": "359328fc-d431-480d-af78-10f364cb41ba",
   "metadata": {},
   "outputs": [
    {
     "name": "stdout",
     "output_type": "stream",
     "text": [
      "Initializing model...\n",
      "load checkpoint from http path: https://download.openmmlab.com/mmpose/mmdet_pretrained/cascade_rcnn_x101_64x4d_fpn_20e_macaque-e45e36f5_20210409.pth\n",
      "Downloading: \"https://download.openmmlab.com/mmpose/mmdet_pretrained/cascade_rcnn_x101_64x4d_fpn_20e_macaque-e45e36f5_20210409.pth\" to /home/featurize/.cache/torch/hub/checkpoints/cascade_rcnn_x101_64x4d_fpn_20e_macaque-e45e36f5_20210409.pth\n",
      " 90%|█████████████████████████████████████    | 439M/486M [00:04<00:00, 100MB/s]"
     ]
    }
   ],
   "source": [
    "# 猕猴\n",
    "!python demo/top_down_pose_tracking_demo_with_mmdet.py \\\n",
    "        demo/mmdetection_cfg/cascade_rcnn_x101_64x4d_fpn_1class.py \\\n",
    "        https://download.openmmlab.com/mmpose/mmdet_pretrained/cascade_rcnn_x101_64x4d_fpn_20e_macaque-e45e36f5_20210409.pth \\\n",
    "        configs/animal/2d_kpt_sview_rgb_img/topdown_heatmap/macaque/res152_macaque_256x192.py \\\n",
    "        https://download.openmmlab.com/mmpose/animal/resnet/res152_macaque_256x192-c42abc02_20210407.pth \\\n",
    "        --video-path data/macaque1.mp4 \\\n",
    "        --out-video-root outputs/D2/D2_4_macaque \\\n",
    "        --bbox-thr 0.5 \\\n",
    "        --kpt-thr 0.3 \\\n",
    "        --radius 10 \\\n",
    "        --thickness 3 \\\n",
    "        --smooth"
   ]
  },
  {
   "cell_type": "code",
   "execution_count": null,
   "id": "9e7a5082-e4c5-46be-959c-5460088be378",
   "metadata": {},
   "outputs": [],
   "source": [
    "# 猫\n",
    "# 数据：https://drive.google.com/file/d/1l_h8NJaUCOgs9Y4iomNvIBQ_a88why42/view?usp=sharing\n",
    "!python demo/top_down_video_demo_with_mmdet.py \\\n",
    "        demo/mmdetection_cfg/faster_rcnn_r50_fpn_coco.py \\\n",
    "        https://download.openmmlab.com/mmdetection/v2.0/faster_rcnn/faster_rcnn_r50_fpn_2x_coco/faster_rcnn_r50_fpn_2x_coco_bbox_mAP-0.384_20200504_210434-a5d8aa15.pth \\\n",
    "        configs/animal/2d_kpt_sview_rgb_img/topdown_heatmap/animalpose/hrnet_w32_animalpose_256x256.py \\\n",
    "        https://download.openmmlab.com/mmpose/animal/hrnet/hrnet_w32_animalpose_256x256-1aa7f075_20210426.pth \\\n",
    "        --video-path data/cat1.mp4 \\\n",
    "        --out-video-root outputs/D2/D2_5_cat_vid \\\n",
    "        --det-cat-id 16 \\\n",
    "        --bbox-thr 0.5 \\\n",
    "        --kpt-thr 0.3 \\\n",
    "        --radius 5 \\\n",
    "        --thickness 3 "
   ]
  },
  {
   "cell_type": "code",
   "execution_count": null,
   "id": "a0d3b3c4",
   "metadata": {},
   "outputs": [],
   "source": [
    "# 狗\n",
    "# 数据：https://drive.google.com/file/d/120XkZpN3Rs8CM-AysrzfMsILjgInlXJM/view?usp=sharing\n",
    "!python demo/top_down_video_demo_with_mmdet.py \\\n",
    "        demo/mmdetection_cfg/faster_rcnn_r50_fpn_coco.py \\\n",
    "        https://download.openmmlab.com/mmdetection/v2.0/faster_rcnn/faster_rcnn_r50_fpn_2x_coco/faster_rcnn_r50_fpn_2x_coco_bbox_mAP-0.384_20200504_210434-a5d8aa15.pth \\\n",
    "        configs/animal/2d_kpt_sview_rgb_img/topdown_heatmap/animalpose/hrnet_w32_animalpose_256x256.py \\\n",
    "        https://download.openmmlab.com/mmpose/animal/hrnet/hrnet_w32_animalpose_256x256-1aa7f075_20210426.pth \\\n",
    "        --video-path data/dog1.mp4 \\\n",
    "        --out-video-root outputs/D2/D2_6_dog_vid \\\n",
    "        --det-cat-id 17 \\\n",
    "        --bbox-thr 0.4 \\\n",
    "        --kpt-thr 0.3 \\\n",
    "        --radius 5 \\\n",
    "        --thickness 3 "
   ]
  },
  {
   "cell_type": "code",
   "execution_count": null,
   "id": "eca0c19f",
   "metadata": {},
   "outputs": [],
   "source": [
    "# 羚羊 & 豹\n",
    "!python demo/top_down_img_demo.py \\\n",
    "        configs/animal/2d_kpt_sview_rgb_img/topdown_heatmap/ap10k/res50_ap10k_256x256.py \\\n",
    "        https://download.openmmlab.com/mmpose/animal/resnet/res50_ap10k_256x256-35760eb8_20211029.pth \\\n",
    "        --img-root tests/data/ap10k/ --json-file tests/data/ap10k/test_ap10k.json \\\n",
    "        --out-img-root outputs/D2/D2_7_ap10k_gt_img "
   ]
  },
  {
   "cell_type": "code",
   "execution_count": null,
   "id": "6b71460d",
   "metadata": {},
   "outputs": [],
   "source": [
    "# 蝗虫\n",
    "!python demo/top_down_img_demo.py \\\n",
    "        configs/animal/2d_kpt_sview_rgb_img/topdown_heatmap/locust/res50_locust_160x160.py \\\n",
    "        https://download.openmmlab.com/mmpose/animal/resnet/res50_locust_160x160-9efca22b_20210407.pth \\\n",
    "        --img-root tests/data/locust/ --json-file tests/data/locust/test_locust.json \\\n",
    "        --out-img-root outputs/D2/D2_8_locust_gt_img "
   ]
  },
  {
   "cell_type": "code",
   "execution_count": null,
   "id": "2d97605d",
   "metadata": {},
   "outputs": [],
   "source": [
    "# 斑马\n",
    "!python demo/top_down_img_demo.py \\\n",
    "        configs/animal/2d_kpt_sview_rgb_img/topdown_heatmap/zebra/res50_zebra_160x160.py \\\n",
    "        https://download.openmmlab.com/mmpose/animal/resnet/res50_zebra_160x160-5a104833_20210407.pth \\\n",
    "        --img-root tests/data/zebra/ --json-file tests/data/zebra/test_zebra.json \\\n",
    "        --out-img-root outputs/D2/D2_9_zebra_gt_img"
   ]
  },
  {
   "cell_type": "code",
   "execution_count": null,
   "id": "3947b083",
   "metadata": {},
   "outputs": [],
   "source": [
    "# 老虎\n",
    "!python demo/top_down_img_demo.py \\\n",
    "        configs/animal/2d_kpt_sview_rgb_img/topdown_heatmap/atrw/res50_atrw_256x256.py \\\n",
    "        https://download.openmmlab.com/mmpose/animal/resnet/res50_atrw_256x256-546c4594_20210414.pth \\\n",
    "        --img-root tests/data/atrw/ --json-file tests/data/atrw/test_atrw.json \\\n",
    "        --out-img-root outputs/D2/D2_10_atrw_gt_img"
   ]
  }
 ],
 "metadata": {
  "kernelspec": {
   "display_name": "Python 3 (ipykernel)",
   "language": "python",
   "name": "python3"
  },
  "language_info": {
   "codemirror_mode": {
    "name": "ipython",
    "version": 3
   },
   "file_extension": ".py",
   "mimetype": "text/x-python",
   "name": "python",
   "nbconvert_exporter": "python",
   "pygments_lexer": "ipython3",
   "version": "3.7.10"
  }
 },
 "nbformat": 4,
 "nbformat_minor": 5
}
