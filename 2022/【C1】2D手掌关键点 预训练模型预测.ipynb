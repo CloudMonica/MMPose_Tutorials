{
 "cells": [
  {
   "cell_type": "markdown",
   "id": "63f1dd0a-8685-40fd-b5d7-3218f97ac899",
   "metadata": {},
   "source": [
    "# 2D手掌关键点 预训练模型预测\n",
    "\n",
    "参考文档：https://github.com/open-mmlab/mmpose/blob/master/demo/docs/2d_hand_demo.md\n",
    "\n",
    "作者：同济子豪兄 2022-06-06\n",
    "\n",
    "如果报错`CUDA out of memory.`则重启前面几个代码的`kernel`即可。"
   ]
  },
  {
   "cell_type": "markdown",
   "id": "43a8b4a8-8256-4d01-bc93-d18aae75f177",
   "metadata": {},
   "source": [
    "手掌检测模型：https://github.com/open-mmlab/mmpose/blob/master/demo/docs/mmdet_modelzoo.md\n",
    "\n",
    "扩展阅读：\n",
    "\n",
    "Mediapipe手部关键点三维实时检测：https://www.bilibili.com/video/BV1x44y127Yu"
   ]
  },
  {
   "cell_type": "markdown",
   "id": "4ff424e2-8d49-4f7c-8e81-24a957d1b7b9",
   "metadata": {},
   "source": [
    "## 进入 MMPose 主目录"
   ]
  },
  {
   "cell_type": "code",
   "execution_count": 1,
   "id": "c24d56aa-5528-4561-bb1c-33bcffe2c852",
   "metadata": {},
   "outputs": [
    {
     "data": {
      "text/plain": [
       "['.git',\n",
       " '.circleci',\n",
       " '.dev_scripts',\n",
       " '.github',\n",
       " '.gitignore',\n",
       " '.pre-commit-config.yaml',\n",
       " '.pylintrc',\n",
       " '.readthedocs.yml',\n",
       " 'CITATION.cff',\n",
       " 'LICENSE',\n",
       " 'MANIFEST.in',\n",
       " 'README.md',\n",
       " 'README_CN.md',\n",
       " 'configs',\n",
       " 'demo',\n",
       " 'docker',\n",
       " 'docs',\n",
       " 'mmpose',\n",
       " 'model-index.yml',\n",
       " 'pytest.ini',\n",
       " 'requirements.txt',\n",
       " 'requirements',\n",
       " 'resources',\n",
       " 'setup.cfg',\n",
       " 'setup.py',\n",
       " 'tests',\n",
       " 'tools',\n",
       " 'mmpose.egg-info',\n",
       " 'checkpoints',\n",
       " 'outputs',\n",
       " 'data']"
      ]
     },
     "execution_count": 1,
     "metadata": {},
     "output_type": "execute_result"
    }
   ],
   "source": [
    "import os\n",
    "os.chdir('mmpose')\n",
    "os.listdir()"
   ]
  },
  {
   "cell_type": "markdown",
   "id": "a5c11033-5a43-4b53-9880-df6f847f347d",
   "metadata": {},
   "source": [
    "## 用目标检测预测框作为`top_down`算法的输入框输入"
   ]
  },
  {
   "cell_type": "code",
   "execution_count": 2,
   "id": "aa445dc4-c09f-4c90-9846-62b725457214",
   "metadata": {},
   "outputs": [
    {
     "name": "stdout",
     "output_type": "stream",
     "text": [
      "load checkpoint from http path: https://download.openmmlab.com/mmpose/mmdet_pretrained/cascade_rcnn_x101_64x4d_fpn_20e_onehand10k-dac19597_20201030.pth\n",
      "Downloading: \"https://download.openmmlab.com/mmpose/mmdet_pretrained/cascade_rcnn_x101_64x4d_fpn_20e_onehand10k-dac19597_20201030.pth\" to /home/featurize/.cache/torch/hub/checkpoints/cascade_rcnn_x101_64x4d_fpn_20e_onehand10k-dac19597_20201030.pth\n",
      "100%|█████████████████████████████████████████| 486M/486M [00:04<00:00, 106MB/s]\n",
      "load checkpoint from http path: https://download.openmmlab.com/mmpose/top_down/resnet/res50_onehand10k_256x256-e67998f6_20200813.pth\n",
      "Downloading: \"https://download.openmmlab.com/mmpose/top_down/resnet/res50_onehand10k_256x256-e67998f6_20200813.pth\" to /home/featurize/.cache/torch/hub/checkpoints/res50_onehand10k_256x256-e67998f6_20200813.pth\n",
      "100%|█████████████████████████████████████████| 130M/130M [00:01<00:00, 105MB/s]\n"
     ]
    }
   ],
   "source": [
    "!python demo/top_down_img_demo_with_mmdet.py demo/mmdetection_cfg/cascade_rcnn_x101_64x4d_fpn_1class.py \\\n",
    "        https://download.openmmlab.com/mmpose/mmdet_pretrained/cascade_rcnn_x101_64x4d_fpn_20e_onehand10k-dac19597_20201030.pth \\\n",
    "        configs/hand/2d_kpt_sview_rgb_img/topdown_heatmap/onehand10k/res50_onehand10k_256x256.py \\\n",
    "        https://download.openmmlab.com/mmpose/top_down/resnet/res50_onehand10k_256x256-e67998f6_20200813.pth \\\n",
    "        --img data/piano.jpeg \\\n",
    "        --out-img-root outputs/C1/C1_1_hand_img"
   ]
  },
  {
   "cell_type": "markdown",
   "id": "05a6d4a0-493b-4c39-b9fb-7b636ee3774d",
   "metadata": {},
   "source": [
    "## 用标注框作为`top_down`算法的输入框输入"
   ]
  },
  {
   "cell_type": "code",
   "execution_count": 3,
   "id": "7e063f0f-1027-4ecf-a431-884b0ac1144d",
   "metadata": {},
   "outputs": [
    {
     "name": "stdout",
     "output_type": "stream",
     "text": [
      "loading annotations into memory...\n",
      "Done (t=0.00s)\n",
      "creating index...\n",
      "index created!\n",
      "load checkpoint from http path: https://download.openmmlab.com/mmpose/top_down/resnet/res50_onehand10k_256x256-e67998f6_20200813.pth\n"
     ]
    }
   ],
   "source": [
    "!python demo/top_down_img_demo.py \\\n",
    "        configs/hand/2d_kpt_sview_rgb_img/topdown_heatmap/onehand10k/res50_onehand10k_256x256.py \\\n",
    "        https://download.openmmlab.com/mmpose/top_down/resnet/res50_onehand10k_256x256-e67998f6_20200813.pth \\\n",
    "        --img-root tests/data/onehand10k/ \\\n",
    "        --json-file tests/data/onehand10k/test_onehand10k.json \\\n",
    "        --out-img-root outputs/C1/C1_2_img_gt"
   ]
  },
  {
   "cell_type": "markdown",
   "id": "bcd3a87f-2ab1-4091-94be-298e20215f21",
   "metadata": {},
   "source": [
    "## 视频预测"
   ]
  },
  {
   "cell_type": "code",
   "execution_count": 3,
   "id": "fafafee2-2819-4457-9ded-d28dde6db5d0",
   "metadata": {},
   "outputs": [
    {
     "name": "stdout",
     "output_type": "stream",
     "text": [
      "Initializing model...\n",
      "load checkpoint from http path: https://download.openmmlab.com/mmpose/mmdet_pretrained/cascade_rcnn_x101_64x4d_fpn_20e_onehand10k-dac19597_20201030.pth\n",
      "load checkpoint from http path: https://download.openmmlab.com/mmpose/top_down/resnet/res50_onehand10k_256x256-e67998f6_20200813.pth\n",
      "Running inference...\n",
      "[>>>>>>>>>>>>>                  ] 68/157, 4.7 task/s, elapsed: 14s, ETA:    19s\n"
     ]
    }
   ],
   "source": [
    "!python demo/top_down_video_demo_with_mmdet.py demo/mmdetection_cfg/cascade_rcnn_x101_64x4d_fpn_1class.py \\\n",
    "        https://download.openmmlab.com/mmpose/mmdet_pretrained/cascade_rcnn_x101_64x4d_fpn_20e_onehand10k-dac19597_20201030.pth \\\n",
    "        configs/hand/2d_kpt_sview_rgb_img/topdown_heatmap/onehand10k/res50_onehand10k_256x256.py \\\n",
    "        https://download.openmmlab.com/mmpose/top_down/resnet/res50_onehand10k_256x256-e67998f6_20200813.pth \\\n",
    "        --video-path data/play_piano.mp4 \\\n",
    "        --out-video-root outputs/C1/C1_4_video"
   ]
  },
  {
   "cell_type": "code",
   "execution_count": null,
   "id": "21ade942-2e4c-4d12-8a70-6eacc13dc578",
   "metadata": {},
   "outputs": [],
   "source": []
  }
 ],
 "metadata": {
  "kernelspec": {
   "display_name": "Python 3 (ipykernel)",
   "language": "python",
   "name": "python3"
  },
  "language_info": {
   "codemirror_mode": {
    "name": "ipython",
    "version": 3
   },
   "file_extension": ".py",
   "mimetype": "text/x-python",
   "name": "python",
   "nbconvert_exporter": "python",
   "pygments_lexer": "ipython3",
   "version": "3.7.10"
  }
 },
 "nbformat": 4,
 "nbformat_minor": 5
}
