{
 "cells": [
  {
   "cell_type": "markdown",
   "id": "63f1dd0a-8685-40fd-b5d7-3218f97ac899",
   "metadata": {},
   "source": [
    "# 3D人体关键点 预训练模型预测\n",
    "\n",
    "参考文档：https://github.com/open-mmlab/mmpose/blob/master/demo/docs/3d_human_pose_demo.md\n",
    "\n",
    "作者：同济子豪兄 2022-06-06\n",
    "\n",
    "如果报错`CUDA out of memory.`则重启前面几个代码的`kernel`即可。"
   ]
  },
  {
   "cell_type": "markdown",
   "id": "4ff424e2-8d49-4f7c-8e81-24a957d1b7b9",
   "metadata": {},
   "source": [
    "## 进入 MMPose 主目录"
   ]
  },
  {
   "cell_type": "code",
   "execution_count": 1,
   "id": "c24d56aa-5528-4561-bb1c-33bcffe2c852",
   "metadata": {},
   "outputs": [],
   "source": [
    "import os\n",
    "os.chdir('mmpose')"
   ]
  },
  {
   "cell_type": "markdown",
   "id": "b2aa405a-69f6-4847-8120-2cfb03723809",
   "metadata": {},
   "source": [
    "## 3D Human Pose的`two-stage`算法\n",
    "\n",
    "第一阶段：2D人体关键点检测\n",
    "\n",
    "第二阶段：2D转3D映射"
   ]
  },
  {
   "cell_type": "code",
   "execution_count": 2,
   "id": "57226a88-b9d1-4442-8f6d-1a4ff1b79ced",
   "metadata": {},
   "outputs": [
    {
     "name": "stdout",
     "output_type": "stream",
     "text": [
      "loading annotations into memory...\n",
      "Done (t=0.00s)\n",
      "creating index...\n",
      "index created!\n",
      "Stage 1: load 2D pose results from Json file.\n",
      "Stage 2: 2D-to-3D pose lifting.\n",
      "load checkpoint from http path: https://download.openmmlab.com/mmpose/body3d/simple_baseline/simple3Dbaseline_h36m-f0ad73a4_20210419.pth\n",
      "Downloading: \"https://download.openmmlab.com/mmpose/body3d/simple_baseline/simple3Dbaseline_h36m-f0ad73a4_20210419.pth\" to /home/featurize/.cache/torch/hub/checkpoints/simple3Dbaseline_h36m-f0ad73a4_20210419.pth\n",
      "100%|██████████████████████████████████████| 16.4M/16.4M [00:00<00:00, 74.2MB/s]\n",
      "[>>>>>>>>>>>>>>>>>>>>>>>>>>>>>>>>>>>] 4/4, 5.4 task/s, elapsed: 1s, ETA:     0s\n"
     ]
    }
   ],
   "source": [
    "!python demo/body3d_two_stage_img_demo.py \\\n",
    "        configs/body/3d_kpt_sview_rgb_img/pose_lift/h36m/simplebaseline3d_h36m.py \\\n",
    "        https://download.openmmlab.com/mmpose/body3d/simple_baseline/simple3Dbaseline_h36m-f0ad73a4_20210419.pth \\\n",
    "        --json-file tests/data/h36m/h36m_coco.json \\\n",
    "        --img-root tests/data/h36m \\\n",
    "        --camera-param-file tests/data/h36m/cameras.pkl \\\n",
    "        --only-second-stage \\\n",
    "        --out-img-root outputs/B3/B3_1_3d_img \\\n",
    "        --rebase-keypoint-height \\\n",
    "        --show-ground-truth"
   ]
  },
  {
   "cell_type": "markdown",
   "id": "ed32af6c-a1c5-4bc9-b067-1439bede7908",
   "metadata": {},
   "source": [
    "## 视频预测"
   ]
  },
  {
   "cell_type": "markdown",
   "id": "be11ffb8-1a6e-4ad9-bca9-31d42e721951",
   "metadata": {},
   "source": [
    "命令行中的三个模型分别是：\n",
    "\n",
    "2D 人体框检测\n",
    "\n",
    "2D 人体关键点检测\n",
    "\n",
    "2d-to-3d pose lifting 直接用2D坐标回归3D坐标，把2D的关键点坐标映射到三维"
   ]
  },
  {
   "cell_type": "markdown",
   "id": "b900e7fd-1eb0-41df-81ae-9de80ed2837b",
   "metadata": {},
   "source": [
    "### 单帧输入模型的视频预测"
   ]
  },
  {
   "cell_type": "code",
   "execution_count": 2,
   "id": "d16a2e65-821c-408b-b896-69d7bf0c2b0f",
   "metadata": {},
   "outputs": [
    {
     "name": "stdout",
     "output_type": "stream",
     "text": [
      "Stage 1: 2D pose detection.\n",
      "Initializing model...\n",
      "load checkpoint from http path: https://download.openmmlab.com/mmdetection/v2.0/faster_rcnn/faster_rcnn_r50_fpn_1x_coco/faster_rcnn_r50_fpn_1x_coco_20200130-047c8118.pth\n",
      "load checkpoint from http path: https://download.openmmlab.com/mmpose/top_down/hrnet/hrnet_w48_coco_256x192-b9e0b3ab_20200708.pth\n",
      "Running 2D pose detection inference...\n",
      "[>>>>>>>>>>>>>>>>>>>>>>>>>>>> ] 554/563, 5.5 task/s, elapsed: 101s, ETA:     2s\n",
      "Stage 2: 2D-to-3D pose lifting.\n",
      "Initializing model...\n",
      "load checkpoint from http path: https://download.openmmlab.com/mmpose/body3d/videopose/videopose_h36m_243frames_fullconv_supervised_cpn_ft-88f5abbb_20210527.pth\n",
      "Downloading: \"https://download.openmmlab.com/mmpose/body3d/videopose/videopose_h36m_243frames_fullconv_supervised_cpn_ft-88f5abbb_20210527.pth\" to /home/featurize/.cache/torch/hub/checkpoints/videopose_h36m_243frames_fullconv_supervised_cpn_ft-88f5abbb_20210527.pth\n",
      "100%|███████████████████████████████████████| 64.8M/64.8M [00:00<00:00, 100MB/s]\n",
      "Running 2D-to-3D pose lifting inference...\n",
      "[>>>>>>>>>>>>>>>>>>>>>>>>>>>>>>] 554/554, 7.0 task/s, elapsed: 79s, ETA:     0s\n"
     ]
    }
   ],
   "source": [
    "!python demo/body3d_two_stage_video_demo.py \\\n",
    "        demo/mmdetection_cfg/faster_rcnn_r50_fpn_coco.py \\\n",
    "        https://download.openmmlab.com/mmdetection/v2.0/faster_rcnn/faster_rcnn_r50_fpn_1x_coco/faster_rcnn_r50_fpn_1x_coco_20200130-047c8118.pth \\\n",
    "        configs/body/2d_kpt_sview_rgb_img/topdown_heatmap/coco/hrnet_w48_coco_256x192.py \\\n",
    "        https://download.openmmlab.com/mmpose/top_down/hrnet/hrnet_w48_coco_256x192-b9e0b3ab_20200708.pth \\\n",
    "        configs/body/3d_kpt_sview_rgb_vid/video_pose_lift/h36m/videopose3d_h36m_243frames_fullconv_supervised_cpn_ft.py \\\n",
    "        https://download.openmmlab.com/mmpose/body3d/videopose/videopose_h36m_243frames_fullconv_supervised_cpn_ft-88f5abbb_20210527.pth \\\n",
    "        --video-path data/two_dancers.mp4 \\\n",
    "        --out-video-root outputs/B3/B3_2_3d_video \\\n",
    "        --rebase-keypoint-height"
   ]
  },
  {
   "cell_type": "markdown",
   "id": "e4e78715-cc78-4d48-942d-bc71b3e90f42",
   "metadata": {},
   "source": [
    "### 多帧输入模型的视频预测"
   ]
  },
  {
   "cell_type": "code",
   "execution_count": 6,
   "id": "88957e45-3c02-46d4-b35a-510f0c197835",
   "metadata": {},
   "outputs": [
    {
     "name": "stdout",
     "output_type": "stream",
     "text": [
      "Stage 1: 2D pose detection.\n",
      "Initializing model...\n",
      "load checkpoint from http path: https://download.openmmlab.com/mmdetection/v2.0/faster_rcnn/faster_rcnn_r50_fpn_1x_coco/faster_rcnn_r50_fpn_1x_coco_20200130-047c8118.pth\n",
      "load checkpoint from http path: https://download.openmmlab.com/mmpose/top_down/posewarper/hrnet_w48_posetrack18_384x288_posewarper_stage2-4abf88db_20211130.pth\n",
      "Downloading: \"https://download.openmmlab.com/mmpose/top_down/posewarper/hrnet_w48_posetrack18_384x288_posewarper_stage2-4abf88db_20211130.pth\" to /home/featurize/.cache/torch/hub/checkpoints/hrnet_w48_posetrack18_384x288_posewarper_stage2-4abf88db_20211130.pth\n",
      "100%|█████████████████████████████████████████| 273M/273M [00:02<00:00, 107MB/s]\n",
      "Running 2D pose detection inference...\n",
      "[>>>>>>>>>>>>>>>>>>>>>>>>>>>> ] 554/563, 2.3 task/s, elapsed: 237s, ETA:     4s\n",
      "Stage 2: 2D-to-3D pose lifting.\n",
      "Initializing model...\n",
      "load checkpoint from http path: https://download.openmmlab.com/mmpose/body3d/videopose/videopose_h36m_243frames_fullconv_supervised_cpn_ft-88f5abbb_20210527.pth\n",
      "Running 2D-to-3D pose lifting inference...\n",
      "[>>>>>>>>>>>>>>>>>>>>>>>>>>>>>>] 554/554, 6.5 task/s, elapsed: 85s, ETA:     0s\n"
     ]
    }
   ],
   "source": [
    "!python demo/body3d_two_stage_video_demo.py \\\n",
    "    demo/mmdetection_cfg/faster_rcnn_r50_fpn_coco.py \\\n",
    "    https://download.openmmlab.com/mmdetection/v2.0/faster_rcnn/faster_rcnn_r50_fpn_1x_coco/faster_rcnn_r50_fpn_1x_coco_20200130-047c8118.pth \\\n",
    "    configs/body/2d_kpt_sview_rgb_vid/posewarper/posetrack18/hrnet_w48_posetrack18_384x288_posewarper_stage2.py \\\n",
    "    https://download.openmmlab.com/mmpose/top_down/posewarper/hrnet_w48_posetrack18_384x288_posewarper_stage2-4abf88db_20211130.pth  \\\n",
    "    configs/body/3d_kpt_sview_rgb_vid/video_pose_lift/h36m/videopose3d_h36m_243frames_fullconv_supervised_cpn_ft.py \\\n",
    "    https://download.openmmlab.com/mmpose/body3d/videopose/videopose_h36m_243frames_fullconv_supervised_cpn_ft-88f5abbb_20210527.pth \\\n",
    "    --video-path data/two_dancers.mp4 \\\n",
    "    --out-video-root outputs/B3/B3_3_3d_video_multi_frames \\\n",
    "    --rebase-keypoint-height \\\n",
    "    --use-multi-frames --online"
   ]
  },
  {
   "cell_type": "code",
   "execution_count": null,
   "id": "21ade942-2e4c-4d12-8a70-6eacc13dc578",
   "metadata": {},
   "outputs": [],
   "source": []
  }
 ],
 "metadata": {
  "kernelspec": {
   "display_name": "Python 3 (ipykernel)",
   "language": "python",
   "name": "python3"
  },
  "language_info": {
   "codemirror_mode": {
    "name": "ipython",
    "version": 3
   },
   "file_extension": ".py",
   "mimetype": "text/x-python",
   "name": "python",
   "nbconvert_exporter": "python",
   "pygments_lexer": "ipython3",
   "version": "3.7.10"
  }
 },
 "nbformat": 4,
 "nbformat_minor": 5
}
