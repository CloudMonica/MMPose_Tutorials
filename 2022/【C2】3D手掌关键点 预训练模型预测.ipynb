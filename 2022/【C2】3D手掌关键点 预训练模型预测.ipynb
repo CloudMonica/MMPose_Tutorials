{
 "cells": [
  {
   "cell_type": "markdown",
   "id": "63f1dd0a-8685-40fd-b5d7-3218f97ac899",
   "metadata": {},
   "source": [
    "# 3D手掌关键点 预训练模型预测\n",
    "\n",
    "参考文档：https://github.com/open-mmlab/mmpose/blob/master/demo/docs/3d_hand_demo.md\n",
    "\n",
    "作者：同济子豪兄 2022-06-12\n",
    "\n",
    "如果报错`CUDA out of memory.`则重启前面几个代码的`kernel`即可。\n",
    "\n",
    "扩展阅读：https://www.bilibili.com/video/BV1x44y127Yu"
   ]
  },
  {
   "cell_type": "markdown",
   "id": "4ff424e2-8d49-4f7c-8e81-24a957d1b7b9",
   "metadata": {},
   "source": [
    "## 进入 MMPose 主目录"
   ]
  },
  {
   "cell_type": "code",
   "execution_count": null,
   "id": "c24d56aa-5528-4561-bb1c-33bcffe2c852",
   "metadata": {},
   "outputs": [],
   "source": [
    "import os\n",
    "os.chdir('mmpose')"
   ]
  },
  {
   "cell_type": "markdown",
   "id": "785ad5e4-c80c-4b7c-8bdb-6ee1688f9e92",
   "metadata": {},
   "source": [
    "## 用预先标注好的标注框作为`top_down`算法的输入"
   ]
  },
  {
   "cell_type": "code",
   "execution_count": null,
   "id": "16181058-1f53-40d2-a1fd-6d9c9ecc05ac",
   "metadata": {},
   "outputs": [],
   "source": [
    "!python demo/interhand3d_img_demo.py \\\n",
    "        configs/hand/3d_kpt_sview_rgb_img/internet/interhand3d/res50_interhand3d_all_256x256.py \\\n",
    "        https://download.openmmlab.com/mmpose/hand3d/internet/res50_intehand3d_all_256x256-b9c1cf4c_20210506.pth \\\n",
    "        --json-file tests/data/interhand2.6m/test_interhand2.6m_data.json \\\n",
    "        --img-root tests/data/interhand2.6m \\\n",
    "        --out-img-root outputs/C2/C2_1_3d_hand_img \\\n",
    "        --rebase-keypoint-height"
   ]
  },
  {
   "cell_type": "code",
   "execution_count": null,
   "id": "06c1aaa6-f264-4aa3-91c5-4a43601ea2dc",
   "metadata": {},
   "outputs": [],
   "source": []
  }
 ],
 "metadata": {
  "kernelspec": {
   "display_name": "Python 3 (ipykernel)",
   "language": "python",
   "name": "python3"
  },
  "language_info": {
   "codemirror_mode": {
    "name": "ipython",
    "version": 3
   },
   "file_extension": ".py",
   "mimetype": "text/x-python",
   "name": "python",
   "nbconvert_exporter": "python",
   "pygments_lexer": "ipython3",
   "version": "3.7.10"
  }
 },
 "nbformat": 4,
 "nbformat_minor": 5
}
