{
 "cells": [
  {
   "cell_type": "markdown",
   "id": "63f1dd0a-8685-40fd-b5d7-3218f97ac899",
   "metadata": {},
   "source": [
    "# 2D人脸关键点 预训练模型预测\n",
    "\n",
    "参考文档：https://github.com/open-mmlab/mmpose/blob/master/demo/docs/2d_face_demo.md\n",
    "\n",
    "作者：[同济子豪兄](https://space.bilibili.com/1900783) 2022-06-06\n",
    "\n",
    "如果报错`CUDA out of memory.`则重启前面几个代码的`kernel`即可。"
   ]
  },
  {
   "cell_type": "markdown",
   "id": "e398145c-bc71-440d-b535-3ff638b8cac2",
   "metadata": {},
   "source": [
    "## 扩展阅读\n",
    "\n",
    "Mediapipe Blaze Face-人脸468个关键点的关键点实时检测：https://www.bilibili.com/video/BV1ei4y1d7zA\n",
    "\n",
    "摄像头实时在线Demo：https://codepen.io/tommyzihao/pen/dyWEjBN"
   ]
  },
  {
   "cell_type": "markdown",
   "id": "4ff424e2-8d49-4f7c-8e81-24a957d1b7b9",
   "metadata": {},
   "source": [
    "## 进入 MMPose 主目录"
   ]
  },
  {
   "cell_type": "code",
   "execution_count": 1,
   "id": "c24d56aa-5528-4561-bb1c-33bcffe2c852",
   "metadata": {},
   "outputs": [],
   "source": [
    "import os\n",
    "os.chdir('mmpose')"
   ]
  },
  {
   "cell_type": "markdown",
   "id": "9eb4b66a-4913-4825-87c1-cef1f5c8004d",
   "metadata": {},
   "source": [
    "## 安装`face_recognition`（大概3分钟）\n",
    "\n",
    "人脸识别开源库`face_recognition`介绍：https://zhuanlan.zhihu.com/p/45827914\n",
    "\n",
    "`face_recognition`主页：https://github.com/ageitgey/face_recognition"
   ]
  },
  {
   "cell_type": "code",
   "execution_count": 2,
   "id": "4a1861c1-a176-4550-b655-9bb827d76129",
   "metadata": {},
   "outputs": [
    {
     "name": "stdout",
     "output_type": "stream",
     "text": [
      "Looking in indexes: https://pypi.tuna.tsinghua.edu.cn/simple\n",
      "Collecting face_recognition\n",
      "  Downloading https://pypi.tuna.tsinghua.edu.cn/packages/1e/95/f6c9330f54ab07bfa032bf3715c12455a381083125d8880c43cbe76bb3d0/face_recognition-1.3.0-py2.py3-none-any.whl (15 kB)\n",
      "Collecting face-recognition-models>=0.3.0\n",
      "  Downloading https://pypi.tuna.tsinghua.edu.cn/packages/cf/3b/4fd8c534f6c0d1b80ce0973d01331525538045084c73c153ee6df20224cf/face_recognition_models-0.3.0.tar.gz (100.1 MB)\n",
      "\u001b[K     |████████████████████████████████| 100.1 MB 24.0 MB/s eta 0:00:01\n",
      "\u001b[?25hCollecting dlib>=19.7\n",
      "  Downloading https://pypi.tuna.tsinghua.edu.cn/packages/e5/3b/7a8522a5c2ef6ff6252e46b0788b3d2c2280198c49d6ecf3b576b171045f/dlib-19.24.0.tar.gz (3.2 MB)\n",
      "\u001b[K     |████████████████████████████████| 3.2 MB 92.1 MB/s eta 0:00:01\n",
      "\u001b[?25hRequirement already satisfied: Click>=6.0 in /environment/miniconda3/lib/python3.7/site-packages (from face_recognition) (7.1.2)\n",
      "Requirement already satisfied: numpy in /environment/miniconda3/lib/python3.7/site-packages (from face_recognition) (1.21.4)\n",
      "Requirement already satisfied: Pillow in /environment/miniconda3/lib/python3.7/site-packages (from face_recognition) (8.4.0)\n",
      "Building wheels for collected packages: dlib, face-recognition-models\n",
      "  Building wheel for dlib (setup.py) ... \u001b[?25ldone\n",
      "\u001b[?25h  Created wheel for dlib: filename=dlib-19.24.0-cp37-cp37m-linux_x86_64.whl size=4863143 sha256=7129df7b5717c13ded3f39086ceaa1a00e467e89acc83092f52bb9819afe4cee\n",
      "  Stored in directory: /home/featurize/.cache/pip/wheels/16/6b/c6/39a2204a3b959b25c1d8e34cb2ac651cadf58307a71dbfe9bd\n",
      "  Building wheel for face-recognition-models (setup.py) ... \u001b[?25ldone\n",
      "\u001b[?25h  Created wheel for face-recognition-models: filename=face_recognition_models-0.3.0-py2.py3-none-any.whl size=100566173 sha256=cc5fd1838f50d82c6ae6340778afed3e66794707be3e594c57a9b0bbb18e5199\n",
      "  Stored in directory: /home/featurize/.cache/pip/wheels/85/e5/4b/ed9642e474ccaecc9f20c5152eeecef59a184b0e93825a4732\n",
      "Successfully built dlib face-recognition-models\n",
      "Installing collected packages: face-recognition-models, dlib, face-recognition\n",
      "Successfully installed dlib-19.24.0 face-recognition-1.3.0 face-recognition-models-0.3.0\n"
     ]
    }
   ],
   "source": [
    "!pip install face_recognition"
   ]
  },
  {
   "cell_type": "markdown",
   "id": "a5c11033-5a43-4b53-9880-df6f847f347d",
   "metadata": {},
   "source": [
    "## 用目标检测预测框作为`top_down`算法的输入框输入"
   ]
  },
  {
   "cell_type": "code",
   "execution_count": 3,
   "id": "e94c8d92-922e-4f88-8589-5d59b6138628",
   "metadata": {},
   "outputs": [
    {
     "name": "stdout",
     "output_type": "stream",
     "text": [
      "load checkpoint from http path: https://download.openmmlab.com/mmpose/face/hrnetv2/hrnetv2_w18_aflw_256x256-f2bbc62b_20210125.pth\n",
      "Downloading: \"https://download.openmmlab.com/mmpose/face/hrnetv2/hrnetv2_w18_aflw_256x256-f2bbc62b_20210125.pth\" to /home/featurize/.cache/torch/hub/checkpoints/hrnetv2_w18_aflw_256x256-f2bbc62b_20210125.pth\n",
      "100%|███████████████████████████████████████| 37.2M/37.2M [00:00<00:00, 115MB/s]\n"
     ]
    }
   ],
   "source": [
    "!python demo/face_img_demo.py \\\n",
    "        configs/face/2d_kpt_sview_rgb_img/topdown_heatmap/aflw/hrnetv2_w18_aflw_256x256.py \\\n",
    "        https://download.openmmlab.com/mmpose/face/hrnetv2/hrnetv2_w18_aflw_256x256-f2bbc62b_20210125.pth \\\n",
    "        --img data/multi-person.jpeg \\\n",
    "        --out-img-root outputs/C3/C3_1_2d_face"
   ]
  },
  {
   "cell_type": "markdown",
   "id": "05a6d4a0-493b-4c39-b9fb-7b636ee3774d",
   "metadata": {},
   "source": [
    "## 用标注框作为`top_down`算法的输入框输入"
   ]
  },
  {
   "cell_type": "code",
   "execution_count": 3,
   "id": "7e063f0f-1027-4ecf-a431-884b0ac1144d",
   "metadata": {},
   "outputs": [
    {
     "name": "stdout",
     "output_type": "stream",
     "text": [
      "loading annotations into memory...\n",
      "Done (t=0.00s)\n",
      "creating index...\n",
      "index created!\n",
      "load checkpoint from http path: https://download.openmmlab.com/mmpose/face/hrnetv2/hrnetv2_w18_aflw_256x256-f2bbc62b_20210125.pth\n"
     ]
    }
   ],
   "source": [
    "!python demo/top_down_img_demo.py \\\n",
    "        configs/face/2d_kpt_sview_rgb_img/topdown_heatmap/aflw/hrnetv2_w18_aflw_256x256.py \\\n",
    "        https://download.openmmlab.com/mmpose/face/hrnetv2/hrnetv2_w18_aflw_256x256-f2bbc62b_20210125.pth \\\n",
    "        --img-root tests/data/aflw/ \\\n",
    "        --json-file tests/data/aflw/test_aflw.json \\\n",
    "        --out-img-root outputs/C3/C3_2_2d_face_gt"
   ]
  },
  {
   "cell_type": "markdown",
   "id": "bcd3a87f-2ab1-4091-94be-298e20215f21",
   "metadata": {},
   "source": [
    "## 视频预测"
   ]
  },
  {
   "cell_type": "code",
   "execution_count": 4,
   "id": "965d90f8-cb77-4210-aab7-3c1d58491f76",
   "metadata": {},
   "outputs": [
    {
     "name": "stdout",
     "output_type": "stream",
     "text": [
      "Initializing model...\n",
      "load checkpoint from http path: https://download.openmmlab.com/mmpose/face/hrnetv2/hrnetv2_w18_aflw_256x256-f2bbc62b_20210125.pth\n",
      "Running inference...\n",
      "[>>>>>>>>>>>>>>>>>>>>>>>>>>>>>>> ] 59/60, 1.8 task/s, elapsed: 33s, ETA:     1s\n"
     ]
    }
   ],
   "source": [
    "!python demo/face_video_demo.py \\\n",
    "        configs/face/2d_kpt_sview_rgb_img/topdown_heatmap/aflw/hrnetv2_w18_aflw_256x256.py \\\n",
    "        https://download.openmmlab.com/mmpose/face/hrnetv2/hrnetv2_w18_aflw_256x256-f2bbc62b_20210125.pth \\\n",
    "        --video-path data/face_child.mp4 \\\n",
    "        --out-video-root outputs/C3/C3_4_2d_face_video"
   ]
  },
  {
   "cell_type": "code",
   "execution_count": null,
   "id": "21ade942-2e4c-4d12-8a70-6eacc13dc578",
   "metadata": {},
   "outputs": [],
   "source": []
  }
 ],
 "metadata": {
  "kernelspec": {
   "display_name": "Python 3 (ipykernel)",
   "language": "python",
   "name": "python3"
  },
  "language_info": {
   "codemirror_mode": {
    "name": "ipython",
    "version": 3
   },
   "file_extension": ".py",
   "mimetype": "text/x-python",
   "name": "python",
   "nbconvert_exporter": "python",
   "pygments_lexer": "ipython3",
   "version": "3.7.10"
  }
 },
 "nbformat": 4,
 "nbformat_minor": 5
}
