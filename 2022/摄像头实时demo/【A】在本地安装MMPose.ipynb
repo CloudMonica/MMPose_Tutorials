{
 "cells": [
  {
   "cell_type": "markdown",
   "id": "a1cae7fa",
   "metadata": {},
   "source": [
    "# 在本地安装 MMPose 环境\n",
    "\n",
    "本教程以 Macbook Pro 为例\n",
    "\n",
    "同济子豪兄 2022-6-21"
   ]
  },
  {
   "cell_type": "markdown",
   "id": "681f110d",
   "metadata": {},
   "source": [
    "## 安装 mmcv"
   ]
  },
  {
   "cell_type": "markdown",
   "id": "6efe947e",
   "metadata": {},
   "source": [
    "在 mac 上安装 mmcv -full：https://openmmlab.feishu.cn/docs/doccnJd89XfYFB9Q3x8oJFGYG2b"
   ]
  },
  {
   "cell_type": "markdown",
   "id": "1d7679a1",
   "metadata": {},
   "source": [
    "## 进入openmmlab虚拟环境（如有）"
   ]
  },
  {
   "cell_type": "code",
   "execution_count": null,
   "id": "96fca4b9",
   "metadata": {},
   "outputs": [],
   "source": [
    "!conda activate open-mmlab"
   ]
  },
  {
   "cell_type": "markdown",
   "id": "b770e0f3",
   "metadata": {},
   "source": [
    "## 安装mmpose"
   ]
  },
  {
   "cell_type": "code",
   "execution_count": 1,
   "id": "960f9f32",
   "metadata": {},
   "outputs": [
    {
     "name": "stderr",
     "output_type": "stream",
     "text": [
      "/Users/tommy/opt/anaconda3/envs/open-mmlab/lib/python3.7/site-packages/tqdm/auto.py:22: TqdmWarning: IProgress not found. Please update jupyter and ipywidgets. See https://ipywidgets.readthedocs.io/en/stable/user_install.html\n",
      "  from .autonotebook import tqdm as notebook_tqdm\n"
     ]
    }
   ],
   "source": [
    "import os\n",
    "import mmcv"
   ]
  },
  {
   "cell_type": "markdown",
   "id": "9a2d97ba",
   "metadata": {},
   "source": [
    "## 从Github下载最新版 mmpose"
   ]
  },
  {
   "cell_type": "code",
   "execution_count": 2,
   "id": "49c29691",
   "metadata": {},
   "outputs": [
    {
     "name": "stdout",
     "output_type": "stream",
     "text": [
      "Cloning into 'mmpose'...\n",
      "remote: Enumerating objects: 19322, done.\u001b[K\n",
      "remote: Counting objects: 100% (398/398), done.\u001b[K\n",
      "remote: Compressing objects: 100% (258/258), done.\u001b[K\n",
      "remote: Total 19322 (delta 190), reused 284 (delta 139), pack-reused 18924\u001b[K\n",
      "Receiving objects: 100% (19322/19322), 25.22 MiB | 371.00 KiB/s, done.\n",
      "Resolving deltas: 100% (13648/13648), done.\n"
     ]
    }
   ],
   "source": [
    "!git clone https://github.com/open-mmlab/mmpose.git"
   ]
  },
  {
   "cell_type": "code",
   "execution_count": 4,
   "id": "2059e6ed",
   "metadata": {},
   "outputs": [],
   "source": [
    "# 进入 mmpose 目录\n",
    "os.chdir('mmpose')"
   ]
  },
  {
   "cell_type": "code",
   "execution_count": 5,
   "id": "ff0dc2f7",
   "metadata": {},
   "outputs": [
    {
     "name": "stdout",
     "output_type": "stream",
     "text": [
      "Looking in indexes: https://mirrors.aliyun.com/pypi/simple/\n",
      "Ignoring dataclasses: markers 'python_version == \"3.6\"' don't match your environment\n",
      "Collecting poseval@ git+https://github.com/svenkreiss/poseval.git\n",
      "  Cloning https://github.com/svenkreiss/poseval.git to /private/var/folders/ly/mdyk3b_d1r39hm00y4s1yk1m0000gn/T/pip-install-zv1dz49i/poseval_b8acdf5f38fe4d71b8e09c5a0fbaee76\n",
      "  Running command git clone --filter=blob:none -q https://github.com/svenkreiss/poseval.git /private/var/folders/ly/mdyk3b_d1r39hm00y4s1yk1m0000gn/T/pip-install-zv1dz49i/poseval_b8acdf5f38fe4d71b8e09c5a0fbaee76\n",
      "  Resolved https://github.com/svenkreiss/poseval.git to commit 3128c5cbcf90946e5164ff438ad651e113e64613\n",
      "  Running command git submodule update --init --recursive -q\n",
      "  Preparing metadata (setup.py) ... \u001b[?25ldone\n",
      "\u001b[?25hRequirement already satisfied: numpy in /Users/tommy/opt/anaconda3/envs/open-mmlab/lib/python3.7/site-packages (from -r requirements/build.txt (line 2)) (1.21.6)\n",
      "Requirement already satisfied: torch>=1.3 in /Users/tommy/opt/anaconda3/envs/open-mmlab/lib/python3.7/site-packages (from -r requirements/build.txt (line 3)) (1.10.0)\n",
      "Requirement already satisfied: chumpy in /Users/tommy/opt/anaconda3/envs/open-mmlab/lib/python3.7/site-packages (from -r requirements/runtime.txt (line 1)) (0.70)\n",
      "Requirement already satisfied: json_tricks in /Users/tommy/opt/anaconda3/envs/open-mmlab/lib/python3.7/site-packages (from -r requirements/runtime.txt (line 3)) (3.15.5)\n",
      "Requirement already satisfied: matplotlib in /Users/tommy/opt/anaconda3/envs/open-mmlab/lib/python3.7/site-packages (from -r requirements/runtime.txt (line 4)) (3.5.0)\n",
      "Requirement already satisfied: munkres in /Users/tommy/opt/anaconda3/envs/open-mmlab/lib/python3.7/site-packages (from -r requirements/runtime.txt (line 5)) (1.1.4)\n",
      "Requirement already satisfied: opencv-python in /Users/tommy/opt/anaconda3/envs/open-mmlab/lib/python3.7/site-packages (from -r requirements/runtime.txt (line 7)) (4.5.4.60)\n",
      "Requirement already satisfied: pillow in /Users/tommy/opt/anaconda3/envs/open-mmlab/lib/python3.7/site-packages (from -r requirements/runtime.txt (line 8)) (8.4.0)\n",
      "Requirement already satisfied: scipy in /Users/tommy/opt/anaconda3/envs/open-mmlab/lib/python3.7/site-packages (from -r requirements/runtime.txt (line 9)) (1.7.3)\n",
      "Requirement already satisfied: torchvision in /Users/tommy/opt/anaconda3/envs/open-mmlab/lib/python3.7/site-packages (from -r requirements/runtime.txt (line 10)) (0.11.1)\n",
      "Requirement already satisfied: xtcocotools>=1.12 in /Users/tommy/opt/anaconda3/envs/open-mmlab/lib/python3.7/site-packages (from -r requirements/runtime.txt (line 11)) (1.12)\n",
      "Requirement already satisfied: coverage in /Users/tommy/opt/anaconda3/envs/open-mmlab/lib/python3.7/site-packages (from -r requirements/tests.txt (line 1)) (6.2)\n",
      "Requirement already satisfied: flake8 in /Users/tommy/opt/anaconda3/envs/open-mmlab/lib/python3.7/site-packages (from -r requirements/tests.txt (line 2)) (4.0.1)\n",
      "Requirement already satisfied: interrogate in /Users/tommy/opt/anaconda3/envs/open-mmlab/lib/python3.7/site-packages (from -r requirements/tests.txt (line 3)) (1.5.0)\n",
      "Requirement already satisfied: isort==4.3.21 in /Users/tommy/opt/anaconda3/envs/open-mmlab/lib/python3.7/site-packages (from -r requirements/tests.txt (line 4)) (4.3.21)\n",
      "Requirement already satisfied: pytest in /Users/tommy/opt/anaconda3/envs/open-mmlab/lib/python3.7/site-packages (from -r requirements/tests.txt (line 5)) (6.2.5)\n",
      "Requirement already satisfied: pytest-runner in /Users/tommy/opt/anaconda3/envs/open-mmlab/lib/python3.7/site-packages (from -r requirements/tests.txt (line 6)) (5.3.1)\n",
      "Requirement already satisfied: smplx>=0.1.28 in /Users/tommy/opt/anaconda3/envs/open-mmlab/lib/python3.7/site-packages (from -r requirements/tests.txt (line 7)) (0.1.28)\n",
      "Requirement already satisfied: xdoctest>=0.10.0 in /Users/tommy/opt/anaconda3/envs/open-mmlab/lib/python3.7/site-packages (from -r requirements/tests.txt (line 8)) (0.15.10)\n",
      "Requirement already satisfied: yapf in /Users/tommy/opt/anaconda3/envs/open-mmlab/lib/python3.7/site-packages (from -r requirements/tests.txt (line 9)) (0.31.0)\n",
      "Requirement already satisfied: albumentations>=0.3.2 in /Users/tommy/opt/anaconda3/envs/open-mmlab/lib/python3.7/site-packages (from -r requirements/optional.txt (line 1)) (1.1.0)\n",
      "Requirement already satisfied: onnx in /Users/tommy/opt/anaconda3/envs/open-mmlab/lib/python3.7/site-packages (from -r requirements/optional.txt (line 2)) (1.11.0)\n",
      "Requirement already satisfied: onnxruntime in /Users/tommy/opt/anaconda3/envs/open-mmlab/lib/python3.7/site-packages (from -r requirements/optional.txt (line 3)) (1.11.1)\n",
      "Requirement already satisfied: pyrender in /Users/tommy/opt/anaconda3/envs/open-mmlab/lib/python3.7/site-packages (from -r requirements/optional.txt (line 5)) (0.1.45)\n",
      "Requirement already satisfied: requests in /Users/tommy/opt/anaconda3/envs/open-mmlab/lib/python3.7/site-packages (from -r requirements/optional.txt (line 6)) (2.26.0)\n",
      "Requirement already satisfied: trimesh in /Users/tommy/opt/anaconda3/envs/open-mmlab/lib/python3.7/site-packages (from -r requirements/optional.txt (line 8)) (3.12.6)\n",
      "Requirement already satisfied: typing_extensions in /Users/tommy/opt/anaconda3/envs/open-mmlab/lib/python3.7/site-packages (from torch>=1.3->-r requirements/build.txt (line 3)) (4.0.1)\n",
      "Requirement already satisfied: six>=1.11.0 in /Users/tommy/opt/anaconda3/envs/open-mmlab/lib/python3.7/site-packages (from chumpy->-r requirements/runtime.txt (line 1)) (1.16.0)\n",
      "Requirement already satisfied: cycler>=0.10 in /Users/tommy/opt/anaconda3/envs/open-mmlab/lib/python3.7/site-packages (from matplotlib->-r requirements/runtime.txt (line 4)) (0.11.0)\n",
      "Requirement already satisfied: pyparsing>=2.2.1 in /Users/tommy/opt/anaconda3/envs/open-mmlab/lib/python3.7/site-packages (from matplotlib->-r requirements/runtime.txt (line 4)) (3.0.6)\n",
      "Requirement already satisfied: setuptools-scm>=4 in /Users/tommy/opt/anaconda3/envs/open-mmlab/lib/python3.7/site-packages (from matplotlib->-r requirements/runtime.txt (line 4)) (6.3.2)\n",
      "Requirement already satisfied: python-dateutil>=2.7 in /Users/tommy/opt/anaconda3/envs/open-mmlab/lib/python3.7/site-packages (from matplotlib->-r requirements/runtime.txt (line 4)) (2.8.2)\n",
      "Requirement already satisfied: packaging>=20.0 in /Users/tommy/opt/anaconda3/envs/open-mmlab/lib/python3.7/site-packages (from matplotlib->-r requirements/runtime.txt (line 4)) (21.3)\n",
      "Requirement already satisfied: fonttools>=4.22.0 in /Users/tommy/opt/anaconda3/envs/open-mmlab/lib/python3.7/site-packages (from matplotlib->-r requirements/runtime.txt (line 4)) (4.28.3)\n",
      "Requirement already satisfied: kiwisolver>=1.0.1 in /Users/tommy/opt/anaconda3/envs/open-mmlab/lib/python3.7/site-packages (from matplotlib->-r requirements/runtime.txt (line 4)) (1.3.2)\n",
      "Requirement already satisfied: setuptools>=18.0 in /Users/tommy/opt/anaconda3/envs/open-mmlab/lib/python3.7/site-packages (from xtcocotools>=1.12->-r requirements/runtime.txt (line 11)) (59.4.0)\n",
      "Requirement already satisfied: cython>=0.27.3 in /Users/tommy/opt/anaconda3/envs/open-mmlab/lib/python3.7/site-packages (from xtcocotools>=1.12->-r requirements/runtime.txt (line 11)) (0.29.25)\n",
      "Requirement already satisfied: importlib-metadata<4.3 in /Users/tommy/opt/anaconda3/envs/open-mmlab/lib/python3.7/site-packages (from flake8->-r requirements/tests.txt (line 2)) (4.2.0)\n",
      "Requirement already satisfied: mccabe<0.7.0,>=0.6.0 in /Users/tommy/opt/anaconda3/envs/open-mmlab/lib/python3.7/site-packages (from flake8->-r requirements/tests.txt (line 2)) (0.6.1)\n",
      "Requirement already satisfied: pyflakes<2.5.0,>=2.4.0 in /Users/tommy/opt/anaconda3/envs/open-mmlab/lib/python3.7/site-packages (from flake8->-r requirements/tests.txt (line 2)) (2.4.0)\n",
      "Requirement already satisfied: pycodestyle<2.9.0,>=2.8.0 in /Users/tommy/opt/anaconda3/envs/open-mmlab/lib/python3.7/site-packages (from flake8->-r requirements/tests.txt (line 2)) (2.8.0)\n",
      "Requirement already satisfied: toml in /Users/tommy/opt/anaconda3/envs/open-mmlab/lib/python3.7/site-packages (from interrogate->-r requirements/tests.txt (line 3)) (0.10.2)\n",
      "Requirement already satisfied: attrs in /Users/tommy/opt/anaconda3/envs/open-mmlab/lib/python3.7/site-packages (from interrogate->-r requirements/tests.txt (line 3)) (21.2.0)\n",
      "Requirement already satisfied: py in /Users/tommy/opt/anaconda3/envs/open-mmlab/lib/python3.7/site-packages (from interrogate->-r requirements/tests.txt (line 3)) (1.11.0)\n",
      "Requirement already satisfied: tabulate in /Users/tommy/opt/anaconda3/envs/open-mmlab/lib/python3.7/site-packages (from interrogate->-r requirements/tests.txt (line 3)) (0.8.9)\n",
      "Requirement already satisfied: colorama in /Users/tommy/opt/anaconda3/envs/open-mmlab/lib/python3.7/site-packages (from interrogate->-r requirements/tests.txt (line 3)) (0.4.4)\n",
      "Requirement already satisfied: click>=7.1 in /Users/tommy/opt/anaconda3/envs/open-mmlab/lib/python3.7/site-packages (from interrogate->-r requirements/tests.txt (line 3)) (7.1.2)\n"
     ]
    },
    {
     "name": "stdout",
     "output_type": "stream",
     "text": [
      "Requirement already satisfied: pluggy<2.0,>=0.12 in /Users/tommy/opt/anaconda3/envs/open-mmlab/lib/python3.7/site-packages (from pytest->-r requirements/tests.txt (line 5)) (1.0.0)\n",
      "Requirement already satisfied: iniconfig in /Users/tommy/opt/anaconda3/envs/open-mmlab/lib/python3.7/site-packages (from pytest->-r requirements/tests.txt (line 5)) (1.1.1)\n",
      "Requirement already satisfied: scikit-image>=0.16.1 in /Users/tommy/opt/anaconda3/envs/open-mmlab/lib/python3.7/site-packages (from albumentations>=0.3.2->-r requirements/optional.txt (line 1)) (0.19.0)\n",
      "Requirement already satisfied: PyYAML in /Users/tommy/opt/anaconda3/envs/open-mmlab/lib/python3.7/site-packages (from albumentations>=0.3.2->-r requirements/optional.txt (line 1)) (6.0)\n",
      "Requirement already satisfied: qudida>=0.0.4 in /Users/tommy/opt/anaconda3/envs/open-mmlab/lib/python3.7/site-packages (from albumentations>=0.3.2->-r requirements/optional.txt (line 1)) (0.0.4)\n",
      "Requirement already satisfied: protobuf>=3.12.2 in /Users/tommy/opt/anaconda3/envs/open-mmlab/lib/python3.7/site-packages (from onnx->-r requirements/optional.txt (line 2)) (4.21.1)\n",
      "Requirement already satisfied: flatbuffers in /Users/tommy/opt/anaconda3/envs/open-mmlab/lib/python3.7/site-packages (from onnxruntime->-r requirements/optional.txt (line 3)) (2.0)\n",
      "Requirement already satisfied: motmetrics>=1.2 in /Users/tommy/opt/anaconda3/envs/open-mmlab/lib/python3.7/site-packages (from poseval@ git+https://github.com/svenkreiss/poseval.git->-r requirements/optional.txt (line 4)) (1.2.5)\n",
      "Requirement already satisfied: shapely in /Users/tommy/opt/anaconda3/envs/open-mmlab/lib/python3.7/site-packages (from poseval@ git+https://github.com/svenkreiss/poseval.git->-r requirements/optional.txt (line 4)) (1.8.0)\n",
      "Requirement already satisfied: tqdm in /Users/tommy/opt/anaconda3/envs/open-mmlab/lib/python3.7/site-packages (from poseval@ git+https://github.com/svenkreiss/poseval.git->-r requirements/optional.txt (line 4)) (4.64.0)\n",
      "Requirement already satisfied: freetype-py in /Users/tommy/opt/anaconda3/envs/open-mmlab/lib/python3.7/site-packages (from pyrender->-r requirements/optional.txt (line 5)) (2.3.0)\n",
      "Requirement already satisfied: imageio in /Users/tommy/opt/anaconda3/envs/open-mmlab/lib/python3.7/site-packages (from pyrender->-r requirements/optional.txt (line 5)) (2.13.2)\n",
      "Requirement already satisfied: pyglet>=1.4.10 in /Users/tommy/opt/anaconda3/envs/open-mmlab/lib/python3.7/site-packages (from pyrender->-r requirements/optional.txt (line 5)) (1.5.26)\n",
      "Requirement already satisfied: networkx in /Users/tommy/opt/anaconda3/envs/open-mmlab/lib/python3.7/site-packages (from pyrender->-r requirements/optional.txt (line 5)) (2.6.3)\n",
      "Requirement already satisfied: PyOpenGL==3.1.0 in /Users/tommy/opt/anaconda3/envs/open-mmlab/lib/python3.7/site-packages (from pyrender->-r requirements/optional.txt (line 5)) (3.1.0)\n",
      "Requirement already satisfied: urllib3<1.27,>=1.21.1 in /Users/tommy/opt/anaconda3/envs/open-mmlab/lib/python3.7/site-packages (from requests->-r requirements/optional.txt (line 6)) (1.26.7)\n",
      "Requirement already satisfied: certifi>=2017.4.17 in /Users/tommy/opt/anaconda3/envs/open-mmlab/lib/python3.7/site-packages (from requests->-r requirements/optional.txt (line 6)) (2021.10.8)\n",
      "Requirement already satisfied: idna<4,>=2.5 in /Users/tommy/opt/anaconda3/envs/open-mmlab/lib/python3.7/site-packages (from requests->-r requirements/optional.txt (line 6)) (3.3)\n",
      "Requirement already satisfied: charset-normalizer~=2.0.0 in /Users/tommy/opt/anaconda3/envs/open-mmlab/lib/python3.7/site-packages (from requests->-r requirements/optional.txt (line 6)) (2.0.9)\n",
      "Requirement already satisfied: zipp>=0.5 in /Users/tommy/opt/anaconda3/envs/open-mmlab/lib/python3.7/site-packages (from importlib-metadata<4.3->flake8->-r requirements/tests.txt (line 2)) (3.6.0)\n",
      "Requirement already satisfied: pandas>=0.23.1 in /Users/tommy/opt/anaconda3/envs/open-mmlab/lib/python3.7/site-packages (from motmetrics>=1.2->poseval@ git+https://github.com/svenkreiss/poseval.git->-r requirements/optional.txt (line 4)) (1.3.4)\n",
      "Requirement already satisfied: xmltodict>=0.12.0 in /Users/tommy/opt/anaconda3/envs/open-mmlab/lib/python3.7/site-packages (from motmetrics>=1.2->poseval@ git+https://github.com/svenkreiss/poseval.git->-r requirements/optional.txt (line 4)) (0.13.0)\n",
      "Requirement already satisfied: scikit-learn>=0.19.1 in /Users/tommy/opt/anaconda3/envs/open-mmlab/lib/python3.7/site-packages (from qudida>=0.0.4->albumentations>=0.3.2->-r requirements/optional.txt (line 1)) (1.0.2)\n",
      "Requirement already satisfied: tifffile>=2019.7.26 in /Users/tommy/opt/anaconda3/envs/open-mmlab/lib/python3.7/site-packages (from scikit-image>=0.16.1->albumentations>=0.3.2->-r requirements/optional.txt (line 1)) (2021.11.2)\n",
      "Requirement already satisfied: PyWavelets>=1.1.1 in /Users/tommy/opt/anaconda3/envs/open-mmlab/lib/python3.7/site-packages (from scikit-image>=0.16.1->albumentations>=0.3.2->-r requirements/optional.txt (line 1)) (1.2.0)\n",
      "Requirement already satisfied: tomli>=1.0.0 in /Users/tommy/opt/anaconda3/envs/open-mmlab/lib/python3.7/site-packages (from setuptools-scm>=4->matplotlib->-r requirements/runtime.txt (line 4)) (1.2.2)\n",
      "Requirement already satisfied: pytz>=2017.3 in /Users/tommy/opt/anaconda3/envs/open-mmlab/lib/python3.7/site-packages (from pandas>=0.23.1->motmetrics>=1.2->poseval@ git+https://github.com/svenkreiss/poseval.git->-r requirements/optional.txt (line 4)) (2021.3)\n",
      "Requirement already satisfied: joblib>=0.11 in /Users/tommy/opt/anaconda3/envs/open-mmlab/lib/python3.7/site-packages (from scikit-learn>=0.19.1->qudida>=0.0.4->albumentations>=0.3.2->-r requirements/optional.txt (line 1)) (1.1.0)\n",
      "Requirement already satisfied: threadpoolctl>=2.0.0 in /Users/tommy/opt/anaconda3/envs/open-mmlab/lib/python3.7/site-packages (from scikit-learn>=0.19.1->qudida>=0.0.4->albumentations>=0.3.2->-r requirements/optional.txt (line 1)) (3.1.0)\n"
     ]
    }
   ],
   "source": [
    "!pip install -r requirements.txt"
   ]
  },
  {
   "cell_type": "code",
   "execution_count": 6,
   "id": "f92cdc54",
   "metadata": {},
   "outputs": [
    {
     "name": "stdout",
     "output_type": "stream",
     "text": [
      "Looking in indexes: https://mirrors.aliyun.com/pypi/simple/\n",
      "Obtaining file:///Users/tommy/Desktop/%E4%B8%8A%E6%B5%B7%E4%BA%BA%E5%B7%A5%E6%99%BA%E8%83%BD%E5%AE%9E%E9%AA%8C%E5%AE%A4/mmpose/%E6%91%84%E5%83%8F%E5%A4%B4%E5%AE%9E%E6%97%B6demo/mmpose\n",
      "  Preparing metadata (setup.py) ... \u001b[?25ldone\n",
      "\u001b[?25hRequirement already satisfied: chumpy in /Users/tommy/opt/anaconda3/envs/open-mmlab/lib/python3.7/site-packages (from mmpose==0.28.0) (0.70)\n",
      "Requirement already satisfied: json_tricks in /Users/tommy/opt/anaconda3/envs/open-mmlab/lib/python3.7/site-packages (from mmpose==0.28.0) (3.15.5)\n",
      "Requirement already satisfied: matplotlib in /Users/tommy/opt/anaconda3/envs/open-mmlab/lib/python3.7/site-packages (from mmpose==0.28.0) (3.5.0)\n",
      "Requirement already satisfied: munkres in /Users/tommy/opt/anaconda3/envs/open-mmlab/lib/python3.7/site-packages (from mmpose==0.28.0) (1.1.4)\n",
      "Requirement already satisfied: numpy in /Users/tommy/opt/anaconda3/envs/open-mmlab/lib/python3.7/site-packages (from mmpose==0.28.0) (1.21.6)\n",
      "Requirement already satisfied: opencv-python in /Users/tommy/opt/anaconda3/envs/open-mmlab/lib/python3.7/site-packages (from mmpose==0.28.0) (4.5.4.60)\n",
      "Requirement already satisfied: pillow in /Users/tommy/opt/anaconda3/envs/open-mmlab/lib/python3.7/site-packages (from mmpose==0.28.0) (8.4.0)\n",
      "Requirement already satisfied: scipy in /Users/tommy/opt/anaconda3/envs/open-mmlab/lib/python3.7/site-packages (from mmpose==0.28.0) (1.7.3)\n",
      "Requirement already satisfied: torchvision in /Users/tommy/opt/anaconda3/envs/open-mmlab/lib/python3.7/site-packages (from mmpose==0.28.0) (0.11.1)\n",
      "Requirement already satisfied: xtcocotools>=1.12 in /Users/tommy/opt/anaconda3/envs/open-mmlab/lib/python3.7/site-packages (from mmpose==0.28.0) (1.12)\n",
      "Requirement already satisfied: setuptools>=18.0 in /Users/tommy/opt/anaconda3/envs/open-mmlab/lib/python3.7/site-packages (from xtcocotools>=1.12->mmpose==0.28.0) (59.4.0)\n",
      "Requirement already satisfied: cython>=0.27.3 in /Users/tommy/opt/anaconda3/envs/open-mmlab/lib/python3.7/site-packages (from xtcocotools>=1.12->mmpose==0.28.0) (0.29.25)\n",
      "Requirement already satisfied: python-dateutil>=2.7 in /Users/tommy/opt/anaconda3/envs/open-mmlab/lib/python3.7/site-packages (from matplotlib->mmpose==0.28.0) (2.8.2)\n",
      "Requirement already satisfied: kiwisolver>=1.0.1 in /Users/tommy/opt/anaconda3/envs/open-mmlab/lib/python3.7/site-packages (from matplotlib->mmpose==0.28.0) (1.3.2)\n",
      "Requirement already satisfied: fonttools>=4.22.0 in /Users/tommy/opt/anaconda3/envs/open-mmlab/lib/python3.7/site-packages (from matplotlib->mmpose==0.28.0) (4.28.3)\n",
      "Requirement already satisfied: cycler>=0.10 in /Users/tommy/opt/anaconda3/envs/open-mmlab/lib/python3.7/site-packages (from matplotlib->mmpose==0.28.0) (0.11.0)\n",
      "Requirement already satisfied: setuptools-scm>=4 in /Users/tommy/opt/anaconda3/envs/open-mmlab/lib/python3.7/site-packages (from matplotlib->mmpose==0.28.0) (6.3.2)\n",
      "Requirement already satisfied: pyparsing>=2.2.1 in /Users/tommy/opt/anaconda3/envs/open-mmlab/lib/python3.7/site-packages (from matplotlib->mmpose==0.28.0) (3.0.6)\n",
      "Requirement already satisfied: packaging>=20.0 in /Users/tommy/opt/anaconda3/envs/open-mmlab/lib/python3.7/site-packages (from matplotlib->mmpose==0.28.0) (21.3)\n",
      "Requirement already satisfied: six>=1.11.0 in /Users/tommy/opt/anaconda3/envs/open-mmlab/lib/python3.7/site-packages (from chumpy->mmpose==0.28.0) (1.16.0)\n",
      "Requirement already satisfied: torch in /Users/tommy/opt/anaconda3/envs/open-mmlab/lib/python3.7/site-packages (from torchvision->mmpose==0.28.0) (1.10.0)\n",
      "Requirement already satisfied: tomli>=1.0.0 in /Users/tommy/opt/anaconda3/envs/open-mmlab/lib/python3.7/site-packages (from setuptools-scm>=4->matplotlib->mmpose==0.28.0) (1.2.2)\n",
      "Requirement already satisfied: typing_extensions in /Users/tommy/opt/anaconda3/envs/open-mmlab/lib/python3.7/site-packages (from torch->torchvision->mmpose==0.28.0) (4.0.1)\n",
      "Installing collected packages: mmpose\n",
      "  Running setup.py develop for mmpose\n",
      "Successfully installed mmpose-0.28.0\n"
     ]
    }
   ],
   "source": [
    "# Mac电脑\n",
    "!CC=clang CXX=clang++ CFLAGS='-stdlib=libc++' pip install -e ."
   ]
  },
  {
   "cell_type": "code",
   "execution_count": 7,
   "id": "b26657f6",
   "metadata": {},
   "outputs": [
    {
     "name": "stdout",
     "output_type": "stream",
     "text": [
      "Using pip 21.3.1 from /Users/tommy/opt/anaconda3/envs/open-mmlab/lib/python3.7/site-packages/pip (python 3.7)\n",
      "Looking in indexes: https://mirrors.aliyun.com/pypi/simple/\n",
      "Obtaining file:///Users/tommy/Desktop/%E4%B8%8A%E6%B5%B7%E4%BA%BA%E5%B7%A5%E6%99%BA%E8%83%BD%E5%AE%9E%E9%AA%8C%E5%AE%A4/mmpose/%E6%91%84%E5%83%8F%E5%A4%B4%E5%AE%9E%E6%97%B6demo/mmpose\n",
      "  Running command python setup.py egg_info\n",
      "  running egg_info\n",
      "  creating /private/var/folders/ly/mdyk3b_d1r39hm00y4s1yk1m0000gn/T/pip-pip-egg-info-089cvix8/mmpose.egg-info\n",
      "  writing /private/var/folders/ly/mdyk3b_d1r39hm00y4s1yk1m0000gn/T/pip-pip-egg-info-089cvix8/mmpose.egg-info/PKG-INFO\n",
      "  writing dependency_links to /private/var/folders/ly/mdyk3b_d1r39hm00y4s1yk1m0000gn/T/pip-pip-egg-info-089cvix8/mmpose.egg-info/dependency_links.txt\n",
      "  writing requirements to /private/var/folders/ly/mdyk3b_d1r39hm00y4s1yk1m0000gn/T/pip-pip-egg-info-089cvix8/mmpose.egg-info/requires.txt\n",
      "  writing top-level names to /private/var/folders/ly/mdyk3b_d1r39hm00y4s1yk1m0000gn/T/pip-pip-egg-info-089cvix8/mmpose.egg-info/top_level.txt\n",
      "  writing manifest file '/private/var/folders/ly/mdyk3b_d1r39hm00y4s1yk1m0000gn/T/pip-pip-egg-info-089cvix8/mmpose.egg-info/SOURCES.txt'\n",
      "  reading manifest template 'MANIFEST.in'\n",
      "  adding license file 'LICENSE'\n",
      "  writing manifest file '/private/var/folders/ly/mdyk3b_d1r39hm00y4s1yk1m0000gn/T/pip-pip-egg-info-089cvix8/mmpose.egg-info/SOURCES.txt'\n",
      "  Preparing metadata (setup.py) ... \u001b[?25l\u001b[?25hdone\n",
      "Requirement already satisfied: chumpy in /Users/tommy/opt/anaconda3/envs/open-mmlab/lib/python3.7/site-packages (from mmpose==0.28.0) (0.70)\n",
      "Requirement already satisfied: json_tricks in /Users/tommy/opt/anaconda3/envs/open-mmlab/lib/python3.7/site-packages (from mmpose==0.28.0) (3.15.5)\n",
      "Requirement already satisfied: matplotlib in /Users/tommy/opt/anaconda3/envs/open-mmlab/lib/python3.7/site-packages (from mmpose==0.28.0) (3.5.0)\n",
      "Requirement already satisfied: munkres in /Users/tommy/opt/anaconda3/envs/open-mmlab/lib/python3.7/site-packages (from mmpose==0.28.0) (1.1.4)\n",
      "Requirement already satisfied: numpy in /Users/tommy/opt/anaconda3/envs/open-mmlab/lib/python3.7/site-packages (from mmpose==0.28.0) (1.21.6)\n",
      "Requirement already satisfied: opencv-python in /Users/tommy/opt/anaconda3/envs/open-mmlab/lib/python3.7/site-packages (from mmpose==0.28.0) (4.5.4.60)\n",
      "Requirement already satisfied: pillow in /Users/tommy/opt/anaconda3/envs/open-mmlab/lib/python3.7/site-packages (from mmpose==0.28.0) (8.4.0)\n",
      "Requirement already satisfied: scipy in /Users/tommy/opt/anaconda3/envs/open-mmlab/lib/python3.7/site-packages (from mmpose==0.28.0) (1.7.3)\n",
      "Requirement already satisfied: torchvision in /Users/tommy/opt/anaconda3/envs/open-mmlab/lib/python3.7/site-packages (from mmpose==0.28.0) (0.11.1)\n",
      "Requirement already satisfied: xtcocotools>=1.12 in /Users/tommy/opt/anaconda3/envs/open-mmlab/lib/python3.7/site-packages (from mmpose==0.28.0) (1.12)\n",
      "Requirement already satisfied: cython>=0.27.3 in /Users/tommy/opt/anaconda3/envs/open-mmlab/lib/python3.7/site-packages (from xtcocotools>=1.12->mmpose==0.28.0) (0.29.25)\n",
      "Requirement already satisfied: setuptools>=18.0 in /Users/tommy/opt/anaconda3/envs/open-mmlab/lib/python3.7/site-packages (from xtcocotools>=1.12->mmpose==0.28.0) (59.4.0)\n",
      "Requirement already satisfied: fonttools>=4.22.0 in /Users/tommy/opt/anaconda3/envs/open-mmlab/lib/python3.7/site-packages (from matplotlib->mmpose==0.28.0) (4.28.3)\n",
      "Requirement already satisfied: python-dateutil>=2.7 in /Users/tommy/opt/anaconda3/envs/open-mmlab/lib/python3.7/site-packages (from matplotlib->mmpose==0.28.0) (2.8.2)\n",
      "Requirement already satisfied: setuptools-scm>=4 in /Users/tommy/opt/anaconda3/envs/open-mmlab/lib/python3.7/site-packages (from matplotlib->mmpose==0.28.0) (6.3.2)\n",
      "Requirement already satisfied: pyparsing>=2.2.1 in /Users/tommy/opt/anaconda3/envs/open-mmlab/lib/python3.7/site-packages (from matplotlib->mmpose==0.28.0) (3.0.6)\n",
      "Requirement already satisfied: cycler>=0.10 in /Users/tommy/opt/anaconda3/envs/open-mmlab/lib/python3.7/site-packages (from matplotlib->mmpose==0.28.0) (0.11.0)\n",
      "Requirement already satisfied: kiwisolver>=1.0.1 in /Users/tommy/opt/anaconda3/envs/open-mmlab/lib/python3.7/site-packages (from matplotlib->mmpose==0.28.0) (1.3.2)\n",
      "Requirement already satisfied: packaging>=20.0 in /Users/tommy/opt/anaconda3/envs/open-mmlab/lib/python3.7/site-packages (from matplotlib->mmpose==0.28.0) (21.3)\n",
      "Requirement already satisfied: six>=1.11.0 in /Users/tommy/opt/anaconda3/envs/open-mmlab/lib/python3.7/site-packages (from chumpy->mmpose==0.28.0) (1.16.0)\n",
      "Requirement already satisfied: torch in /Users/tommy/opt/anaconda3/envs/open-mmlab/lib/python3.7/site-packages (from torchvision->mmpose==0.28.0) (1.10.0)\n",
      "Requirement already satisfied: tomli>=1.0.0 in /Users/tommy/opt/anaconda3/envs/open-mmlab/lib/python3.7/site-packages (from setuptools-scm>=4->matplotlib->mmpose==0.28.0) (1.2.2)\n",
      "Requirement already satisfied: typing_extensions in /Users/tommy/opt/anaconda3/envs/open-mmlab/lib/python3.7/site-packages (from torch->torchvision->mmpose==0.28.0) (4.0.1)\n",
      "Installing collected packages: mmpose\n",
      "  Attempting uninstall: mmpose\n",
      "    Found existing installation: mmpose 0.28.0\n",
      "    Uninstalling mmpose-0.28.0:\n",
      "      Removing file or directory /Users/tommy/opt/anaconda3/envs/open-mmlab/lib/python3.7/site-packages/mmpose.egg-link\n",
      "      Removing pth entries from /Users/tommy/opt/anaconda3/envs/open-mmlab/lib/python3.7/site-packages/easy-install.pth:\n",
      "      Removing entry: /Users/tommy/Desktop/上海人工智能实验室/mmpose/摄像头实时demo/mmpose\n",
      "      Successfully uninstalled mmpose-0.28.0\n",
      "  Running setup.py develop for mmpose\n",
      "    Running command /Users/tommy/opt/anaconda3/envs/open-mmlab/bin/python3.7 -c 'import io, os, sys, setuptools, tokenize; sys.argv[0] = '\"'\"'/Users/tommy/Desktop/上海人工智能实验室/mmpose/摄像头实时demo/mmpose/setup.py'\"'\"'; __file__='\"'\"'/Users/tommy/Desktop/上海人工智能实验室/mmpose/摄像头实时demo/mmpose/setup.py'\"'\"';f = getattr(tokenize, '\"'\"'open'\"'\"', open)(__file__) if os.path.exists(__file__) else io.StringIO('\"'\"'from setuptools import setup; setup()'\"'\"');code = f.read().replace('\"'\"'\\r\\n'\"'\"', '\"'\"'\\n'\"'\"');f.close();exec(compile(code, __file__, '\"'\"'exec'\"'\"'))' develop --no-deps\n",
      "    running develop\n",
      "    running egg_info\n",
      "    writing mmpose.egg-info/PKG-INFO\n",
      "    writing dependency_links to mmpose.egg-info/dependency_links.txt\n",
      "    writing requirements to mmpose.egg-info/requires.txt\n",
      "    writing top-level names to mmpose.egg-info/top_level.txt\n",
      "    reading manifest template 'MANIFEST.in'\n",
      "    adding license file 'LICENSE'\n",
      "    writing manifest file 'mmpose.egg-info/SOURCES.txt'\n",
      "    running build_ext\n",
      "    Creating /Users/tommy/opt/anaconda3/envs/open-mmlab/lib/python3.7/site-packages/mmpose.egg-link (link to .)\n",
      "    Adding mmpose 0.28.0 to easy-install.pth file\n",
      "\n",
      "    Installed /Users/tommy/Desktop/上海人工智能实验室/mmpose/摄像头实时demo/mmpose\n",
      "    /Users/tommy/opt/anaconda3/envs/open-mmlab/lib/python3.7/site-packages/setuptools/command/easy_install.py:159: EasyInstallDeprecationWarning: easy_install command is deprecated. Use build and pip and other standards-based tools.\n",
      "      EasyInstallDeprecationWarning,\n",
      "    /Users/tommy/opt/anaconda3/envs/open-mmlab/lib/python3.7/site-packages/setuptools/command/install.py:37: SetuptoolsDeprecationWarning: setup.py install is deprecated. Use build and pip and other standards-based tools.\n",
      "      setuptools.SetuptoolsDeprecationWarning,\n",
      "Successfully installed mmpose-0.28.0\n"
     ]
    }
   ],
   "source": [
    "!pip install -v -e ."
   ]
  },
  {
   "cell_type": "markdown",
   "id": "879abc8d",
   "metadata": {},
   "source": [
    "## 从Github下载最新版 mmpose-webcam-demo"
   ]
  },
  {
   "cell_type": "code",
   "execution_count": 1,
   "id": "1736f835",
   "metadata": {},
   "outputs": [
    {
     "name": "stdout",
     "output_type": "stream",
     "text": [
      "Cloning into 'mmpose-webcam-demo'...\n",
      "remote: Enumerating objects: 132, done.\u001b[K\n",
      "remote: Counting objects: 100% (132/132), done.\u001b[K\n",
      "remote: Compressing objects: 100% (78/78), done.\u001b[K\n",
      "remote: Total 132 (delta 63), reused 117 (delta 50), pack-reused 0\u001b[K\n",
      "Receiving objects: 100% (132/132), 88.37 KiB | 655.00 KiB/s, done.\n",
      "Resolving deltas: 100% (63/63), done.\n"
     ]
    }
   ],
   "source": [
    "!git clone https://github.com/open-mmlab/mmpose-webcam-demo.git"
   ]
  },
  {
   "cell_type": "markdown",
   "id": "ccadb0d3",
   "metadata": {},
   "source": [
    "## 验证安装成功"
   ]
  },
  {
   "cell_type": "code",
   "execution_count": 8,
   "id": "f8960c9c",
   "metadata": {},
   "outputs": [],
   "source": [
    "import mmpose"
   ]
  },
  {
   "cell_type": "code",
   "execution_count": 9,
   "id": "06ea0b77",
   "metadata": {},
   "outputs": [
    {
     "data": {
      "text/plain": [
       "'0.28.0'"
      ]
     },
     "execution_count": 9,
     "metadata": {},
     "output_type": "execute_result"
    }
   ],
   "source": [
    "mmpose.__version__"
   ]
  },
  {
   "cell_type": "code",
   "execution_count": null,
   "id": "a764e3db",
   "metadata": {},
   "outputs": [],
   "source": []
  }
 ],
 "metadata": {
  "kernelspec": {
   "display_name": "Python 3 (ipykernel)",
   "language": "python",
   "name": "python3"
  },
  "language_info": {
   "codemirror_mode": {
    "name": "ipython",
    "version": 3
   },
   "file_extension": ".py",
   "mimetype": "text/x-python",
   "name": "python",
   "nbconvert_exporter": "python",
   "pygments_lexer": "ipython3",
   "version": "3.7.12"
  }
 },
 "nbformat": 4,
 "nbformat_minor": 5
}
