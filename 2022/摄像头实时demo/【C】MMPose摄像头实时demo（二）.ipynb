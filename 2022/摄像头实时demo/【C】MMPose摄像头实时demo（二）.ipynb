{
 "cells": [
  {
   "cell_type": "markdown",
   "id": "dd99676d",
   "metadata": {},
   "source": [
    "# MMPose摄像头实时demo\n",
    "\n",
    "同济子豪兄 2022-7-6\n",
    "\n",
    "参考文档：https://github.com/open-mmlab/mmpose-webcam-demo"
   ]
  },
  {
   "cell_type": "markdown",
   "id": "b06e72e5",
   "metadata": {},
   "source": [
    "## 进入 mmpose-webcam-demo 主目录"
   ]
  },
  {
   "cell_type": "code",
   "execution_count": 1,
   "id": "e01076a8",
   "metadata": {},
   "outputs": [],
   "source": [
    "import os\n",
    "os.chdir('mmpose-webcam-demo')"
   ]
  },
  {
   "cell_type": "markdown",
   "id": "b869e196",
   "metadata": {},
   "source": [
    "## 人体+人脸+人手关键点检测"
   ]
  },
  {
   "cell_type": "code",
   "execution_count": null,
   "id": "82bef8e9",
   "metadata": {},
   "outputs": [
    {
     "name": "stdout",
     "output_type": "stream",
     "text": [
      "load checkpoint from http path: https://download.openmmlab.com/mmdetection/v2.0/ssd/ssdlite_mobilenetv2_scratch_600e_coco/ssdlite_mobilenetv2_scratch_600e_coco_20210629_110627-974d9307.pth\n",
      "load checkpoint from http path: https://download.openmmlab.com/mmpose/top_down/vipnas/vipnas_mbv3_coco_wholebody_256x192_dark-e2158108_20211205.pth\n",
      "load checkpoint from http path: https://download.openmmlab.com/mmpose/animal/hrnet/hrnet_w32_animalpose_256x256-1aa7f075_20210426.pth\n",
      "/Users/tommy/opt/anaconda3/envs/open-mmlab/lib/python3.7/site-packages/mmdet/datasets/utils.py:69: UserWarning: \"ImageToTensor\" pipeline is replaced by \"DefaultFormatBundle\" for batch inference. It is recommended to manually replace it in the test data pipeline in your config file.\n",
      "  'data pipeline in your config file.', UserWarning)\n",
      "/Users/tommy/opt/anaconda3/envs/open-mmlab/lib/python3.7/site-packages/numpy/core/fromnumeric.py:3441: RuntimeWarning: Mean of empty slice.\n",
      "  out=out, **kwargs)\n",
      "/Users/tommy/opt/anaconda3/envs/open-mmlab/lib/python3.7/site-packages/numpy/core/_methods.py:189: RuntimeWarning: invalid value encountered in double_scalars\n",
      "  ret = ret.dtype.type(ret / rcount)\n"
     ]
    }
   ],
   "source": [
    "!python3 run.py --config configs/examples/pose_estimation/pose_estimation.py --cpu"
   ]
  },
  {
   "cell_type": "markdown",
   "id": "7d318b60",
   "metadata": {},
   "source": [
    "## 冰墩墩"
   ]
  },
  {
   "cell_type": "code",
   "execution_count": 2,
   "id": "ad9a7827",
   "metadata": {},
   "outputs": [
    {
     "name": "stdout",
     "output_type": "stream",
     "text": [
      "load checkpoint from http path: https://download.openmmlab.com/mmdetection/v2.0/ssd/ssdlite_mobilenetv2_scratch_600e_coco/ssdlite_mobilenetv2_scratch_600e_coco_20210629_110627-974d9307.pth\n",
      "load checkpoint from http path: https://download.openmmlab.com/mmpose/animal/hrnet/hrnet_w32_ap10k_256x256-18aac840_20211029.pth\n",
      "load checkpoint from http path: https://download.openmmlab.com/mmpose/top_down/vipnas/vipnas_mbv3_coco_wholebody_256x192_dark-e2158108_20211205.pth\n",
      "/Users/tommy/opt/anaconda3/envs/open-mmlab/lib/python3.7/site-packages/mmdet/datasets/utils.py:69: UserWarning: \"ImageToTensor\" pipeline is replaced by \"DefaultFormatBundle\" for batch inference. It is recommended to manually replace it in the test data pipeline in your config file.\n",
      "  'data pipeline in your config file.', UserWarning)\n",
      "/Users/tommy/opt/anaconda3/envs/open-mmlab/lib/python3.7/site-packages/numpy/core/fromnumeric.py:3441: RuntimeWarning: Mean of empty slice.\n",
      "  out=out, **kwargs)\n",
      "/Users/tommy/opt/anaconda3/envs/open-mmlab/lib/python3.7/site-packages/numpy/core/_methods.py:189: RuntimeWarning: invalid value encountered in double_scalars\n",
      "  ret = ret.dtype.type(ret / rcount)\n",
      "/Users/tommy/Desktop/上海人工智能实验室/mmpose/摄像头实时demo/mmpose/mmpose/core/post_processing/smoother.py:176: UserWarning: Smoother received empty result.\n",
      "  warnings.warn('Smoother received empty result.')\n"
     ]
    }
   ],
   "source": [
    "!python3 run.py --config configs/examples/bing_dwen_dwen/bing_dwen_dwen.py --cpu"
   ]
  },
  {
   "cell_type": "markdown",
   "id": "237be081",
   "metadata": {},
   "source": [
    "## 新年特效"
   ]
  },
  {
   "cell_type": "code",
   "execution_count": 2,
   "id": "17437f5b",
   "metadata": {},
   "outputs": [
    {
     "name": "stdout",
     "output_type": "stream",
     "text": [
      "load checkpoint from http path: https://download.openmmlab.com/mmdetection/v2.0/ssd/ssdlite_mobilenetv2_scratch_600e_coco/ssdlite_mobilenetv2_scratch_600e_coco_20210629_110627-974d9307.pth\n",
      "load checkpoint from http path: https://download.openmmlab.com/mmpose/top_down/vipnas/vipnas_mbv3_coco_wholebody_256x192_dark-e2158108_20211205.pth\n",
      "load checkpoint from http path: https://download.openmmlab.com/mmpose/animal/hrnet/hrnet_w32_animalpose_256x256-1aa7f075_20210426.pth\n",
      "/Users/tommy/opt/anaconda3/envs/open-mmlab/lib/python3.7/site-packages/mmdet/datasets/utils.py:69: UserWarning: \"ImageToTensor\" pipeline is replaced by \"DefaultFormatBundle\" for batch inference. It is recommended to manually replace it in the test data pipeline in your config file.\n",
      "  'data pipeline in your config file.', UserWarning)\n",
      "/Users/tommy/opt/anaconda3/envs/open-mmlab/lib/python3.7/site-packages/numpy/core/fromnumeric.py:3441: RuntimeWarning: Mean of empty slice.\n",
      "  out=out, **kwargs)\n",
      "/Users/tommy/opt/anaconda3/envs/open-mmlab/lib/python3.7/site-packages/numpy/core/_methods.py:189: RuntimeWarning: invalid value encountered in double_scalars\n",
      "  ret = ret.dtype.type(ret / rcount)\n"
     ]
    }
   ],
   "source": [
    "!python3 run.py --config configs/examples/new_year/new_year.py --cpu"
   ]
  },
  {
   "cell_type": "markdown",
   "id": "141bc389",
   "metadata": {},
   "source": [
    "## 情人节特效"
   ]
  },
  {
   "cell_type": "code",
   "execution_count": null,
   "id": "fcbd7285",
   "metadata": {},
   "outputs": [
    {
     "name": "stdout",
     "output_type": "stream",
     "text": [
      "load checkpoint from http path: https://download.openmmlab.com/mmdetection/v2.0/ssd/ssdlite_mobilenetv2_scratch_600e_coco/ssdlite_mobilenetv2_scratch_600e_coco_20210629_110627-974d9307.pth\n",
      "load checkpoint from http path: https://download.openmmlab.com/mmpose/top_down/vipnas/vipnas_mbv3_coco_wholebody_256x192_dark-e2158108_20211205.pth\n",
      "/Users/tommy/opt/anaconda3/envs/open-mmlab/lib/python3.7/site-packages/mmdet/datasets/utils.py:69: UserWarning: \"ImageToTensor\" pipeline is replaced by \"DefaultFormatBundle\" for batch inference. It is recommended to manually replace it in the test data pipeline in your config file.\n",
      "  'data pipeline in your config file.', UserWarning)\n",
      "/Users/tommy/opt/anaconda3/envs/open-mmlab/lib/python3.7/site-packages/numpy/core/fromnumeric.py:3441: RuntimeWarning: Mean of empty slice.\n",
      "  out=out, **kwargs)\n",
      "/Users/tommy/opt/anaconda3/envs/open-mmlab/lib/python3.7/site-packages/numpy/core/_methods.py:189: RuntimeWarning: invalid value encountered in double_scalars\n",
      "  ret = ret.dtype.type(ret / rcount)\n",
      "/Users/tommy/Desktop/上海人工智能实验室/mmpose/mmpose/mmpose/core/post_processing/smoother.py:176: UserWarning: Smoother received empty result.\n",
      "  warnings.warn('Smoother received empty result.')\n"
     ]
    }
   ],
   "source": [
    "!python3 run.py --config configs/examples/valentine_magic/valentine_magic.py --cpu"
   ]
  },
  {
   "cell_type": "markdown",
   "id": "122d6cf1",
   "metadata": {},
   "source": [
    "## 换脸\n",
    "\n",
    "注意，本代码仅供教学科普娱乐，请勿用于作恶。"
   ]
  },
  {
   "cell_type": "code",
   "execution_count": 3,
   "id": "f5461ac5",
   "metadata": {},
   "outputs": [
    {
     "name": "stdout",
     "output_type": "stream",
     "text": [
      "load checkpoint from http path: https://download.openmmlab.com/mmdetection/v2.0/ssd/ssdlite_mobilenetv2_scratch_600e_coco/ssdlite_mobilenetv2_scratch_600e_coco_20210629_110627-974d9307.pth\n",
      "load checkpoint from http path: https://download.openmmlab.com/mmpose/top_down/vipnas/vipnas_mbv3_coco_wholebody_256x192_dark-e2158108_20211205.pth\n",
      "/Users/tommy/opt/anaconda3/envs/open-mmlab/lib/python3.7/site-packages/mmdet/datasets/utils.py:69: UserWarning: \"ImageToTensor\" pipeline is replaced by \"DefaultFormatBundle\" for batch inference. It is recommended to manually replace it in the test data pipeline in your config file.\n",
      "  'data pipeline in your config file.', UserWarning)\n",
      "/Users/tommy/opt/anaconda3/envs/open-mmlab/lib/python3.7/site-packages/numpy/core/fromnumeric.py:3441: RuntimeWarning: Mean of empty slice.\n",
      "  out=out, **kwargs)\n",
      "/Users/tommy/opt/anaconda3/envs/open-mmlab/lib/python3.7/site-packages/numpy/core/_methods.py:189: RuntimeWarning: invalid value encountered in double_scalars\n",
      "  ret = ret.dtype.type(ret / rcount)\n"
     ]
    }
   ],
   "source": [
    "!python3 run.py --config configs/examples/face_swap/face_swap.py --cpu"
   ]
  },
  {
   "cell_type": "code",
   "execution_count": null,
   "id": "ad558047",
   "metadata": {},
   "outputs": [],
   "source": []
  }
 ],
 "metadata": {
  "kernelspec": {
   "display_name": "Python 3 (ipykernel)",
   "language": "python",
   "name": "python3"
  },
  "language_info": {
   "codemirror_mode": {
    "name": "ipython",
    "version": 3
   },
   "file_extension": ".py",
   "mimetype": "text/x-python",
   "name": "python",
   "nbconvert_exporter": "python",
   "pygments_lexer": "ipython3",
   "version": "3.7.12"
  }
 },
 "nbformat": 4,
 "nbformat_minor": 5
}
