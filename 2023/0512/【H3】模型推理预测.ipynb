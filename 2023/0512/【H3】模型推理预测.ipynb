{
 "cells": [
  {
   "cell_type": "markdown",
   "id": "6da8d1fb-60f6-477c-ab2b-088cbc632c77",
   "metadata": {},
   "source": [
    "# 模型推理预测"
   ]
  },
  {
   "cell_type": "markdown",
   "id": "5e963096-6ef0-4cf7-9743-2a6ef35e11fc",
   "metadata": {},
   "source": [
    "## 下载推理预测脚本"
   ]
  },
  {
   "cell_type": "code",
   "execution_count": 3,
   "id": "8001a8c2-58fd-4c82-b059-d9457e8e3f88",
   "metadata": {},
   "outputs": [],
   "source": [
    "!rm -rf triangle_mmdeploy.py\n",
    "!wget https://zihao-openmmlab.obs.cn-east-3.myhuaweicloud.com/20220610-mmpose/triangle_dataset/webcam/triangle_mmdeploy.py"
   ]
  },
  {
   "cell_type": "markdown",
   "id": "b0f04cb1-4fa3-48b7-b1ec-a5b5f1df4c1f",
   "metadata": {},
   "source": [
    "## 视频文件预测"
   ]
  },
  {
   "cell_type": "code",
   "execution_count": 2,
   "id": "dc1844af-0ce2-425c-b882-6e29f624bbbb",
   "metadata": {},
   "outputs": [],
   "source": [
    "!python triangle_mmdeploy.py rtmdet2onnx rtmpose2onnx --file mmpose/data/test_triangle/triangle_9.mp4"
   ]
  },
  {
   "cell_type": "markdown",
   "id": "c119b4bd-000d-415b-b084-a66f37d9cc3a",
   "metadata": {},
   "source": [
    "## 摄像头实时预测"
   ]
  },
  {
   "cell_type": "code",
   "execution_count": null,
   "id": "004046c5-b632-4e32-8c2b-fefd37f1d1fa",
   "metadata": {},
   "outputs": [],
   "source": [
    "!python triangle_mmdeploy.py rtmdet2onnx rtmpose2onnx"
   ]
  },
  {
   "cell_type": "code",
   "execution_count": null,
   "id": "b1fef0ec-9420-4213-a193-1f14d6c5b014",
   "metadata": {},
   "outputs": [],
   "source": []
  }
 ],
 "metadata": {
  "kernelspec": {
   "display_name": "Python 3 (ipykernel)",
   "language": "python",
   "name": "python3"
  },
  "language_info": {
   "codemirror_mode": {
    "name": "ipython",
    "version": 3
   },
   "file_extension": ".py",
   "mimetype": "text/x-python",
   "name": "python",
   "nbconvert_exporter": "python",
   "pygments_lexer": "ipython3",
   "version": "3.7.10"
  }
 },
 "nbformat": 4,
 "nbformat_minor": 5
}
