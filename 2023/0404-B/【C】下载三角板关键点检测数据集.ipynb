{
 "cells": [
  {
   "cell_type": "markdown",
   "id": "65827da0-e3f9-4da1-bc9c-dec8ef42c5f5",
   "metadata": {},
   "source": [
    "# 下载三角板关键点检测数据集\n",
    "\n",
    "同济子豪兄 2023-4-3"
   ]
  },
  {
   "cell_type": "markdown",
   "id": "bb91a05b-5aa9-4027-bf0f-912b934d59cd",
   "metadata": {
    "tags": []
   },
   "source": [
    "## 进入 mmpose 主目录 或 mmdetection 主目录"
   ]
  },
  {
   "cell_type": "code",
   "execution_count": 1,
   "id": "185fb8f7-771b-4ac0-bd86-de663021412b",
   "metadata": {},
   "outputs": [],
   "source": [
    "import os\n",
    "os.chdir('mmpose')\n",
    "# os.chdir('mmdetection')"
   ]
  },
  {
   "cell_type": "markdown",
   "id": "d16cb5c3-1b43-4d2a-ba5d-af8f74c00c2e",
   "metadata": {},
   "source": [
    "## 下载数据集至`data`目录"
   ]
  },
  {
   "cell_type": "code",
   "execution_count": 2,
   "id": "abe084b5-e1b2-4074-a490-ae82f6f6ef46",
   "metadata": {},
   "outputs": [],
   "source": [
    "# 删除原有的数据集文件（如有）\n",
    "!rm -rf data/Triangle_140_Keypoint_Dataset data/Triangle_140_Keypoint_Dataset.zip"
   ]
  },
  {
   "cell_type": "code",
   "execution_count": 3,
   "id": "b663508f-6700-4a9a-a0a0-6e01373f4411",
   "metadata": {},
   "outputs": [
    {
     "name": "stdout",
     "output_type": "stream",
     "text": [
      "--2023-04-04 13:41:32--  http://wget/\n",
      "正在连接 172.16.0.13:5848... 已连接。\n",
      "已发出 Proxy 请求，正在等待回应... 502 Bad Gateway\n",
      "2023-04-04 13:41:32 错误 502：Bad Gateway。\n",
      "\n",
      "--2023-04-04 13:41:32--  https://zihao-openmmlab.obs.cn-east-3.myhuaweicloud.com/20220610-mmpose/triangle_dataset/Triangle_140_Keypoint_Dataset.zip\n",
      "正在连接 172.16.0.13:5848... 已连接。\n",
      "已发出 Proxy 请求，正在等待回应... 200 OK\n",
      "长度： 551582420 (526M) [application/zip]\n",
      "正在保存至: “data/Triangle_140_Keypoint_Dataset.zip”\n",
      "\n",
      "Triangle_140_Keypoi 100%[===================>] 526.03M  51.7MB/s    用时 10s     \n",
      "\n",
      "2023-04-04 13:41:43 (50.3 MB/s) - 已保存 “data/Triangle_140_Keypoint_Dataset.zip” [551582420/551582420])\n",
      "\n",
      "下载完毕 --2023-04-04 13:41:43--\n",
      "总用时：11s\n",
      "下载了：1 个文件，10s (50.3 MB/s) 中的 526M\n"
     ]
    }
   ],
   "source": [
    "# 下载数据集压缩包\n",
    "!wget wget https://zihao-openmmlab.obs.cn-east-3.myhuaweicloud.com/20220610-mmpose/triangle_dataset/Triangle_140_Keypoint_Dataset.zip -P data\n"
   ]
  },
  {
   "cell_type": "markdown",
   "id": "60a0683c-a93b-43e3-bea7-c2c57d5f1c92",
   "metadata": {},
   "source": [
    "## 下载用于测试的图像和视频"
   ]
  },
  {
   "cell_type": "code",
   "execution_count": 2,
   "id": "bbf22f49-892f-4cc8-b3ca-e5e71f4315e8",
   "metadata": {},
   "outputs": [],
   "source": [
    "!mkdir data/test_triangle"
   ]
  },
  {
   "cell_type": "code",
   "execution_count": 3,
   "id": "30e91855-3a6c-4eac-9914-5b27660e7e9d",
   "metadata": {},
   "outputs": [
    {
     "name": "stdout",
     "output_type": "stream",
     "text": [
      "--2023-04-04 13:48:57--  https://zihao-openmmlab.obs.myhuaweicloud.com/20220610-mmpose/triangle_dataset/test_img/triangle_1.jpg\n",
      "正在连接 172.16.0.13:5848... 已连接。\n",
      "已发出 Proxy 请求，正在等待回应... 200 OK\n",
      "长度： 1361630 (1.3M) [image/jpeg]\n",
      "正在保存至: “data/test_triangle/triangle_1.jpg”\n",
      "\n",
      "triangle_1.jpg      100%[===================>]   1.30M  4.57MB/s    用时 0.3s    \n",
      "\n",
      "2023-04-04 13:48:57 (4.57 MB/s) - 已保存 “data/test_triangle/triangle_1.jpg” [1361630/1361630])\n",
      "\n",
      "--2023-04-04 13:48:58--  https://zihao-openmmlab.obs.myhuaweicloud.com/20220610-mmpose/triangle_dataset/test_img/triangle_2.jpg\n",
      "正在连接 172.16.0.13:5848... 已连接。\n",
      "已发出 Proxy 请求，正在等待回应... 200 OK\n",
      "长度： 4653317 (4.4M) [image/jpeg]\n",
      "正在保存至: “data/test_triangle/triangle_2.jpg”\n",
      "\n",
      "triangle_2.jpg      100%[===================>]   4.44M  12.1MB/s    用时 0.4s    \n",
      "\n",
      "2023-04-04 13:48:58 (12.1 MB/s) - 已保存 “data/test_triangle/triangle_2.jpg” [4653317/4653317])\n",
      "\n",
      "--2023-04-04 13:48:58--  https://zihao-openmmlab.obs.myhuaweicloud.com/20220610-mmpose/triangle_dataset/test_img/triangle_3.jpg\n",
      "正在连接 172.16.0.13:5848... 已连接。\n",
      "已发出 Proxy 请求，正在等待回应... 200 OK\n",
      "长度： 865194 (845K) [image/jpeg]\n",
      "正在保存至: “data/test_triangle/triangle_3.jpg”\n",
      "\n",
      "triangle_3.jpg      100%[===================>] 844.92K  3.33MB/s    用时 0.2s    \n",
      "\n",
      "2023-04-04 13:48:59 (3.33 MB/s) - 已保存 “data/test_triangle/triangle_3.jpg” [865194/865194])\n",
      "\n",
      "--2023-04-04 13:48:59--  https://zihao-openmmlab.obs.myhuaweicloud.com/20220610-mmpose/triangle_dataset/videos/triangle_2.mov\n",
      "正在连接 172.16.0.13:5848... 已连接。\n",
      "已发出 Proxy 请求，正在等待回应... 200 OK\n",
      "长度： 29949823 (29M) [video/quicktime]\n",
      "正在保存至: “data/test_triangle/triangle_2.mov”\n",
      "\n",
      "triangle_2.mov      100%[===================>]  28.56M  38.0MB/s    用时 0.8s    \n",
      "\n",
      "2023-04-04 13:49:00 (38.0 MB/s) - 已保存 “data/test_triangle/triangle_2.mov” [29949823/29949823])\n",
      "\n",
      "--2023-04-04 13:49:00--  https://zihao-openmmlab.obs.myhuaweicloud.com/20220610-mmpose/triangle_dataset/videos/triangle_5.mov\n",
      "正在连接 172.16.0.13:5848... 已连接。\n",
      "已发出 Proxy 请求，正在等待回应... 200 OK\n",
      "长度： 20428086 (19M) [video/quicktime]\n",
      "正在保存至: “data/test_triangle/triangle_5.mov”\n",
      "\n",
      "triangle_5.mov      100%[===================>]  19.48M  32.7MB/s    用时 0.6s    \n",
      "\n",
      "2023-04-04 13:49:01 (32.7 MB/s) - 已保存 “data/test_triangle/triangle_5.mov” [20428086/20428086])\n",
      "\n"
     ]
    }
   ],
   "source": [
    "# 图像\n",
    "!wget https://zihao-openmmlab.obs.myhuaweicloud.com/20220610-mmpose/triangle_dataset/test_img/triangle_1.jpg -P data/test_triangle\n",
    "!wget https://zihao-openmmlab.obs.myhuaweicloud.com/20220610-mmpose/triangle_dataset/test_img/triangle_2.jpg -P data/test_triangle\n",
    "!wget https://zihao-openmmlab.obs.myhuaweicloud.com/20220610-mmpose/triangle_dataset/test_img/triangle_3.jpg -P data/test_triangle\n",
    "!wget https://zihao-openmmlab.obs.myhuaweicloud.com/20220610-mmpose/triangle_dataset/test_img/triangle_4.jpg -P data/test_triangle\n",
    "\n",
    "# 视频\n",
    "!wget https://zihao-openmmlab.obs.myhuaweicloud.com/20220610-mmpose/triangle_dataset/videos/triangle_6.mp4 -P data/test_triangle\n",
    "!wget https://zihao-openmmlab.obs.myhuaweicloud.com/20220610-mmpose/triangle_dataset/videos/triangle_7.mp4 -P data/test_triangle\n",
    "!wget https://zihao-openmmlab.obs.myhuaweicloud.com/20220610-mmpose/triangle_dataset/videos/triangle_9.mp4 -P data/test_triangle"
   ]
  },
  {
   "cell_type": "markdown",
   "id": "d44532ac-0937-405c-899a-e68adcdd32cd",
   "metadata": {},
   "source": [
    "## 解压数据集至`data`目录"
   ]
  },
  {
   "cell_type": "code",
   "execution_count": 6,
   "id": "7f81f573-6171-4c97-84ec-e5e092dc35cd",
   "metadata": {},
   "outputs": [],
   "source": [
    "!unzip data/Triangle_140_Keypoint_Dataset.zip -d data >> /dev/null\n",
    "!rm -rf data/Triangle_140_Keypoint_Dataset.zip # 删除压缩包"
   ]
  },
  {
   "cell_type": "markdown",
   "id": "e647bdbe-f3bb-458d-8574-d2f40e85ed16",
   "metadata": {},
   "source": [
    "## 查看数据集中的图片"
   ]
  },
  {
   "cell_type": "code",
   "execution_count": 7,
   "id": "0c06c724-64df-43c7-b1fd-1987e1db82f6",
   "metadata": {},
   "outputs": [],
   "source": [
    "# from PIL import Image\n",
    "# Image.open('data/Triangle_140_Keypoint_Dataset/images/DSC_0373.jpg')"
   ]
  },
  {
   "cell_type": "markdown",
   "id": "a8df8967-67a8-45c2-8e81-880ecaae1ab2",
   "metadata": {},
   "source": [
    "## 删除系统自动生成的多余文件\n",
    "\n",
    "建议在 Linux 系统中运行爬虫、划分训练集测试集代码"
   ]
  },
  {
   "cell_type": "markdown",
   "id": "48c0e95b-f383-4765-92e0-1c0359704b26",
   "metadata": {},
   "source": [
    "### 查看待删除的多余文件"
   ]
  },
  {
   "cell_type": "code",
   "execution_count": 8,
   "id": "a8356247-4b89-42e9-aa87-4c630f05e1f8",
   "metadata": {},
   "outputs": [],
   "source": [
    "!find . -iname '__MACOSX'"
   ]
  },
  {
   "cell_type": "code",
   "execution_count": 9,
   "id": "a1b64d9d-bdf8-43fe-8321-bb6d241137dc",
   "metadata": {},
   "outputs": [],
   "source": [
    "!find . -iname '.DS_Store'"
   ]
  },
  {
   "cell_type": "code",
   "execution_count": 10,
   "id": "a5f038c2-72ba-4724-a190-b2ec97d8bcf0",
   "metadata": {},
   "outputs": [
    {
     "name": "stdout",
     "output_type": "stream",
     "text": [
      "./data/.ipynb_checkpoints\n"
     ]
    }
   ],
   "source": [
    "!find . -iname '.ipynb_checkpoints'"
   ]
  },
  {
   "cell_type": "markdown",
   "id": "44bb281b-c851-4818-b0c8-49cabe62e925",
   "metadata": {},
   "source": [
    "### 删除多余文件"
   ]
  },
  {
   "cell_type": "code",
   "execution_count": 11,
   "id": "4bf04f95-0750-4248-8696-fa2aa4ff03e5",
   "metadata": {},
   "outputs": [],
   "source": [
    "!for i in `find . -iname '__MACOSX'`; do rm -rf $i;done"
   ]
  },
  {
   "cell_type": "code",
   "execution_count": 12,
   "id": "217b2325-835b-451c-89d7-3d39c5dfc5c2",
   "metadata": {},
   "outputs": [],
   "source": [
    "!for i in `find . -iname '.DS_Store'`; do rm -rf $i;done"
   ]
  },
  {
   "cell_type": "code",
   "execution_count": 13,
   "id": "cfb7afa4-106a-4e6a-ab35-86f0eb902432",
   "metadata": {},
   "outputs": [],
   "source": [
    "!for i in `find . -iname '.ipynb_checkpoints'`; do rm -rf $i;done"
   ]
  },
  {
   "cell_type": "markdown",
   "id": "c5591044-de11-4084-a830-a89d8bdc5b3a",
   "metadata": {},
   "source": [
    "### 验证多余文件已删除"
   ]
  },
  {
   "cell_type": "code",
   "execution_count": 14,
   "id": "33239471-a70e-426d-beba-3517c14311e6",
   "metadata": {},
   "outputs": [],
   "source": [
    "!find . -iname '__MACOSX'"
   ]
  },
  {
   "cell_type": "code",
   "execution_count": 15,
   "id": "f82a7703-8b94-4103-9672-ec29849616b9",
   "metadata": {},
   "outputs": [],
   "source": [
    "!find . -iname '.DS_Store'"
   ]
  },
  {
   "cell_type": "code",
   "execution_count": 16,
   "id": "0101460a-d0bc-4388-aa0b-d30b0f0ef538",
   "metadata": {},
   "outputs": [],
   "source": [
    "!find . -iname '.ipynb_checkpoints'"
   ]
  },
  {
   "cell_type": "code",
   "execution_count": null,
   "id": "8243b592-b03d-48f2-958b-19cc380e8a1f",
   "metadata": {},
   "outputs": [],
   "source": []
  }
 ],
 "metadata": {
  "kernelspec": {
   "display_name": "Python 3 (ipykernel)",
   "language": "python",
   "name": "python3"
  },
  "language_info": {
   "codemirror_mode": {
    "name": "ipython",
    "version": 3
   },
   "file_extension": ".py",
   "mimetype": "text/x-python",
   "name": "python",
   "nbconvert_exporter": "python",
   "pygments_lexer": "ipython3",
   "version": "3.7.10"
  }
 },
 "nbformat": 4,
 "nbformat_minor": 5
}
