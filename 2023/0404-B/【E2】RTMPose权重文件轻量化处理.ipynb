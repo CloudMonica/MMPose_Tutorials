{
 "cells": [
  {
   "cell_type": "markdown",
   "id": "d428e1e5-5b7b-4e16-880c-bdb3d3d1f6e4",
   "metadata": {},
   "source": [
    "# RTMPose权重文件轻量化处理\n",
    "\n",
    "同济子豪兄 2023-4-3"
   ]
  },
  {
   "cell_type": "markdown",
   "id": "06a39b7b-017c-4193-9387-dce43396f96c",
   "metadata": {
    "tags": []
   },
   "source": [
    "## 进入 mmpose 主目录"
   ]
  },
  {
   "cell_type": "code",
   "execution_count": 1,
   "id": "a1103085-107b-4ef7-9a04-cb2e5ce2a6f0",
   "metadata": {},
   "outputs": [],
   "source": [
    "import os\n",
    "os.chdir('mmpose')"
   ]
  },
  {
   "cell_type": "code",
   "execution_count": 2,
   "id": "83e8f653-0f5d-46b1-85bb-f0e235badfba",
   "metadata": {},
   "outputs": [
    {
     "name": "stdout",
     "output_type": "stream",
     "text": [
      "04/03 22:27:38 - mmengine - \u001b[4m\u001b[37mINFO\u001b[0m - Key `message_hub` will be removed because it is not in save_keys. If you want to keep it, please set --save-keys.\n",
      "04/03 22:27:38 - mmengine - \u001b[4m\u001b[37mINFO\u001b[0m - Key `ema_state_dict` will be removed because it is not in save_keys. If you want to keep it, please set --save-keys.\n"
     ]
    }
   ],
   "source": [
    "!python tools/misc/publish_model.py \\\n",
    "        work_dirs/best_PCK_epoch_80.pth \\\n",
    "        work_dirs/rtmpose_slim.pth"
   ]
  },
  {
   "cell_type": "code",
   "execution_count": null,
   "id": "c48d0c2b-bdb1-4f63-9f0a-f485f37b1e4b",
   "metadata": {},
   "outputs": [],
   "source": []
  }
 ],
 "metadata": {
  "kernelspec": {
   "display_name": "Python 3 (ipykernel)",
   "language": "python",
   "name": "python3"
  },
  "language_info": {
   "codemirror_mode": {
    "name": "ipython",
    "version": 3
   },
   "file_extension": ".py",
   "mimetype": "text/x-python",
   "name": "python",
   "nbconvert_exporter": "python",
   "pygments_lexer": "ipython3",
   "version": "3.7.10"
  }
 },
 "nbformat": 4,
 "nbformat_minor": 5
}
