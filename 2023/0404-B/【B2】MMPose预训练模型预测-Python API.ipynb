{
 "cells": [
  {
   "cell_type": "markdown",
   "id": "89e1c71a-b8b1-40f8-b857-dbf8d2259442",
   "metadata": {},
   "source": [
    "# MMPose预训练模型预测-Python API\n",
    "\n",
    "同济子豪兄 2023-4-1"
   ]
  },
  {
   "cell_type": "markdown",
   "id": "dcd38377-f35f-41bb-b6bf-105e9b01eb97",
   "metadata": {
    "tags": []
   },
   "source": [
    "## 进入 mmpose 主目录"
   ]
  },
  {
   "cell_type": "code",
   "execution_count": 1,
   "id": "d54de94c-0c85-44dc-96ca-0d777b170508",
   "metadata": {},
   "outputs": [],
   "source": [
    "import os\n",
    "os.chdir('mmpose')"
   ]
  },
  {
   "cell_type": "markdown",
   "id": "0f65d026-2350-4411-8524-18b96be471e5",
   "metadata": {},
   "source": [
    "## 导入工具包"
   ]
  },
  {
   "cell_type": "code",
   "execution_count": 2,
   "id": "0b7dd322-d621-4f2c-9275-70619886714d",
   "metadata": {},
   "outputs": [],
   "source": [
    "import cv2\n",
    "import numpy as np\n",
    "from PIL import Image\n",
    "\n",
    "import matplotlib.pyplot as plt\n",
    "%matplotlib inline\n",
    "\n",
    "import torch\n",
    "\n",
    "import mmcv\n",
    "from mmcv import imread\n",
    "import mmengine\n",
    "from mmengine.registry import init_default_scope\n",
    "\n",
    "from mmpose.apis import inference_topdown\n",
    "from mmpose.apis import init_model as init_pose_estimator\n",
    "from mmpose.evaluation.functional import nms\n",
    "from mmpose.registry import VISUALIZERS\n",
    "from mmpose.structures import merge_data_samples\n",
    "\n",
    "from mmdet.apis import inference_detector, init_detector"
   ]
  },
  {
   "cell_type": "code",
   "execution_count": 3,
   "id": "3b28f126-b9a4-4275-9ca6-52cec0df26ed",
   "metadata": {},
   "outputs": [
    {
     "name": "stdout",
     "output_type": "stream",
     "text": [
      "device cuda:0\n"
     ]
    }
   ],
   "source": [
    "# 有 GPU 就用 GPU，没有就用 CPU\n",
    "device = torch.device('cuda:0' if torch.cuda.is_available() else 'cpu')\n",
    "print('device', device)"
   ]
  },
  {
   "cell_type": "markdown",
   "id": "659e2160-f36d-4c84-be8c-d990a8e4b1b0",
   "metadata": {},
   "source": [
    "## 载入待测图像"
   ]
  },
  {
   "cell_type": "code",
   "execution_count": 4,
   "id": "8569873e-c1b5-4010-8718-3711b998c181",
   "metadata": {},
   "outputs": [],
   "source": [
    "img_path = 'data/test/multi-person.jpeg'"
   ]
  },
  {
   "cell_type": "code",
   "execution_count": 5,
   "id": "678fd5fb-bcba-4029-a262-a7314a3fb27a",
   "metadata": {},
   "outputs": [],
   "source": [
    "# Image.open(img_path)"
   ]
  },
  {
   "cell_type": "markdown",
   "id": "d8f5acb9-3e04-4738-a1c1-104842c9bf82",
   "metadata": {},
   "source": [
    "## 构建目标检测模型"
   ]
  },
  {
   "cell_type": "code",
   "execution_count": 6,
   "id": "6b28ef07-c02d-49cb-808d-e68fcbaa9851",
   "metadata": {},
   "outputs": [
    {
     "name": "stdout",
     "output_type": "stream",
     "text": [
      "Loads checkpoint by http backend from path: https://download.openmmlab.com/mmdetection/v2.0/faster_rcnn/faster_rcnn_r50_fpn_1x_coco/faster_rcnn_r50_fpn_1x_coco_20200130-047c8118.pth\n"
     ]
    }
   ],
   "source": [
    "detector = init_detector(\n",
    "    'demo/mmdetection_cfg/faster_rcnn_r50_fpn_coco.py',\n",
    "    'https://download.openmmlab.com/mmdetection/v2.0/faster_rcnn/faster_rcnn_r50_fpn_1x_coco/faster_rcnn_r50_fpn_1x_coco_20200130-047c8118.pth',\n",
    "    device=device\n",
    ")"
   ]
  },
  {
   "cell_type": "markdown",
   "id": "7e49b519-5ef5-43e0-ade9-cba00363caa6",
   "metadata": {},
   "source": [
    "## 构建人体姿态估计模型"
   ]
  },
  {
   "cell_type": "code",
   "execution_count": 7,
   "id": "8eb2de0b-9644-4812-85ea-5874ee16448e",
   "metadata": {},
   "outputs": [
    {
     "name": "stdout",
     "output_type": "stream",
     "text": [
      "Loads checkpoint by http backend from path: https://download.openmmlab.com/mmpose/top_down/hrnet/hrnet_w32_coco_256x192-c78dce93_20200708.pth\n"
     ]
    }
   ],
   "source": [
    "pose_estimator = init_pose_estimator(\n",
    "    'configs/body_2d_keypoint/topdown_heatmap/coco/td-hm_hrnet-w32_8xb64-210e_coco-256x192.py',\n",
    "    'https://download.openmmlab.com/mmpose/top_down/hrnet/hrnet_w32_coco_256x192-c78dce93_20200708.pth',\n",
    "    device=device,\n",
    "    cfg_options={'model': {'test_cfg': {'output_heatmaps': True}}}\n",
    ")"
   ]
  },
  {
   "cell_type": "markdown",
   "id": "1afacbe1-31cd-4cfb-8e35-8eb5cd9bf046",
   "metadata": {},
   "source": [
    "## 预测-目标检测"
   ]
  },
  {
   "cell_type": "code",
   "execution_count": 8,
   "id": "c85b7e77-eb3b-4275-8630-6439d3dca3cd",
   "metadata": {},
   "outputs": [
    {
     "name": "stdout",
     "output_type": "stream",
     "text": [
      "04/04 21:17:18 - mmengine - \u001b[5m\u001b[4m\u001b[33mWARNING\u001b[0m - The current default scope \"mmpose\" is not \"mmdet\", `init_default_scope` will force set the currentdefault scope to \"mmdet\".\n"
     ]
    }
   ],
   "source": [
    "init_default_scope(detector.cfg.get('default_scope', 'mmdet'))"
   ]
  },
  {
   "cell_type": "code",
   "execution_count": 9,
   "id": "a995834e-3f59-449b-962e-afe22b134dc6",
   "metadata": {},
   "outputs": [],
   "source": [
    "# 获取目标检测预测结果\n",
    "detect_result = inference_detector(detector, img_path)"
   ]
  },
  {
   "cell_type": "code",
   "execution_count": 10,
   "id": "4f015376-4a07-4902-af7b-679c152675e9",
   "metadata": {},
   "outputs": [
    {
     "data": {
      "text/plain": [
       "['pred_instances', 'ignored_instances', 'gt_instances']"
      ]
     },
     "execution_count": 10,
     "metadata": {},
     "output_type": "execute_result"
    }
   ],
   "source": [
    "detect_result.keys()"
   ]
  },
  {
   "cell_type": "code",
   "execution_count": 11,
   "id": "132a3a28-a8ef-457c-be2c-82856b3fa5bd",
   "metadata": {},
   "outputs": [
    {
     "data": {
      "text/plain": [
       "tensor([ 0,  0,  0,  0,  0,  0,  0,  0,  0, 11,  0, 58,  0,  0, 58,  0,  0,  2,\n",
       "         0,  0,  2,  0,  0,  0,  0, 24,  2, 58, 26, 26,  0,  0, 58, 26,  0,  0,\n",
       "        27, 24,  0, 26, 26, 26, 26, 26, 58,  0, 26, 26, 26,  2, 32,  2, 58, 39,\n",
       "         2,  0, 24, 58, 58, 32, 24, 26,  0,  0,  2, 37,  0, 39,  9, 74,  0,  2,\n",
       "        58, 24,  0,  0, 26, 29], device='cuda:0')"
      ]
     },
     "execution_count": 11,
     "metadata": {},
     "output_type": "execute_result"
    }
   ],
   "source": [
    "# 预测类别\n",
    "detect_result.pred_instances.labels"
   ]
  },
  {
   "cell_type": "code",
   "execution_count": 12,
   "id": "d0916bb1-177f-4a43-b827-7f371d249737",
   "metadata": {},
   "outputs": [
    {
     "data": {
      "text/plain": [
       "tensor([0.9994, 0.9988, 0.9974, 0.9963, 0.9959, 0.9930, 0.9914, 0.9901, 0.9868,\n",
       "        0.9824, 0.9631, 0.9271, 0.9079, 0.8950, 0.8793, 0.8582, 0.8248, 0.8189,\n",
       "        0.7240, 0.7184, 0.7055, 0.6653, 0.6202, 0.6010, 0.6001, 0.5708, 0.5651,\n",
       "        0.5059, 0.4549, 0.4085, 0.3941, 0.3905, 0.3535, 0.3200, 0.3103, 0.2593,\n",
       "        0.2291, 0.2222, 0.2155, 0.1886, 0.1864, 0.1846, 0.1791, 0.1771, 0.1715,\n",
       "        0.1672, 0.1395, 0.1391, 0.1390, 0.1371, 0.1348, 0.1249, 0.1204, 0.1155,\n",
       "        0.1129, 0.1121, 0.1010, 0.1009, 0.0939, 0.0922, 0.0919, 0.0916, 0.0885,\n",
       "        0.0822, 0.0806, 0.0724, 0.0697, 0.0686, 0.0675, 0.0630, 0.0627, 0.0624,\n",
       "        0.0587, 0.0580, 0.0557, 0.0536, 0.0509, 0.0503], device='cuda:0')"
      ]
     },
     "execution_count": 12,
     "metadata": {},
     "output_type": "execute_result"
    }
   ],
   "source": [
    "# 置信度\n",
    "detect_result.pred_instances.scores"
   ]
  },
  {
   "cell_type": "code",
   "execution_count": 13,
   "id": "a3bc5825-41e8-4b24-bd8e-837d38996609",
   "metadata": {},
   "outputs": [],
   "source": [
    "# 框坐标：左上角X坐标、左上角Y坐标、右下角X坐标、右下角Y坐标\n",
    "# detect_result.pred_instances.bboxes"
   ]
  },
  {
   "cell_type": "markdown",
   "id": "6b75053f-00c2-4490-873f-6b0e61f98085",
   "metadata": {},
   "source": [
    "## 置信度阈值过滤，获得最终目标检测预测结果"
   ]
  },
  {
   "cell_type": "code",
   "execution_count": 14,
   "id": "b9b1c936-02d8-4705-a9cd-d7d1ac47ad0f",
   "metadata": {},
   "outputs": [],
   "source": [
    "# 置信度阈值\n",
    "CONF_THRES = 0.5"
   ]
  },
  {
   "cell_type": "code",
   "execution_count": 15,
   "id": "d9741fe4-42df-4aea-b79c-810fc06c0b83",
   "metadata": {},
   "outputs": [],
   "source": [
    "pred_instance = detect_result.pred_instances.cpu().numpy()\n",
    "bboxes = np.concatenate((pred_instance.bboxes, pred_instance.scores[:, None]), axis=1)\n",
    "bboxes = bboxes[np.logical_and(pred_instance.labels == 0, pred_instance.scores > CONF_THRES)]\n",
    "bboxes = bboxes[nms(bboxes, 0.3)][:, :4]"
   ]
  },
  {
   "cell_type": "code",
   "execution_count": 16,
   "id": "32c59cb1-5f52-4c84-b85e-836ee407d079",
   "metadata": {},
   "outputs": [
    {
     "data": {
      "text/plain": [
       "array([[1705.6346  ,   96.27826 , 2114.5266  , 1301.1758  ],\n",
       "       [1267.5778  ,   94.687965, 1701.0544  , 1316.3174  ],\n",
       "       [ 720.3818  ,  172.25711 , 1152.6832  , 1267.835   ],\n",
       "       [   7.265906,  238.25822 ,  171.00204 , 1140.8152  ],\n",
       "       [1063.1827  ,  219.22768 , 1348.9985  , 1244.7667  ],\n",
       "       [ 436.23984 ,  428.59134 ,  586.0956  ,  911.8946  ],\n",
       "       [ 110.004326,  212.14702 ,  324.64917 , 1122.9872  ],\n",
       "       [2079.3276  ,  478.235   , 2224.4104  ,  925.21655 ],\n",
       "       [ 543.71216 ,  406.48138 ,  650.84064 ,  919.47424 ],\n",
       "       [2363.2961  ,  501.86667 , 2455.2178  ,  857.2742  ],\n",
       "       [2308.2     ,  561.4533  , 2372.7483  ,  715.7694  ],\n",
       "       [1990.6042  ,  485.10464 , 2105.6313  ,  923.4552  ],\n",
       "       [2255.5464  ,  568.4467  , 2326.8767  ,  702.4356  ],\n",
       "       [ 830.38214 ,  297.20853 ,  897.0397  ,  349.59393 ],\n",
       "       [ 704.9923  ,  419.55325 ,  808.7067  ,  989.61865 ],\n",
       "       [1646.673   ,  484.3826  , 1787.3309  ,  936.49426 ],\n",
       "       [2437.2651  ,  596.75836 , 2516.4998  ,  722.85175 ],\n",
       "       [2176.0454  ,  506.09134 , 2239.0215  ,  640.14    ]],\n",
       "      dtype=float32)"
      ]
     },
     "execution_count": 16,
     "metadata": {},
     "output_type": "execute_result"
    }
   ],
   "source": [
    "bboxes"
   ]
  },
  {
   "cell_type": "markdown",
   "id": "3e63aa2b-483e-40e5-a9d5-72f0fa32f980",
   "metadata": {},
   "source": [
    "## 预测-关键点"
   ]
  },
  {
   "cell_type": "code",
   "execution_count": 17,
   "id": "187310c7-d081-4400-9882-d71ea351a250",
   "metadata": {},
   "outputs": [
    {
     "name": "stdout",
     "output_type": "stream",
     "text": [
      "04/04 21:17:23 - mmengine - \u001b[5m\u001b[4m\u001b[33mWARNING\u001b[0m - The current default scope \"mmdet\" is not \"mmpose\", `init_default_scope` will force set the currentdefault scope to \"mmpose\".\n"
     ]
    }
   ],
   "source": [
    "# 获取每个 bbox 的关键点预测结果\n",
    "pose_results = inference_topdown(pose_estimator, img_path, bboxes)"
   ]
  },
  {
   "cell_type": "code",
   "execution_count": 18,
   "id": "a8c22cb5-76f0-4f4d-98df-8e28d6c4dc3a",
   "metadata": {},
   "outputs": [
    {
     "data": {
      "text/plain": [
       "18"
      ]
     },
     "execution_count": 18,
     "metadata": {},
     "output_type": "execute_result"
    }
   ],
   "source": [
    "len(pose_results)"
   ]
  },
  {
   "cell_type": "code",
   "execution_count": null,
   "id": "d824170d-58c9-444a-ab7f-6e930fe31c06",
   "metadata": {},
   "outputs": [],
   "source": [
    "# 把多个bbox的pose结果打包到一起\n",
    "data_samples = merge_data_samples(pose_results)"
   ]
  },
  {
   "cell_type": "code",
   "execution_count": null,
   "id": "1e12e814-b4ea-4147-90d7-0a3e1740d6d0",
   "metadata": {},
   "outputs": [],
   "source": [
    "data_samples.keys()"
   ]
  },
  {
   "cell_type": "markdown",
   "id": "f2012096-1280-48c4-9bc7-82c82dbbc62f",
   "metadata": {},
   "source": [
    "## 预测结果-关键点坐标"
   ]
  },
  {
   "cell_type": "code",
   "execution_count": null,
   "id": "6c18638f-986d-4071-ab10-6831eec8a99c",
   "metadata": {},
   "outputs": [],
   "source": [
    "# 每个人 17个关键点 坐标\n",
    "data_samples.pred_instances.keypoints.shape"
   ]
  },
  {
   "cell_type": "code",
   "execution_count": null,
   "id": "0e208ea5-d921-4712-893d-559a41d26d62",
   "metadata": {},
   "outputs": [],
   "source": [
    "# 索引为 0 的人，每个关键点的坐标\n",
    "data_samples.pred_instances.keypoints[0,:,:]"
   ]
  },
  {
   "cell_type": "markdown",
   "id": "3a58fabb-e6e7-4b73-a2c5-bac3b0b5f90f",
   "metadata": {},
   "source": [
    "## 预测结果-关键点热力图"
   ]
  },
  {
   "cell_type": "code",
   "execution_count": null,
   "id": "9315414f-4163-44e1-b1f1-10b0a72f13ca",
   "metadata": {},
   "outputs": [],
   "source": [
    "# 每一类关键点的预测热力图\n",
    "data_samples.pred_fields.heatmaps.shape"
   ]
  },
  {
   "cell_type": "code",
   "execution_count": null,
   "id": "2c808379-d5c3-4d0a-9ea1-a4ba8ad6abaf",
   "metadata": {},
   "outputs": [],
   "source": [
    "idx_point = 13\n",
    "heatmap = data_samples.pred_fields.heatmaps[idx_point,:,:]"
   ]
  },
  {
   "cell_type": "code",
   "execution_count": null,
   "id": "5f610db5-bdb6-48a3-be74-e9b409a2e878",
   "metadata": {},
   "outputs": [],
   "source": [
    "heatmap.shape"
   ]
  },
  {
   "cell_type": "code",
   "execution_count": null,
   "id": "0965731c-485b-4d26-9155-2f96a7dc27ab",
   "metadata": {},
   "outputs": [],
   "source": [
    "# 索引为 idx 的关键点，在全图上的预测热力图\n",
    "plt.imshow(heatmap)\n",
    "plt.show()"
   ]
  },
  {
   "cell_type": "markdown",
   "id": "7ddda86b-d99a-4c26-b73e-889372438a01",
   "metadata": {},
   "source": [
    "## 可视化配置"
   ]
  },
  {
   "cell_type": "code",
   "execution_count": null,
   "id": "8e165403-cce7-45a8-9b62-de22ce964348",
   "metadata": {},
   "outputs": [],
   "source": [
    "# 半径\n",
    "pose_estimator.cfg.visualizer.radius = 100\n",
    "# 线宽\n",
    "pose_estimator.cfg.visualizer.line_width = 40\n",
    "visualizer = VISUALIZERS.build(pose_estimator.cfg.visualizer)\n",
    "# 元数据\n",
    "visualizer.set_dataset_meta(pose_estimator.dataset_meta)"
   ]
  },
  {
   "cell_type": "code",
   "execution_count": null,
   "id": "6a3b42d2-8baf-4735-b9ca-8ea8b9423349",
   "metadata": {},
   "outputs": [],
   "source": [
    "# 元数据\n",
    "# pose_estimator.dataset_meta"
   ]
  },
  {
   "cell_type": "markdown",
   "id": "459c4ec1-9144-435b-ad12-87f6972f3161",
   "metadata": {},
   "source": [
    "## 展示可视化效果"
   ]
  },
  {
   "cell_type": "code",
   "execution_count": null,
   "id": "f7b868d0-4807-4f43-abf1-c2451a1448d8",
   "metadata": {},
   "outputs": [],
   "source": [
    "img = mmcv.imread(img_path)\n",
    "img = mmcv.imconvert(img, 'bgr', 'rgb')\n",
    "\n",
    "img_output = visualizer.add_datasample(\n",
    "            'result',\n",
    "            img,\n",
    "            data_sample=data_samples,\n",
    "            draw_gt=False,\n",
    "            draw_heatmap=True,\n",
    "            draw_bbox=True,\n",
    "            show=False,\n",
    "            wait_time=0,\n",
    "            out_file='outputs/B2.jpg',\n",
    "            kpt_score_thr=0.3)"
   ]
  },
  {
   "cell_type": "code",
   "execution_count": null,
   "id": "78fa761a-36d1-457c-9eda-0fb4928b78e6",
   "metadata": {},
   "outputs": [],
   "source": [
    "img_output.shape"
   ]
  },
  {
   "cell_type": "code",
   "execution_count": null,
   "id": "09b19767-6873-42a9-9b64-0b71ca2fafe8",
   "metadata": {},
   "outputs": [],
   "source": [
    "plt.figure(figsize=(10,10))\n",
    "plt.imshow(img_output)\n",
    "plt.show()"
   ]
  },
  {
   "cell_type": "code",
   "execution_count": null,
   "id": "c936cfdf-be2c-4bde-9c19-285d2c67bb34",
   "metadata": {},
   "outputs": [],
   "source": []
  },
  {
   "cell_type": "code",
   "execution_count": null,
   "id": "093e3ae4-a24f-437a-b47c-4338884bd5fe",
   "metadata": {},
   "outputs": [],
   "source": []
  }
 ],
 "metadata": {
  "kernelspec": {
   "display_name": "Python 3 (ipykernel)",
   "language": "python",
   "name": "python3"
  },
  "language_info": {
   "codemirror_mode": {
    "name": "ipython",
    "version": 3
   },
   "file_extension": ".py",
   "mimetype": "text/x-python",
   "name": "python",
   "nbconvert_exporter": "python",
   "pygments_lexer": "ipython3",
   "version": "3.7.10"
  }
 },
 "nbformat": 4,
 "nbformat_minor": 5
}
