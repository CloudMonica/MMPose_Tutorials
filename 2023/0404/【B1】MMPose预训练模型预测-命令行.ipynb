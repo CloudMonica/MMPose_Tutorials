{
 "cells": [
  {
   "cell_type": "markdown",
   "id": "784ce4a0-b0db-42c8-8c29-0dd3314fe397",
   "metadata": {},
   "source": [
    "# MMPose预训练模型预测-命令行\n",
    "\n",
    "同济子豪兄 2023-4-3"
   ]
  },
  {
   "cell_type": "markdown",
   "id": "23306f50-79b9-44f8-b34c-857b838db0a5",
   "metadata": {
    "tags": []
   },
   "source": [
    "## 进入 mmpose 主目录"
   ]
  },
  {
   "cell_type": "code",
   "execution_count": 1,
   "id": "83f7c5db-0919-484d-ac50-e2cf666b5fb6",
   "metadata": {},
   "outputs": [],
   "source": [
    "import os\n",
    "os.chdir('mmpose')"
   ]
  },
  {
   "cell_type": "markdown",
   "id": "a16bd452-c4bd-4c74-99e2-5eb5f860e1f9",
   "metadata": {},
   "source": [
    "## 图像和视频素材"
   ]
  },
  {
   "cell_type": "code",
   "execution_count": 2,
   "id": "ac34dda5-4965-4d23-8aab-82a718cdb5f8",
   "metadata": {},
   "outputs": [],
   "source": [
    "# 一些素材\n",
    "\n",
    "# data/test/multi-person.jpeg\n",
    "\n",
    "# data/test/cxk.mp4\n",
    "\n",
    "# data/test/two_dancers.mp4"
   ]
  },
  {
   "cell_type": "markdown",
   "id": "c1b47d0a-46f2-4378-ada9-df6a73e969e8",
   "metadata": {},
   "source": [
    "## 目标检测模型\n",
    "\n",
    "MMDetection模型库：https://github.com/open-mmlab/mmdetection/blob/master/docs/en/model_zoo.md"
   ]
  },
  {
   "cell_type": "code",
   "execution_count": 3,
   "id": "ce447bb1-305c-4eec-88f4-ed74163328bd",
   "metadata": {},
   "outputs": [],
   "source": [
    "# demo/mmdetection_cfg/faster_rcnn_r50_fpn_coco.py\n",
    "\n",
    "# https://download.openmmlab.com/mmdetection/v2.0/faster_rcnn/faster_rcnn_r50_fpn_1x_coco/faster_rcnn_r50_fpn_1x_coco_20200130-047c8118.pth"
   ]
  },
  {
   "cell_type": "markdown",
   "id": "916cfe77-ea7e-451a-8f92-50c17e529b86",
   "metadata": {},
   "source": [
    "## MMPose模型"
   ]
  },
  {
   "cell_type": "code",
   "execution_count": 4,
   "id": "8d5d0af0-7f0b-4258-880d-1ef59ba648d9",
   "metadata": {},
   "outputs": [],
   "source": [
    "# configs/body_2d_keypoint/topdown_heatmap/coco/td-hm_hrnet-w32_8xb64-210e_coco-256x192.py\n",
    "\n",
    "# https://download.openmmlab.com/mmpose/top_down/hrnet/hrnet_w32_coco_256x192-c78dce93_20200708.pth"
   ]
  },
  {
   "cell_type": "markdown",
   "id": "3ddb98c7-78b3-4faf-9a9a-e61509f64111",
   "metadata": {},
   "source": [
    "## RTMPose模型\n",
    "\n",
    "RTMPose主页：https://github.com/open-mmlab/mmpose/tree/dev-1.x/projects/rtmpose"
   ]
  },
  {
   "cell_type": "code",
   "execution_count": 5,
   "id": "f2f1b203-56c7-4c70-83a0-6b62288665bc",
   "metadata": {},
   "outputs": [],
   "source": [
    "# RTMPose-S\n",
    "\n",
    "# projects/rtmpose/rtmpose/body_2d_keypoint/rtmpose-s_8xb256-420e_coco-256x192.py\n",
    "\n",
    "# https://download.openmmlab.com/mmpose/v1/projects/rtmpose/rtmpose-s_simcc-aic-coco_pt-aic-coco_420e-256x192-fcb2599b_20230126.pth"
   ]
  },
  {
   "cell_type": "code",
   "execution_count": 6,
   "id": "b4645375-3290-4841-8024-ae3a2dfce84f",
   "metadata": {},
   "outputs": [],
   "source": [
    "# RTMPose-L\n",
    "\n",
    "# projects/rtmpose/rtmpose/body_2d_keypoint/rtmpose-l_8xb256-420e_coco-384x288.py\n",
    "\n",
    "# https://download.openmmlab.com/mmpose/v1/projects/rtmpose/rtmpose-l_simcc-aic-coco_pt-aic-coco_420e-384x288-97d6cb0f_20230228.pth"
   ]
  },
  {
   "cell_type": "markdown",
   "id": "a74faf58-4237-42e6-be61-b0c7e262fc6e",
   "metadata": {},
   "source": [
    "## 预测单张图像"
   ]
  },
  {
   "cell_type": "code",
   "execution_count": 7,
   "id": "67499aff-d83e-4fee-8db9-f5d68388fdb5",
   "metadata": {},
   "outputs": [
    {
     "name": "stdout",
     "output_type": "stream",
     "text": [
      "Loads checkpoint by http backend from path: https://download.openmmlab.com/mmdetection/v2.0/faster_rcnn/faster_rcnn_r50_fpn_1x_coco/faster_rcnn_r50_fpn_1x_coco_20200130-047c8118.pth\n",
      "Loads checkpoint by http backend from path: https://download.openmmlab.com/mmpose/top_down/hrnet/hrnet_w32_coco_256x192-c78dce93_20200708.pth\n",
      "04/04 13:50:57 - mmengine - \u001b[5m\u001b[4m\u001b[33mWARNING\u001b[0m - `Visualizer` backend is not initialized because save_dir is None.\n",
      "Traceback (most recent call last):\n",
      "  File \"demo/topdown_demo_with_mmdet.py\", line 249, in <module>\n",
      "    main()\n",
      "  File \"demo/topdown_demo_with_mmdet.py\", line 196, in main\n",
      "    show_interval=0)\n",
      "  File \"demo/topdown_demo_with_mmdet.py\", line 31, in process_one_image\n",
      "    det_result = inference_detector(detector, img_path)\n",
      "  File \"/home/featurize/work/关键点检测/mmdetection/mmdet/apis/inference.py\", line 170, in inference_detector\n",
      "    data_ = test_pipeline(data_)\n",
      "  File \"/environment/miniconda3/lib/python3.7/site-packages/mmcv/transforms/base.py\", line 12, in __call__\n",
      "    return self.transform(results)\n",
      "  File \"/environment/miniconda3/lib/python3.7/site-packages/mmcv/transforms/wrappers.py\", line 87, in transform\n",
      "    results = t(results)  # type: ignore\n",
      "  File \"/environment/miniconda3/lib/python3.7/site-packages/mmcv/transforms/base.py\", line 12, in __call__\n",
      "    return self.transform(results)\n",
      "  File \"/environment/miniconda3/lib/python3.7/site-packages/mmcv/transforms/loading.py\", line 107, in transform\n",
      "    raise e\n",
      "  File \"/environment/miniconda3/lib/python3.7/site-packages/mmcv/transforms/loading.py\", line 100, in transform\n",
      "    filename, backend_args=self.backend_args)\n",
      "  File \"/environment/miniconda3/lib/python3.7/site-packages/mmengine/fileio/io.py\", line 181, in get\n",
      "    return backend.get(filepath)\n",
      "  File \"/environment/miniconda3/lib/python3.7/site-packages/mmengine/fileio/backends/local_backend.py\", line 33, in get\n",
      "    with open(filepath, 'rb') as f:\n",
      "FileNotFoundError: [Errno 2] No such file or directory: 'data/test/multi-person.jpeg'\n"
     ]
    }
   ],
   "source": [
    "# HRNet\n",
    "!python demo/topdown_demo_with_mmdet.py \\\n",
    "        demo/mmdetection_cfg/faster_rcnn_r50_fpn_coco.py \\\n",
    "        https://download.openmmlab.com/mmdetection/v2.0/faster_rcnn/faster_rcnn_r50_fpn_1x_coco/faster_rcnn_r50_fpn_1x_coco_20200130-047c8118.pth \\\n",
    "        configs/body_2d_keypoint/topdown_heatmap/coco/td-hm_hrnet-w32_8xb64-210e_coco-256x192.py \\\n",
    "        https://download.openmmlab.com/mmpose/top_down/hrnet/hrnet_w32_coco_256x192-c78dce93_20200708.pth \\\n",
    "        --input data/test/multi-person.jpeg \\\n",
    "        --output-root outputs/B1_HRNet \\\n",
    "        --device cuda:0 \\\n",
    "        --bbox-thr 0.5 \\\n",
    "        --kpt-thr 0.2 \\\n",
    "        --nms-thr 0.3 \\\n",
    "        --radius 8 \\\n",
    "        --thickness 4 \\\n",
    "        --draw-bbox \\\n",
    "        --draw-heatmap \\\n",
    "        --show-kpt-idx"
   ]
  },
  {
   "cell_type": "code",
   "execution_count": 8,
   "id": "93eefc16-24d5-46b9-b401-72534458b3dd",
   "metadata": {},
   "outputs": [
    {
     "name": "stdout",
     "output_type": "stream",
     "text": [
      "Loads checkpoint by http backend from path: https://download.openmmlab.com/mmdetection/v2.0/faster_rcnn/faster_rcnn_r50_fpn_1x_coco/faster_rcnn_r50_fpn_1x_coco_20200130-047c8118.pth\n",
      "Loads checkpoint by http backend from path: https://download.openmmlab.com/mmpose/v1/projects/rtmpose/rtmpose-s_simcc-aic-coco_pt-aic-coco_420e-256x192-fcb2599b_20230126.pth\n",
      "04/04 13:51:09 - mmengine - \u001b[5m\u001b[4m\u001b[33mWARNING\u001b[0m - `Visualizer` backend is not initialized because save_dir is None.\n",
      "Traceback (most recent call last):\n",
      "  File \"demo/topdown_demo_with_mmdet.py\", line 249, in <module>\n",
      "    main()\n",
      "  File \"demo/topdown_demo_with_mmdet.py\", line 196, in main\n",
      "    show_interval=0)\n",
      "  File \"demo/topdown_demo_with_mmdet.py\", line 31, in process_one_image\n",
      "    det_result = inference_detector(detector, img_path)\n",
      "  File \"/home/featurize/work/关键点检测/mmdetection/mmdet/apis/inference.py\", line 170, in inference_detector\n",
      "    data_ = test_pipeline(data_)\n",
      "  File \"/environment/miniconda3/lib/python3.7/site-packages/mmcv/transforms/base.py\", line 12, in __call__\n",
      "    return self.transform(results)\n",
      "  File \"/environment/miniconda3/lib/python3.7/site-packages/mmcv/transforms/wrappers.py\", line 87, in transform\n",
      "    results = t(results)  # type: ignore\n",
      "  File \"/environment/miniconda3/lib/python3.7/site-packages/mmcv/transforms/base.py\", line 12, in __call__\n",
      "    return self.transform(results)\n",
      "  File \"/environment/miniconda3/lib/python3.7/site-packages/mmcv/transforms/loading.py\", line 107, in transform\n",
      "    raise e\n",
      "  File \"/environment/miniconda3/lib/python3.7/site-packages/mmcv/transforms/loading.py\", line 100, in transform\n",
      "    filename, backend_args=self.backend_args)\n",
      "  File \"/environment/miniconda3/lib/python3.7/site-packages/mmengine/fileio/io.py\", line 181, in get\n",
      "    return backend.get(filepath)\n",
      "  File \"/environment/miniconda3/lib/python3.7/site-packages/mmengine/fileio/backends/local_backend.py\", line 33, in get\n",
      "    with open(filepath, 'rb') as f:\n",
      "FileNotFoundError: [Errno 2] No such file or directory: 'data/test/multi-person.jpeg'\n"
     ]
    }
   ],
   "source": [
    "# RTMPose\n",
    "!python demo/topdown_demo_with_mmdet.py \\\n",
    "        demo/mmdetection_cfg/faster_rcnn_r50_fpn_coco.py \\\n",
    "        https://download.openmmlab.com/mmdetection/v2.0/faster_rcnn/faster_rcnn_r50_fpn_1x_coco/faster_rcnn_r50_fpn_1x_coco_20200130-047c8118.pth \\\n",
    "        projects/rtmpose/rtmpose/body_2d_keypoint/rtmpose-s_8xb256-420e_coco-256x192.py \\\n",
    "        https://download.openmmlab.com/mmpose/v1/projects/rtmpose/rtmpose-s_simcc-aic-coco_pt-aic-coco_420e-256x192-fcb2599b_20230126.pth \\\n",
    "        --input data/test/multi-person.jpeg \\\n",
    "        --output-root outputs/B1_RTM \\\n",
    "        --device cuda:0 \\\n",
    "        --bbox-thr 0.5 \\\n",
    "        --kpt-thr 0.5 \\\n",
    "        --nms-thr 0.3 \\\n",
    "        --radius 8 \\\n",
    "        --thickness 4 \\\n",
    "        --draw-bbox \\\n",
    "        --draw-heatmap \\\n",
    "        --show-kpt-idx"
   ]
  },
  {
   "cell_type": "markdown",
   "id": "34c88527-125b-46da-9d89-9c07fccad9a5",
   "metadata": {},
   "source": [
    "## 预测视频：直接将`--input`换成视频路径即可"
   ]
  },
  {
   "cell_type": "code",
   "execution_count": null,
   "id": "371d4c31-eb0f-4469-a5ec-cf73989c357d",
   "metadata": {},
   "outputs": [],
   "source": [
    "# HRNet\n",
    "!python demo/topdown_demo_with_mmdet.py \\\n",
    "        demo/mmdetection_cfg/faster_rcnn_r50_fpn_coco.py \\\n",
    "        https://download.openmmlab.com/mmdetection/v2.0/faster_rcnn/faster_rcnn_r50_fpn_1x_coco/faster_rcnn_r50_fpn_1x_coco_20200130-047c8118.pth \\\n",
    "        configs/body_2d_keypoint/topdown_heatmap/coco/td-hm_hrnet-w32_8xb64-210e_coco-256x192.py \\\n",
    "        https://download.openmmlab.com/mmpose/top_down/hrnet/hrnet_w32_coco_256x192-c78dce93_20200708.pth \\\n",
    "        --input data/test/two_dancers.mp4 \\\n",
    "        --output-root outputs/B1_HRNet \\\n",
    "        --device cuda:0 \\\n",
    "        --bbox-thr 0.5 \\\n",
    "        --kpt-thr 0.2 \\\n",
    "        --nms-thr 0.3 \\\n",
    "        --radius 8 \\\n",
    "        --thickness 4 \\\n",
    "        --draw-bbox \\\n",
    "        --draw-heatmap \\\n",
    "        --show-kpt-idx"
   ]
  },
  {
   "cell_type": "code",
   "execution_count": 10,
   "id": "778ee737-44fc-4fc6-a31f-16aff9008a8d",
   "metadata": {},
   "outputs": [
    {
     "name": "stdout",
     "output_type": "stream",
     "text": [
      "Loads checkpoint by http backend from path: https://download.openmmlab.com/mmdetection/v2.0/faster_rcnn/faster_rcnn_r50_fpn_1x_coco/faster_rcnn_r50_fpn_1x_coco_20200130-047c8118.pth\n",
      "04/04 11:07:56 - mmengine - \u001b[5m\u001b[4m\u001b[33mWARNING\u001b[0m - \"FileClient\" will be deprecated in future. Please use io functions in https://mmengine.readthedocs.io/en/latest/api/fileio.html#file-io\n",
      "04/04 11:07:56 - mmengine - \u001b[5m\u001b[4m\u001b[33mWARNING\u001b[0m - \"HardDiskBackend\" is the alias of \"LocalBackend\" and the former will be deprecated in future.\n",
      "Loads checkpoint by http backend from path: https://download.openmmlab.com/mmpose/v1/projects/rtmpose/rtmpose-s_simcc-aic-coco_pt-aic-coco_420e-256x192-fcb2599b_20230126.pth\n",
      "04/04 11:08:04 - mmengine - \u001b[5m\u001b[4m\u001b[33mWARNING\u001b[0m - `Visualizer` backend is not initialized because save_dir is None.\n",
      "[                                                  ] 0/563, elapsed: 0s, ETA:/home/featurize/work/关键点检测/mmpose/mmpose/models/heads/coord_cls_heads/rtmcc_head.py:217: UserWarning: The predicted simcc values are normalized for visualization. This may cause discrepancy between the keypoint scores and the 1D heatmaps.\n",
      "  warnings.warn('The predicted simcc values are normalized for '\n",
      "[>>>>>>>>>>>>>>>>>>>>>>>>>>>> ] 554/563, 1.0 task/s, elapsed: 532s, ETA:     9s"
     ]
    }
   ],
   "source": [
    "# RTMPose\n",
    "!python demo/topdown_demo_with_mmdet.py \\\n",
    "        demo/mmdetection_cfg/faster_rcnn_r50_fpn_coco.py \\\n",
    "        https://download.openmmlab.com/mmdetection/v2.0/faster_rcnn/faster_rcnn_r50_fpn_1x_coco/faster_rcnn_r50_fpn_1x_coco_20200130-047c8118.pth \\\n",
    "        projects/rtmpose/rtmpose/body_2d_keypoint/rtmpose-s_8xb256-420e_coco-256x192.py \\\n",
    "        https://download.openmmlab.com/mmpose/v1/projects/rtmpose/rtmpose-s_simcc-aic-coco_pt-aic-coco_420e-256x192-fcb2599b_20230126.pth \\\n",
    "        --input data/test/two_dancers.mp4 \\\n",
    "        --output-root outputs/B1_RTM \\\n",
    "        --device cuda:0 \\\n",
    "        --bbox-thr 0.5 \\\n",
    "        --kpt-thr 0.5 \\\n",
    "        --nms-thr 0.3 \\\n",
    "        --radius 8 \\\n",
    "        --thickness 4 \\\n",
    "        --draw-bbox \\\n",
    "        --draw-heatmap \\\n",
    "        --show-kpt-idx"
   ]
  },
  {
   "cell_type": "code",
   "execution_count": null,
   "id": "3f18b27e-1e97-45f7-b2e6-57215bfa6de2",
   "metadata": {},
   "outputs": [],
   "source": []
  }
 ],
 "metadata": {
  "kernelspec": {
   "display_name": "Python 3 (ipykernel)",
   "language": "python",
   "name": "python3"
  },
  "language_info": {
   "codemirror_mode": {
    "name": "ipython",
    "version": 3
   },
   "file_extension": ".py",
   "mimetype": "text/x-python",
   "name": "python",
   "nbconvert_exporter": "python",
   "pygments_lexer": "ipython3",
   "version": "3.7.10"
  }
 },
 "nbformat": 4,
 "nbformat_minor": 5
}
