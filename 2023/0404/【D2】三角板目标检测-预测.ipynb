{
 "cells": [
  {
   "cell_type": "markdown",
   "id": "ab3fbe6f-6d2f-4a00-abd4-04a486d98fd1",
   "metadata": {},
   "source": [
    "# 三角板目标检测-预测\n",
    "\n",
    "同济子豪兄 2023-4-4"
   ]
  },
  {
   "cell_type": "markdown",
   "id": "b80f81bd-021e-4fc8-be2c-637e74b5e739",
   "metadata": {},
   "source": [
    "## 进入mmdetection主目录"
   ]
  },
  {
   "cell_type": "code",
   "execution_count": 1,
   "id": "c23edb0e-5239-4bd1-9b7c-90710eee37bd",
   "metadata": {},
   "outputs": [],
   "source": [
    "import os\n",
    "os.chdir('mmdetection')"
   ]
  },
  {
   "cell_type": "markdown",
   "id": "165bbef3-c3d3-49ad-8308-9c6c2ee691f0",
   "metadata": {},
   "source": [
    "## 单张-图像目标检测预测"
   ]
  },
  {
   "cell_type": "code",
   "execution_count": 4,
   "id": "ffa84a03-216f-4b08-91db-73a1d22b4424",
   "metadata": {},
   "outputs": [
    {
     "name": "stdout",
     "output_type": "stream",
     "text": [
      "Loads checkpoint by local backend from path: work_dirs/faster_r_cnn_triangle_epoch_50.pth\n",
      "04/04 13:00:50 - mmengine - \u001b[5m\u001b[4m\u001b[33mWARNING\u001b[0m - sjb_rect is not a meta file, simply parsed as meta information\n",
      "04/04 13:00:58 - mmengine - \u001b[5m\u001b[4m\u001b[33mWARNING\u001b[0m - Failed to search registry with scope \"mmdet\" in the \"function\" registry tree. As a workaround, the current \"function\" registry in \"mmengine\" is used to build instance. This may cause unexpected failure when running the built modules. Please check whether \"mmdet\" is a correct scope, or whether the registry is initialized.\n",
      "04/04 13:00:58 - mmengine - \u001b[5m\u001b[4m\u001b[33mWARNING\u001b[0m - `Visualizer` backend is not initialized because save_dir is None.\n",
      "\u001b[2KInference \u001b[90m━\u001b[0m\u001b[90m━\u001b[0m\u001b[90m━\u001b[0m\u001b[90m━\u001b[0m\u001b[90m━\u001b[0m\u001b[35m━\u001b[0m\u001b[91m━\u001b[0m\u001b[91m━\u001b[0m\u001b[91m━\u001b[0m\u001b[91m━\u001b[0m\u001b[91m━\u001b[0m\u001b[91m━\u001b[0m\u001b[91m━\u001b[0m\u001b[35m━\u001b[0m\u001b[90m━\u001b[0m\u001b[90m━\u001b[0m\u001b[90m━\u001b[0m\u001b[90m━\u001b[0m\u001b[90m━\u001b[0m\u001b[90m━\u001b[0m\u001b[90m━\u001b[0m\u001b[90m━\u001b[0m\u001b[90m━\u001b[0m\u001b[90m━\u001b[0m\u001b[90m━\u001b[0m\u001b[35m━\u001b[0m\u001b[91m━\u001b[0m\u001b[91m━\u001b[0m\u001b[91m━\u001b[0m\u001b[91m━\u001b[0m\u001b[91m━\u001b[0m\u001b[91m━\u001b[0m\u001b[91m━\u001b[0m\u001b[35m━\u001b[0m\u001b[90m━\u001b[0m\u001b[90m━\u001b[0m\u001b[90m━\u001b[0m\u001b[90m━\u001b[0m\u001b[90m━\u001b[0m\u001b[90m━\u001b[0m  \u001b[36m \u001b[0m\n",
      "\u001b[?25hresults have been saved at outputs/D2\n"
     ]
    }
   ],
   "source": [
    "!python demo/image_demo.py \\\n",
    "        data/test_triangle/triangle_3.jpg \\\n",
    "        data/faster_r_cnn_triangle.py \\\n",
    "        --weights work_dirs/faster_r_cnn_triangle_epoch_50.pth \\\n",
    "        --out-dir outputs/D2 \\\n",
    "        --device cuda:0 \\\n",
    "        --pred-score-thr 0.3"
   ]
  },
  {
   "cell_type": "markdown",
   "id": "66e27a2b-e77a-4377-a28a-69eadce8b49c",
   "metadata": {},
   "source": [
    "## 视频-目标检测预测"
   ]
  },
  {
   "cell_type": "code",
   "execution_count": 9,
   "id": "0321b7be-6d8f-45af-afc4-5b980e9c4537",
   "metadata": {},
   "outputs": [
    {
     "name": "stdout",
     "output_type": "stream",
     "text": [
      "Loads checkpoint by local backend from path: work_dirs/faster_r_cnn_triangle_epoch_50.pth\n",
      "04/04 13:24:15 - mmengine - \u001b[5m\u001b[4m\u001b[33mWARNING\u001b[0m - sjb_rect is not a meta file, simply parsed as meta information\n",
      "04/04 13:24:22 - mmengine - \u001b[5m\u001b[4m\u001b[33mWARNING\u001b[0m - `Visualizer` backend is not initialized because save_dir is None.\n",
      "[>>>>>>>>>>>>>>>>>>>>         ] 316/446, 2.7 task/s, elapsed: 119s, ETA:    49s/environment/miniconda3/lib/python3.7/site-packages/mmengine/visualization/visualizer.py:743: UserWarning: Warning: The bbox is out of bounds, the drawn bbox may not be in the image\n",
      "  ' the drawn bbox may not be in the image', UserWarning)\n",
      "/environment/miniconda3/lib/python3.7/site-packages/mmengine/visualization/visualizer.py:814: UserWarning: Warning: The polygon is out of bounds, the drawn polygon may not be in the image\n",
      "  ' the drawn polygon may not be in the image', UserWarning)\n",
      "[>>>>>>>>>>>>>>>>>>>>>>>>>>>>>] 446/446, 2.7 task/s, elapsed: 168s, ETA:     0s\n"
     ]
    }
   ],
   "source": [
    "!python demo/video_demo.py \\\n",
    "        data/test_triangle/triangle_5.mov \\\n",
    "        data/faster_r_cnn_triangle.py \\\n",
    "        work_dirs/faster_r_cnn_triangle_epoch_50.pth \\\n",
    "        --device cuda:0 \\\n",
    "        --score-thr 0.9 \\\n",
    "        --out outputs/D2/out_video.mp4"
   ]
  },
  {
   "cell_type": "markdown",
   "id": "1abd2de0-c316-49a3-931d-b0fe61723ee8",
   "metadata": {},
   "source": [
    "## 摄像头实时画面-目标检测预测\n",
    "\n",
    "需在本地调用摄像头运行，不能在云GPU平台运行"
   ]
  },
  {
   "cell_type": "code",
   "execution_count": null,
   "id": "55905481-5943-4871-a456-fb6def0c5146",
   "metadata": {},
   "outputs": [],
   "source": [
    "!python demo/webcam_demo.py \\\n",
    "        data/faster_r_cnn_triangle.py \\\n",
    "        work_dirs/faster_r_cnn_triangle_epoch_50.pth \\\n",
    "        --device cuda:0 \\\n",
    "        --camera-id 0 \\\n",
    "        --score-thr 0.3"
   ]
  }
 ],
 "metadata": {
  "kernelspec": {
   "display_name": "Python 3 (ipykernel)",
   "language": "python",
   "name": "python3"
  },
  "language_info": {
   "codemirror_mode": {
    "name": "ipython",
    "version": 3
   },
   "file_extension": ".py",
   "mimetype": "text/x-python",
   "name": "python",
   "nbconvert_exporter": "python",
   "pygments_lexer": "ipython3",
   "version": "3.7.10"
  }
 },
 "nbformat": 4,
 "nbformat_minor": 5
}
