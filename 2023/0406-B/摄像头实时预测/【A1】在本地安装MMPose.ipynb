{
 "cells": [
  {
   "cell_type": "markdown",
   "id": "57388226",
   "metadata": {},
   "source": [
    "# 在本地安装MMPose\n",
    "\n",
    "同济子豪兄 2023-4-3"
   ]
  },
  {
   "cell_type": "markdown",
   "id": "41511931",
   "metadata": {},
   "source": [
    "## 安装Pytorch\n",
    "\n",
    "https://pytorch.org/get-started/locally"
   ]
  },
  {
   "cell_type": "code",
   "execution_count": 1,
   "id": "db44103a",
   "metadata": {},
   "outputs": [
    {
     "name": "stdout",
     "output_type": "stream",
     "text": [
      "Looking in indexes: https://mirrors.aliyun.com/pypi/simple/\r\n",
      "Requirement already satisfied: torch in /Users/tommy/opt/anaconda3/envs/open-mmlab/lib/python3.7/site-packages (1.10.0)\r\n",
      "Requirement already satisfied: torchvision in /Users/tommy/opt/anaconda3/envs/open-mmlab/lib/python3.7/site-packages (0.11.1)\r\n",
      "Requirement already satisfied: torchaudio in /Users/tommy/opt/anaconda3/envs/open-mmlab/lib/python3.7/site-packages (0.10.0)\r\n",
      "Requirement already satisfied: typing_extensions in /Users/tommy/opt/anaconda3/envs/open-mmlab/lib/python3.7/site-packages (from torch) (4.0.1)\r\n",
      "Requirement already satisfied: numpy in /Users/tommy/opt/anaconda3/envs/open-mmlab/lib/python3.7/site-packages (from torchvision) (1.21.6)\r\n",
      "Requirement already satisfied: pillow!=8.3.0,>=5.3.0 in /Users/tommy/opt/anaconda3/envs/open-mmlab/lib/python3.7/site-packages (from torchvision) (8.4.0)\r\n"
     ]
    }
   ],
   "source": [
    "# 安装Pytorch\n",
    "!pip3 install torch torchvision torchaudio"
   ]
  },
  {
   "cell_type": "markdown",
   "id": "6d406cac",
   "metadata": {},
   "source": [
    "## 用MIM安装MMCV"
   ]
  },
  {
   "cell_type": "code",
   "execution_count": 2,
   "id": "28b1cdb2",
   "metadata": {},
   "outputs": [
    {
     "name": "stdout",
     "output_type": "stream",
     "text": [
      "Looking in indexes: https://mirrors.aliyun.com/pypi/simple/\n",
      "Requirement already satisfied: openmim in /Users/tommy/opt/anaconda3/envs/open-mmlab/lib/python3.7/site-packages (0.1.5)\n",
      "Collecting openmim\n",
      "  Downloading https://mirrors.aliyun.com/pypi/packages/b9/19/f7436e610163f65ff83de5a768180e73765e54bdaee5f5f37983aa3171b9/openmim-0.3.7-py2.py3-none-any.whl (51 kB)\n",
      "     |████████████████████████████████| 51 kB 284 kB/s            \n",
      "\u001b[?25hRequirement already satisfied: Click in /Users/tommy/opt/anaconda3/envs/open-mmlab/lib/python3.7/site-packages (from openmim) (7.1.2)\n",
      "Requirement already satisfied: colorama in /Users/tommy/opt/anaconda3/envs/open-mmlab/lib/python3.7/site-packages (from openmim) (0.4.4)\n",
      "Collecting rich\n",
      "  Downloading https://mirrors.aliyun.com/pypi/packages/42/5c/f44fc88bad850c4a20711a3349ec0e8bc50fece8d8b32c962d2aab70ea2b/rich-13.3.3-py3-none-any.whl (238 kB)\n",
      "     |████████████████████████████████| 238 kB 724 kB/s            \n",
      "\u001b[?25hRequirement already satisfied: model-index in /Users/tommy/opt/anaconda3/envs/open-mmlab/lib/python3.7/site-packages (from openmim) (0.1.11)\n",
      "Requirement already satisfied: tabulate in /Users/tommy/opt/anaconda3/envs/open-mmlab/lib/python3.7/site-packages (from openmim) (0.8.9)\n",
      "Requirement already satisfied: pip>=19.3 in /Users/tommy/opt/anaconda3/envs/open-mmlab/lib/python3.7/site-packages (from openmim) (21.3.1)\n",
      "Requirement already satisfied: pandas in /Users/tommy/opt/anaconda3/envs/open-mmlab/lib/python3.7/site-packages (from openmim) (1.3.4)\n",
      "Requirement already satisfied: requests in /Users/tommy/opt/anaconda3/envs/open-mmlab/lib/python3.7/site-packages (from openmim) (2.26.0)\n",
      "Requirement already satisfied: markdown in /Users/tommy/opt/anaconda3/envs/open-mmlab/lib/python3.7/site-packages (from model-index->openmim) (3.3.6)\n",
      "Requirement already satisfied: ordered-set in /Users/tommy/opt/anaconda3/envs/open-mmlab/lib/python3.7/site-packages (from model-index->openmim) (4.0.2)\n",
      "Requirement already satisfied: pyyaml in /Users/tommy/opt/anaconda3/envs/open-mmlab/lib/python3.7/site-packages (from model-index->openmim) (6.0)\n",
      "Requirement already satisfied: pytz>=2017.3 in /Users/tommy/opt/anaconda3/envs/open-mmlab/lib/python3.7/site-packages (from pandas->openmim) (2021.3)\n",
      "Requirement already satisfied: numpy>=1.17.3 in /Users/tommy/opt/anaconda3/envs/open-mmlab/lib/python3.7/site-packages (from pandas->openmim) (1.21.6)\n",
      "Requirement already satisfied: python-dateutil>=2.7.3 in /Users/tommy/opt/anaconda3/envs/open-mmlab/lib/python3.7/site-packages (from pandas->openmim) (2.8.2)\n",
      "Requirement already satisfied: idna<4,>=2.5 in /Users/tommy/opt/anaconda3/envs/open-mmlab/lib/python3.7/site-packages (from requests->openmim) (3.3)\n",
      "Requirement already satisfied: charset-normalizer~=2.0.0 in /Users/tommy/opt/anaconda3/envs/open-mmlab/lib/python3.7/site-packages (from requests->openmim) (2.0.9)\n",
      "Requirement already satisfied: certifi>=2017.4.17 in /Users/tommy/opt/anaconda3/envs/open-mmlab/lib/python3.7/site-packages (from requests->openmim) (2021.10.8)\n",
      "Requirement already satisfied: urllib3<1.27,>=1.21.1 in /Users/tommy/opt/anaconda3/envs/open-mmlab/lib/python3.7/site-packages (from requests->openmim) (1.26.7)\n",
      "Collecting pygments<3.0.0,>=2.13.0\n",
      "  Downloading https://mirrors.aliyun.com/pypi/packages/0b/42/d9d95cc461f098f204cd20c85642ae40fbff81f74c300341b8d0e0df14e0/Pygments-2.14.0-py3-none-any.whl (1.1 MB)\n",
      "     |████████████████████████████████| 1.1 MB 757 kB/s            \n",
      "\u001b[?25hCollecting markdown-it-py<3.0.0,>=2.2.0\n",
      "  Downloading https://mirrors.aliyun.com/pypi/packages/bf/25/2d88e8feee8e055d015343f9b86e370a1ccbec546f2865c98397aaef24af/markdown_it_py-2.2.0-py3-none-any.whl (84 kB)\n",
      "     |████████████████████████████████| 84 kB 851 kB/s            \n",
      "\u001b[?25hRequirement already satisfied: typing-extensions<5.0,>=4.0.0 in /Users/tommy/opt/anaconda3/envs/open-mmlab/lib/python3.7/site-packages (from rich->openmim) (4.0.1)\n",
      "Collecting mdurl~=0.1\n",
      "  Downloading https://mirrors.aliyun.com/pypi/packages/b3/38/89ba8ad64ae25be8de66a6d463314cf1eb366222074cfda9ee839c56a4b4/mdurl-0.1.2-py3-none-any.whl (10.0 kB)\n",
      "Requirement already satisfied: six>=1.5 in /Users/tommy/opt/anaconda3/envs/open-mmlab/lib/python3.7/site-packages (from python-dateutil>=2.7.3->pandas->openmim) (1.16.0)\n",
      "Collecting importlib-metadata>=4.4\n",
      "  Downloading https://mirrors.aliyun.com/pypi/packages/f8/7d/e3adad613703c86d62aa991b45d6f090cf59975078a8c8100b50a0c86948/importlib_metadata-6.1.0-py3-none-any.whl (21 kB)\n",
      "Requirement already satisfied: zipp>=0.5 in /Users/tommy/opt/anaconda3/envs/open-mmlab/lib/python3.7/site-packages (from importlib-metadata>=4.4->markdown->model-index->openmim) (3.6.0)\n",
      "Installing collected packages: mdurl, importlib-metadata, pygments, markdown-it-py, rich, openmim\n",
      "  Attempting uninstall: importlib-metadata\n",
      "    Found existing installation: importlib-metadata 4.2.0\n",
      "    Uninstalling importlib-metadata-4.2.0:\n",
      "      Successfully uninstalled importlib-metadata-4.2.0\n",
      "  Attempting uninstall: pygments\n",
      "    Found existing installation: Pygments 2.10.0\n",
      "    Uninstalling Pygments-2.10.0:\n",
      "      Successfully uninstalled Pygments-2.10.0\n",
      "  Attempting uninstall: openmim\n",
      "    Found existing installation: openmim 0.1.5\n",
      "    Uninstalling openmim-0.1.5:\n",
      "      Successfully uninstalled openmim-0.1.5\n",
      "\u001b[31mERROR: pip's dependency resolver does not currently take into account all the packages that are installed. This behaviour is the source of the following dependency conflicts.\n",
      "ipykernel 6.6.0 requires importlib-metadata<5; python_version < \"3.8.0\", but you have importlib-metadata 6.1.0 which is incompatible.\n",
      "flake8 4.0.1 requires importlib-metadata<4.3; python_version < \"3.8\", but you have importlib-metadata 6.1.0 which is incompatible.\n",
      "argcomplete 1.12.3 requires importlib-metadata<5,>=0.23; python_version == \"3.7\", but you have importlib-metadata 6.1.0 which is incompatible.\u001b[0m\n",
      "Successfully installed importlib-metadata-6.1.0 markdown-it-py-2.2.0 mdurl-0.1.2 openmim-0.3.7 pygments-2.14.0 rich-13.3.3\n",
      "/Users/tommy/opt/anaconda3/envs/open-mmlab/lib/python3.7/site-packages/setuptools/command/install.py:37: SetuptoolsDeprecationWarning: setup.py install is deprecated. Use build and pip and other standards-based tools.\n",
      "  setuptools.SetuptoolsDeprecationWarning,\n",
      "Looking in indexes: https://mirrors.aliyun.com/pypi/simple/\n",
      "Looking in links: https://download.openmmlab.com/mmcv/dist/cpu/torch1.10.0/index.html\n",
      "Collecting mmengine\n",
      "  Downloading https://mirrors.aliyun.com/pypi/packages/08/7d/baf7c6bf400c63fa06be595624b364684e7280341bd9b58c66ecdd93d8aa/mmengine-0.7.0-py3-none-any.whl (365 kB)\n",
      "     |████████████████████████████████| 365 kB 811 kB/s            \n",
      "\u001b[?25hRequirement already satisfied: yapf in /Users/tommy/opt/anaconda3/envs/open-mmlab/lib/python3.7/site-packages (from mmengine) (0.31.0)\n",
      "Requirement already satisfied: rich in /Users/tommy/opt/anaconda3/envs/open-mmlab/lib/python3.7/site-packages (from mmengine) (13.3.3)\n",
      "Requirement already satisfied: pyyaml in /Users/tommy/opt/anaconda3/envs/open-mmlab/lib/python3.7/site-packages (from mmengine) (6.0)\n",
      "Requirement already satisfied: opencv-python>=3 in /Users/tommy/opt/anaconda3/envs/open-mmlab/lib/python3.7/site-packages (from mmengine) (4.5.4.60)\n",
      "Requirement already satisfied: matplotlib in /Users/tommy/opt/anaconda3/envs/open-mmlab/lib/python3.7/site-packages (from mmengine) (3.5.0)\n",
      "Collecting termcolor\n",
      "  Downloading https://mirrors.aliyun.com/pypi/packages/aa/f4/8ddd8a684b4c005345f45740a449d93d0af7ccecd91319d0f4426cf08b36/termcolor-2.2.0-py3-none-any.whl (6.6 kB)\n",
      "Requirement already satisfied: numpy in /Users/tommy/opt/anaconda3/envs/open-mmlab/lib/python3.7/site-packages (from mmengine) (1.21.6)\n",
      "Requirement already satisfied: addict in /Users/tommy/opt/anaconda3/envs/open-mmlab/lib/python3.7/site-packages (from mmengine) (2.4.0)\n",
      "Requirement already satisfied: cycler>=0.10 in /Users/tommy/opt/anaconda3/envs/open-mmlab/lib/python3.7/site-packages (from matplotlib->mmengine) (0.11.0)\n",
      "Requirement already satisfied: fonttools>=4.22.0 in /Users/tommy/opt/anaconda3/envs/open-mmlab/lib/python3.7/site-packages (from matplotlib->mmengine) (4.28.3)\n",
      "Requirement already satisfied: python-dateutil>=2.7 in /Users/tommy/opt/anaconda3/envs/open-mmlab/lib/python3.7/site-packages (from matplotlib->mmengine) (2.8.2)\n",
      "Requirement already satisfied: kiwisolver>=1.0.1 in /Users/tommy/opt/anaconda3/envs/open-mmlab/lib/python3.7/site-packages (from matplotlib->mmengine) (1.3.2)\n",
      "Requirement already satisfied: packaging>=20.0 in /Users/tommy/opt/anaconda3/envs/open-mmlab/lib/python3.7/site-packages (from matplotlib->mmengine) (21.3)\n",
      "Requirement already satisfied: pillow>=6.2.0 in /Users/tommy/opt/anaconda3/envs/open-mmlab/lib/python3.7/site-packages (from matplotlib->mmengine) (8.4.0)\n",
      "Requirement already satisfied: setuptools-scm>=4 in /Users/tommy/opt/anaconda3/envs/open-mmlab/lib/python3.7/site-packages (from matplotlib->mmengine) (6.3.2)\n",
      "Requirement already satisfied: pyparsing>=2.2.1 in /Users/tommy/opt/anaconda3/envs/open-mmlab/lib/python3.7/site-packages (from matplotlib->mmengine) (3.0.6)\n",
      "Requirement already satisfied: typing-extensions<5.0,>=4.0.0 in /Users/tommy/opt/anaconda3/envs/open-mmlab/lib/python3.7/site-packages (from rich->mmengine) (4.0.1)\n",
      "Requirement already satisfied: markdown-it-py<3.0.0,>=2.2.0 in /Users/tommy/opt/anaconda3/envs/open-mmlab/lib/python3.7/site-packages (from rich->mmengine) (2.2.0)\n",
      "Requirement already satisfied: pygments<3.0.0,>=2.13.0 in /Users/tommy/opt/anaconda3/envs/open-mmlab/lib/python3.7/site-packages (from rich->mmengine) (2.14.0)\n"
     ]
    },
    {
     "name": "stdout",
     "output_type": "stream",
     "text": [
      "Requirement already satisfied: mdurl~=0.1 in /Users/tommy/opt/anaconda3/envs/open-mmlab/lib/python3.7/site-packages (from markdown-it-py<3.0.0,>=2.2.0->rich->mmengine) (0.1.2)\n",
      "Requirement already satisfied: six>=1.5 in /Users/tommy/opt/anaconda3/envs/open-mmlab/lib/python3.7/site-packages (from python-dateutil>=2.7->matplotlib->mmengine) (1.16.0)\n",
      "Requirement already satisfied: tomli>=1.0.0 in /Users/tommy/opt/anaconda3/envs/open-mmlab/lib/python3.7/site-packages (from setuptools-scm>=4->matplotlib->mmengine) (1.2.2)\n",
      "Requirement already satisfied: setuptools in /Users/tommy/opt/anaconda3/envs/open-mmlab/lib/python3.7/site-packages (from setuptools-scm>=4->matplotlib->mmengine) (59.4.0)\n",
      "Installing collected packages: termcolor, mmengine\n",
      "/Users/tommy/opt/anaconda3/envs/open-mmlab/lib/python3.7/site-packages/setuptools/command/install.py:37: SetuptoolsDeprecationWarning: setup.py install is deprecated. Use build and pip and other standards-based tools.\n",
      "  setuptools.SetuptoolsDeprecationWarning,\n",
      "/Users/tommy/opt/anaconda3/envs/open-mmlab/lib/python3.7/site-packages/setuptools/command/install.py:37: SetuptoolsDeprecationWarning: setup.py install is deprecated. Use build and pip and other standards-based tools.\n",
      "  setuptools.SetuptoolsDeprecationWarning,\n",
      "Successfully installed mmengine-0.7.0 termcolor-2.2.0\n",
      "/Users/tommy/opt/anaconda3/envs/open-mmlab/lib/python3.7/site-packages/setuptools/command/install.py:37: SetuptoolsDeprecationWarning: setup.py install is deprecated. Use build and pip and other standards-based tools.\n",
      "  setuptools.SetuptoolsDeprecationWarning,\n",
      "Looking in indexes: https://mirrors.aliyun.com/pypi/simple/\n",
      "Looking in links: https://download.openmmlab.com/mmcv/dist/cpu/torch1.10.0/index.html\n",
      "Collecting mmcv==2.0.0rc3\n",
      "  Downloading https://download.openmmlab.com/mmcv/dist/cpu/torch1.10.0/mmcv-2.0.0rc3-cp37-cp37m-macosx_10_15_x86_64.whl (1.2 MB)\n",
      "     |████████████████████████████████| 1.2 MB 1.4 MB/s            \n",
      "\u001b[?25hRequirement already satisfied: addict in /Users/tommy/opt/anaconda3/envs/open-mmlab/lib/python3.7/site-packages (from mmcv==2.0.0rc3) (2.4.0)\n",
      "Requirement already satisfied: mmengine in /Users/tommy/opt/anaconda3/envs/open-mmlab/lib/python3.7/site-packages (from mmcv==2.0.0rc3) (0.7.0)\n",
      "Requirement already satisfied: pyyaml in /Users/tommy/opt/anaconda3/envs/open-mmlab/lib/python3.7/site-packages (from mmcv==2.0.0rc3) (6.0)\n",
      "Requirement already satisfied: numpy in /Users/tommy/opt/anaconda3/envs/open-mmlab/lib/python3.7/site-packages (from mmcv==2.0.0rc3) (1.21.6)\n",
      "Requirement already satisfied: packaging in /Users/tommy/opt/anaconda3/envs/open-mmlab/lib/python3.7/site-packages (from mmcv==2.0.0rc3) (21.3)\n",
      "Requirement already satisfied: opencv-python>=3 in /Users/tommy/opt/anaconda3/envs/open-mmlab/lib/python3.7/site-packages (from mmcv==2.0.0rc3) (4.5.4.60)\n",
      "Requirement already satisfied: yapf in /Users/tommy/opt/anaconda3/envs/open-mmlab/lib/python3.7/site-packages (from mmcv==2.0.0rc3) (0.31.0)\n",
      "Requirement already satisfied: Pillow in /Users/tommy/opt/anaconda3/envs/open-mmlab/lib/python3.7/site-packages (from mmcv==2.0.0rc3) (8.4.0)\n",
      "Requirement already satisfied: rich in /Users/tommy/opt/anaconda3/envs/open-mmlab/lib/python3.7/site-packages (from mmengine->mmcv==2.0.0rc3) (13.3.3)\n",
      "Requirement already satisfied: matplotlib in /Users/tommy/opt/anaconda3/envs/open-mmlab/lib/python3.7/site-packages (from mmengine->mmcv==2.0.0rc3) (3.5.0)\n",
      "Requirement already satisfied: termcolor in /Users/tommy/opt/anaconda3/envs/open-mmlab/lib/python3.7/site-packages (from mmengine->mmcv==2.0.0rc3) (2.2.0)\n",
      "Requirement already satisfied: pyparsing!=3.0.5,>=2.0.2 in /Users/tommy/opt/anaconda3/envs/open-mmlab/lib/python3.7/site-packages (from packaging->mmcv==2.0.0rc3) (3.0.6)\n",
      "Requirement already satisfied: python-dateutil>=2.7 in /Users/tommy/opt/anaconda3/envs/open-mmlab/lib/python3.7/site-packages (from matplotlib->mmengine->mmcv==2.0.0rc3) (2.8.2)\n",
      "Requirement already satisfied: cycler>=0.10 in /Users/tommy/opt/anaconda3/envs/open-mmlab/lib/python3.7/site-packages (from matplotlib->mmengine->mmcv==2.0.0rc3) (0.11.0)\n",
      "Requirement already satisfied: fonttools>=4.22.0 in /Users/tommy/opt/anaconda3/envs/open-mmlab/lib/python3.7/site-packages (from matplotlib->mmengine->mmcv==2.0.0rc3) (4.28.3)\n",
      "Requirement already satisfied: setuptools-scm>=4 in /Users/tommy/opt/anaconda3/envs/open-mmlab/lib/python3.7/site-packages (from matplotlib->mmengine->mmcv==2.0.0rc3) (6.3.2)\n",
      "Requirement already satisfied: kiwisolver>=1.0.1 in /Users/tommy/opt/anaconda3/envs/open-mmlab/lib/python3.7/site-packages (from matplotlib->mmengine->mmcv==2.0.0rc3) (1.3.2)\n",
      "Requirement already satisfied: pygments<3.0.0,>=2.13.0 in /Users/tommy/opt/anaconda3/envs/open-mmlab/lib/python3.7/site-packages (from rich->mmengine->mmcv==2.0.0rc3) (2.14.0)\n",
      "Requirement already satisfied: markdown-it-py<3.0.0,>=2.2.0 in /Users/tommy/opt/anaconda3/envs/open-mmlab/lib/python3.7/site-packages (from rich->mmengine->mmcv==2.0.0rc3) (2.2.0)\n",
      "Requirement already satisfied: typing-extensions<5.0,>=4.0.0 in /Users/tommy/opt/anaconda3/envs/open-mmlab/lib/python3.7/site-packages (from rich->mmengine->mmcv==2.0.0rc3) (4.0.1)\n",
      "Requirement already satisfied: mdurl~=0.1 in /Users/tommy/opt/anaconda3/envs/open-mmlab/lib/python3.7/site-packages (from markdown-it-py<3.0.0,>=2.2.0->rich->mmengine->mmcv==2.0.0rc3) (0.1.2)\n",
      "Requirement already satisfied: six>=1.5 in /Users/tommy/opt/anaconda3/envs/open-mmlab/lib/python3.7/site-packages (from python-dateutil>=2.7->matplotlib->mmengine->mmcv==2.0.0rc3) (1.16.0)\n",
      "Requirement already satisfied: tomli>=1.0.0 in /Users/tommy/opt/anaconda3/envs/open-mmlab/lib/python3.7/site-packages (from setuptools-scm>=4->matplotlib->mmengine->mmcv==2.0.0rc3) (1.2.2)\n",
      "Requirement already satisfied: setuptools in /Users/tommy/opt/anaconda3/envs/open-mmlab/lib/python3.7/site-packages (from setuptools-scm>=4->matplotlib->mmengine->mmcv==2.0.0rc3) (59.4.0)\n",
      "Installing collected packages: mmcv\n",
      "  Attempting uninstall: mmcv\n",
      "    Found existing installation: mmcv 1.5.0\n",
      "    Uninstalling mmcv-1.5.0:\n",
      "      Successfully uninstalled mmcv-1.5.0\n",
      "/Users/tommy/opt/anaconda3/envs/open-mmlab/lib/python3.7/site-packages/setuptools/command/install.py:37: SetuptoolsDeprecationWarning: setup.py install is deprecated. Use build and pip and other standards-based tools.\n",
      "  setuptools.SetuptoolsDeprecationWarning,\n",
      "Successfully installed mmcv-2.0.0rc3\n",
      "/Users/tommy/opt/anaconda3/envs/open-mmlab/lib/python3.7/site-packages/setuptools/command/install.py:37: SetuptoolsDeprecationWarning: setup.py install is deprecated. Use build and pip and other standards-based tools.\n",
      "  setuptools.SetuptoolsDeprecationWarning,\n",
      "Looking in indexes: https://mirrors.aliyun.com/pypi/simple/\n",
      "Looking in links: https://download.openmmlab.com/mmcv/dist/cpu/torch1.10.0/index.html\n",
      "Collecting mmdet>=3.0.0rc6\n",
      "  Downloading https://mirrors.aliyun.com/pypi/packages/80/0d/338e18bb8c3c59857e9b06a7c2af4c6c729c3cddad73706a66a20d4ba0b3/mmdet-3.0.0rc6-py3-none-any.whl (1.7 MB)\n",
      "     |████████████████████████████████| 1.7 MB 1.1 MB/s            \n",
      "\u001b[?25hRequirement already satisfied: pycocotools in /Users/tommy/opt/anaconda3/envs/open-mmlab/lib/python3.7/site-packages (from mmdet>=3.0.0rc6) (2.0.3)\n",
      "Requirement already satisfied: six in /Users/tommy/opt/anaconda3/envs/open-mmlab/lib/python3.7/site-packages (from mmdet>=3.0.0rc6) (1.16.0)\n",
      "Requirement already satisfied: scipy in /Users/tommy/opt/anaconda3/envs/open-mmlab/lib/python3.7/site-packages (from mmdet>=3.0.0rc6) (1.7.3)\n",
      "Requirement already satisfied: numpy in /Users/tommy/opt/anaconda3/envs/open-mmlab/lib/python3.7/site-packages (from mmdet>=3.0.0rc6) (1.21.6)\n",
      "Requirement already satisfied: terminaltables in /Users/tommy/opt/anaconda3/envs/open-mmlab/lib/python3.7/site-packages (from mmdet>=3.0.0rc6) (3.1.10)\n",
      "Requirement already satisfied: matplotlib in /Users/tommy/opt/anaconda3/envs/open-mmlab/lib/python3.7/site-packages (from mmdet>=3.0.0rc6) (3.5.0)\n",
      "Collecting mmcv<2.1.0,>=2.0.0rc4\n",
      "  Downloading https://download.openmmlab.com/mmcv/dist/cpu/torch1.10.0/mmcv-2.0.0rc4-cp37-cp37m-macosx_10_15_x86_64.whl (1.2 MB)\n",
      "     |████████████████████████████████| 1.2 MB 2.0 MB/s            \n",
      "\u001b[?25hRequirement already satisfied: mmengine<1.0.0,>=0.4.0 in /Users/tommy/opt/anaconda3/envs/open-mmlab/lib/python3.7/site-packages (from mmdet>=3.0.0rc6) (0.7.0)\n",
      "Requirement already satisfied: Pillow in /Users/tommy/opt/anaconda3/envs/open-mmlab/lib/python3.7/site-packages (from mmcv<2.1.0,>=2.0.0rc4->mmdet>=3.0.0rc6) (8.4.0)\n",
      "Requirement already satisfied: opencv-python>=3 in /Users/tommy/opt/anaconda3/envs/open-mmlab/lib/python3.7/site-packages (from mmcv<2.1.0,>=2.0.0rc4->mmdet>=3.0.0rc6) (4.5.4.60)\n",
      "Requirement already satisfied: addict in /Users/tommy/opt/anaconda3/envs/open-mmlab/lib/python3.7/site-packages (from mmcv<2.1.0,>=2.0.0rc4->mmdet>=3.0.0rc6) (2.4.0)\n",
      "Requirement already satisfied: packaging in /Users/tommy/opt/anaconda3/envs/open-mmlab/lib/python3.7/site-packages (from mmcv<2.1.0,>=2.0.0rc4->mmdet>=3.0.0rc6) (21.3)\n",
      "Requirement already satisfied: yapf in /Users/tommy/opt/anaconda3/envs/open-mmlab/lib/python3.7/site-packages (from mmcv<2.1.0,>=2.0.0rc4->mmdet>=3.0.0rc6) (0.31.0)\n",
      "Requirement already satisfied: pyyaml in /Users/tommy/opt/anaconda3/envs/open-mmlab/lib/python3.7/site-packages (from mmcv<2.1.0,>=2.0.0rc4->mmdet>=3.0.0rc6) (6.0)\n",
      "Requirement already satisfied: rich in /Users/tommy/opt/anaconda3/envs/open-mmlab/lib/python3.7/site-packages (from mmengine<1.0.0,>=0.4.0->mmdet>=3.0.0rc6) (13.3.3)\n"
     ]
    },
    {
     "name": "stdout",
     "output_type": "stream",
     "text": [
      "Requirement already satisfied: termcolor in /Users/tommy/opt/anaconda3/envs/open-mmlab/lib/python3.7/site-packages (from mmengine<1.0.0,>=0.4.0->mmdet>=3.0.0rc6) (2.2.0)\n",
      "Requirement already satisfied: cycler>=0.10 in /Users/tommy/opt/anaconda3/envs/open-mmlab/lib/python3.7/site-packages (from matplotlib->mmdet>=3.0.0rc6) (0.11.0)\n",
      "Requirement already satisfied: fonttools>=4.22.0 in /Users/tommy/opt/anaconda3/envs/open-mmlab/lib/python3.7/site-packages (from matplotlib->mmdet>=3.0.0rc6) (4.28.3)\n",
      "Requirement already satisfied: kiwisolver>=1.0.1 in /Users/tommy/opt/anaconda3/envs/open-mmlab/lib/python3.7/site-packages (from matplotlib->mmdet>=3.0.0rc6) (1.3.2)\n",
      "Requirement already satisfied: pyparsing>=2.2.1 in /Users/tommy/opt/anaconda3/envs/open-mmlab/lib/python3.7/site-packages (from matplotlib->mmdet>=3.0.0rc6) (3.0.6)\n",
      "Requirement already satisfied: setuptools-scm>=4 in /Users/tommy/opt/anaconda3/envs/open-mmlab/lib/python3.7/site-packages (from matplotlib->mmdet>=3.0.0rc6) (6.3.2)\n",
      "Requirement already satisfied: python-dateutil>=2.7 in /Users/tommy/opt/anaconda3/envs/open-mmlab/lib/python3.7/site-packages (from matplotlib->mmdet>=3.0.0rc6) (2.8.2)\n",
      "Requirement already satisfied: cython>=0.27.3 in /Users/tommy/opt/anaconda3/envs/open-mmlab/lib/python3.7/site-packages (from pycocotools->mmdet>=3.0.0rc6) (0.29.25)\n",
      "Requirement already satisfied: setuptools>=18.0 in /Users/tommy/opt/anaconda3/envs/open-mmlab/lib/python3.7/site-packages (from pycocotools->mmdet>=3.0.0rc6) (59.4.0)\n",
      "Requirement already satisfied: tomli>=1.0.0 in /Users/tommy/opt/anaconda3/envs/open-mmlab/lib/python3.7/site-packages (from setuptools-scm>=4->matplotlib->mmdet>=3.0.0rc6) (1.2.2)\n",
      "Requirement already satisfied: markdown-it-py<3.0.0,>=2.2.0 in /Users/tommy/opt/anaconda3/envs/open-mmlab/lib/python3.7/site-packages (from rich->mmengine<1.0.0,>=0.4.0->mmdet>=3.0.0rc6) (2.2.0)\n",
      "Requirement already satisfied: pygments<3.0.0,>=2.13.0 in /Users/tommy/opt/anaconda3/envs/open-mmlab/lib/python3.7/site-packages (from rich->mmengine<1.0.0,>=0.4.0->mmdet>=3.0.0rc6) (2.14.0)\n",
      "Requirement already satisfied: typing-extensions<5.0,>=4.0.0 in /Users/tommy/opt/anaconda3/envs/open-mmlab/lib/python3.7/site-packages (from rich->mmengine<1.0.0,>=0.4.0->mmdet>=3.0.0rc6) (4.0.1)\n",
      "Requirement already satisfied: mdurl~=0.1 in /Users/tommy/opt/anaconda3/envs/open-mmlab/lib/python3.7/site-packages (from markdown-it-py<3.0.0,>=2.2.0->rich->mmengine<1.0.0,>=0.4.0->mmdet>=3.0.0rc6) (0.1.2)\n",
      "Installing collected packages: mmcv, mmdet\n",
      "  Attempting uninstall: mmcv\n",
      "    Found existing installation: mmcv 2.0.0rc3\n",
      "    Uninstalling mmcv-2.0.0rc3:\n",
      "      Successfully uninstalled mmcv-2.0.0rc3\n",
      "  Attempting uninstall: mmdet\n",
      "    Found existing installation: mmdet 2.25.1\n",
      "    Uninstalling mmdet-2.25.1:\n",
      "      Successfully uninstalled mmdet-2.25.1\n",
      "/Users/tommy/opt/anaconda3/envs/open-mmlab/lib/python3.7/site-packages/setuptools/command/install.py:37: SetuptoolsDeprecationWarning: setup.py install is deprecated. Use build and pip and other standards-based tools.\n",
      "  setuptools.SetuptoolsDeprecationWarning,\n",
      "/Users/tommy/opt/anaconda3/envs/open-mmlab/lib/python3.7/site-packages/setuptools/command/install.py:37: SetuptoolsDeprecationWarning: setup.py install is deprecated. Use build and pip and other standards-based tools.\n",
      "  setuptools.SetuptoolsDeprecationWarning,\n",
      "\u001b[31mERROR: pip's dependency resolver does not currently take into account all the packages that are installed. This behaviour is the source of the following dependency conflicts.\n",
      "mmpose 0.28.0 requires mmtrack>=0.6.0, which is not installed.\u001b[0m\n",
      "Successfully installed mmcv-2.0.0rc4 mmdet-3.0.0rc6\n"
     ]
    }
   ],
   "source": [
    "!pip install -U openmim\n",
    "!mim install mmengine\n",
    "!mim install 'mmcv==2.0.0rc3'\n",
    "!mim install \"mmdet>=3.0.0rc6\""
   ]
  },
  {
   "cell_type": "markdown",
   "id": "61d46cc6",
   "metadata": {},
   "source": [
    "## 安装其他工具包"
   ]
  },
  {
   "cell_type": "code",
   "execution_count": 4,
   "id": "aa500a5e",
   "metadata": {},
   "outputs": [
    {
     "name": "stdout",
     "output_type": "stream",
     "text": [
      "Looking in indexes: https://pypi.tuna.tsinghua.edu.cn/simple\n",
      "Requirement already satisfied: opencv-python in /Users/tommy/opt/anaconda3/envs/open-mmlab/lib/python3.7/site-packages (4.5.4.60)\n",
      "Requirement already satisfied: pillow in /Users/tommy/opt/anaconda3/envs/open-mmlab/lib/python3.7/site-packages (8.4.0)\n",
      "Requirement already satisfied: matplotlib in /Users/tommy/opt/anaconda3/envs/open-mmlab/lib/python3.7/site-packages (3.5.0)\n",
      "Collecting seaborn\n",
      "  Downloading https://pypi.tuna.tsinghua.edu.cn/packages/8f/2e/17bbb83fbf102687bb2aa3d808add39da820a7698159302a1a69bb82e01c/seaborn-0.12.2-py3-none-any.whl (293 kB)\n",
      "     |████████████████████████████████| 293 kB 1.3 MB/s            \n",
      "\u001b[?25hRequirement already satisfied: tqdm in /Users/tommy/opt/anaconda3/envs/open-mmlab/lib/python3.7/site-packages (4.64.0)\n",
      "Requirement already satisfied: pycocotools in /Users/tommy/opt/anaconda3/envs/open-mmlab/lib/python3.7/site-packages (2.0.3)\n",
      "Requirement already satisfied: numpy>=1.14.5 in /Users/tommy/opt/anaconda3/envs/open-mmlab/lib/python3.7/site-packages (from opencv-python) (1.21.6)\n",
      "Requirement already satisfied: cycler>=0.10 in /Users/tommy/opt/anaconda3/envs/open-mmlab/lib/python3.7/site-packages (from matplotlib) (0.11.0)\n",
      "Requirement already satisfied: python-dateutil>=2.7 in /Users/tommy/opt/anaconda3/envs/open-mmlab/lib/python3.7/site-packages (from matplotlib) (2.8.2)\n",
      "Requirement already satisfied: pyparsing>=2.2.1 in /Users/tommy/opt/anaconda3/envs/open-mmlab/lib/python3.7/site-packages (from matplotlib) (3.0.6)\n",
      "Requirement already satisfied: packaging>=20.0 in /Users/tommy/opt/anaconda3/envs/open-mmlab/lib/python3.7/site-packages (from matplotlib) (21.3)\n",
      "Requirement already satisfied: setuptools-scm>=4 in /Users/tommy/opt/anaconda3/envs/open-mmlab/lib/python3.7/site-packages (from matplotlib) (6.3.2)\n",
      "Requirement already satisfied: fonttools>=4.22.0 in /Users/tommy/opt/anaconda3/envs/open-mmlab/lib/python3.7/site-packages (from matplotlib) (4.28.3)\n",
      "Requirement already satisfied: kiwisolver>=1.0.1 in /Users/tommy/opt/anaconda3/envs/open-mmlab/lib/python3.7/site-packages (from matplotlib) (1.3.2)\n",
      "Requirement already satisfied: typing_extensions in /Users/tommy/opt/anaconda3/envs/open-mmlab/lib/python3.7/site-packages (from seaborn) (4.0.1)\n",
      "Requirement already satisfied: pandas>=0.25 in /Users/tommy/opt/anaconda3/envs/open-mmlab/lib/python3.7/site-packages (from seaborn) (1.3.4)\n",
      "Requirement already satisfied: setuptools>=18.0 in /Users/tommy/opt/anaconda3/envs/open-mmlab/lib/python3.7/site-packages (from pycocotools) (59.4.0)\n",
      "Requirement already satisfied: cython>=0.27.3 in /Users/tommy/opt/anaconda3/envs/open-mmlab/lib/python3.7/site-packages (from pycocotools) (0.29.25)\n",
      "Requirement already satisfied: pytz>=2017.3 in /Users/tommy/opt/anaconda3/envs/open-mmlab/lib/python3.7/site-packages (from pandas>=0.25->seaborn) (2021.3)\n",
      "Requirement already satisfied: six>=1.5 in /Users/tommy/opt/anaconda3/envs/open-mmlab/lib/python3.7/site-packages (from python-dateutil>=2.7->matplotlib) (1.16.0)\n",
      "Requirement already satisfied: tomli>=1.0.0 in /Users/tommy/opt/anaconda3/envs/open-mmlab/lib/python3.7/site-packages (from setuptools-scm>=4->matplotlib) (1.2.2)\n",
      "Installing collected packages: seaborn\n",
      "Successfully installed seaborn-0.12.2\n"
     ]
    }
   ],
   "source": [
    "!pip install opencv-python pillow matplotlib seaborn tqdm pycocotools -i https://pypi.tuna.tsinghua.edu.cn/simple\n"
   ]
  },
  {
   "cell_type": "markdown",
   "id": "ead8aa74",
   "metadata": {},
   "source": [
    "## 下载 MMPose"
   ]
  },
  {
   "cell_type": "code",
   "execution_count": 3,
   "id": "07f46840",
   "metadata": {},
   "outputs": [],
   "source": [
    "# 删掉原有的 mmpose 文件夹（如有）\n",
    "!rm -rf mmpose"
   ]
  },
  {
   "cell_type": "code",
   "execution_count": 5,
   "id": "45391724",
   "metadata": {},
   "outputs": [
    {
     "name": "stdout",
     "output_type": "stream",
     "text": [
      "Cloning into 'mmpose'...\n",
      "remote: Enumerating objects: 25822, done.\u001b[K\n",
      "remote: Counting objects: 100% (541/541), done.\u001b[K\n",
      "remote: Compressing objects: 100% (321/321), done.\u001b[K\n",
      "remote: Total 25822 (delta 267), reused 433 (delta 209), pack-reused 25281\u001b[K\n",
      "Receiving objects: 100% (25822/25822), 27.58 MiB | 182.00 KiB/s, done.\n",
      "Resolving deltas: 100% (18322/18322), done.\n"
     ]
    }
   ],
   "source": [
    "# 从 github 上下载最新的 mmpose 源代码\n",
    "!git clone https://github.com/open-mmlab/mmpose.git -b 1.x"
   ]
  },
  {
   "cell_type": "code",
   "execution_count": 6,
   "id": "4d8d30a0",
   "metadata": {},
   "outputs": [],
   "source": [
    "# 进入主目录\n",
    "import os\n",
    "os.chdir('mmpose')"
   ]
  },
  {
   "cell_type": "markdown",
   "id": "19d963fa",
   "metadata": {},
   "source": [
    "## 安装 MMPose"
   ]
  },
  {
   "cell_type": "code",
   "execution_count": 10,
   "id": "9f134bec",
   "metadata": {
    "scrolled": true
   },
   "outputs": [
    {
     "name": "stdout",
     "output_type": "stream",
     "text": [
      "/Users/tommy/opt/anaconda3/envs/open-mmlab/lib/python3.7/site-packages/setuptools/command/install.py:37: SetuptoolsDeprecationWarning: setup.py install is deprecated. Use build and pip and other standards-based tools.\n",
      "  setuptools.SetuptoolsDeprecationWarning,\n",
      "Looking in indexes: https://mirrors.aliyun.com/pypi/simple/\n",
      "Looking in links: https://download.openmmlab.com/mmcv/dist/cpu/torch1.10.0/index.html\n",
      "Obtaining file:///Users/tommy/Desktop/%E4%B8%8A%E6%B5%B7%E4%BA%BA%E5%B7%A5%E6%99%BA%E8%83%BD%E5%AE%9E%E9%AA%8C%E5%AE%A4/mmpose-0403/mmpose\n",
      "  Preparing metadata (setup.py) ... \u001b[?25ldone\n",
      "\u001b[?25hRequirement already satisfied: chumpy in /Users/tommy/opt/anaconda3/envs/open-mmlab/lib/python3.7/site-packages (from mmpose==1.0.0rc1) (0.70)\n",
      "Requirement already satisfied: json_tricks in /Users/tommy/opt/anaconda3/envs/open-mmlab/lib/python3.7/site-packages (from mmpose==1.0.0rc1) (3.15.5)\n",
      "Requirement already satisfied: matplotlib in /Users/tommy/opt/anaconda3/envs/open-mmlab/lib/python3.7/site-packages (from mmpose==1.0.0rc1) (3.5.0)\n",
      "Requirement already satisfied: munkres in /Users/tommy/opt/anaconda3/envs/open-mmlab/lib/python3.7/site-packages (from mmpose==1.0.0rc1) (1.1.4)\n",
      "Requirement already satisfied: numpy in /Users/tommy/opt/anaconda3/envs/open-mmlab/lib/python3.7/site-packages (from mmpose==1.0.0rc1) (1.21.6)\n",
      "Requirement already satisfied: opencv-python in /Users/tommy/opt/anaconda3/envs/open-mmlab/lib/python3.7/site-packages (from mmpose==1.0.0rc1) (4.5.4.60)\n",
      "Requirement already satisfied: pillow in /Users/tommy/opt/anaconda3/envs/open-mmlab/lib/python3.7/site-packages (from mmpose==1.0.0rc1) (8.4.0)\n",
      "Requirement already satisfied: scipy in /Users/tommy/opt/anaconda3/envs/open-mmlab/lib/python3.7/site-packages (from mmpose==1.0.0rc1) (1.7.3)\n",
      "Requirement already satisfied: torchvision in /Users/tommy/opt/anaconda3/envs/open-mmlab/lib/python3.7/site-packages (from mmpose==1.0.0rc1) (0.11.1)\n",
      "Requirement already satisfied: xtcocotools>=1.12 in /Users/tommy/opt/anaconda3/envs/open-mmlab/lib/python3.7/site-packages (from mmpose==1.0.0rc1) (1.12)\n",
      "Requirement already satisfied: mmcv<2.1.0,>=2.0.0rc1 in /Users/tommy/opt/anaconda3/envs/open-mmlab/lib/python3.7/site-packages (from mmpose==1.0.0rc1) (2.0.0rc4)\n",
      "Requirement already satisfied: mmdet<3.1.0,>=3.0.0rc6 in /Users/tommy/opt/anaconda3/envs/open-mmlab/lib/python3.7/site-packages (from mmpose==1.0.0rc1) (3.0.0rc6)\n",
      "Requirement already satisfied: mmengine<1.0.0,>=0.4.0 in /Users/tommy/opt/anaconda3/envs/open-mmlab/lib/python3.7/site-packages (from mmpose==1.0.0rc1) (0.7.0)\n",
      "Requirement already satisfied: yapf in /Users/tommy/opt/anaconda3/envs/open-mmlab/lib/python3.7/site-packages (from mmcv<2.1.0,>=2.0.0rc1->mmpose==1.0.0rc1) (0.31.0)\n",
      "Requirement already satisfied: addict in /Users/tommy/opt/anaconda3/envs/open-mmlab/lib/python3.7/site-packages (from mmcv<2.1.0,>=2.0.0rc1->mmpose==1.0.0rc1) (2.4.0)\n",
      "Requirement already satisfied: packaging in /Users/tommy/opt/anaconda3/envs/open-mmlab/lib/python3.7/site-packages (from mmcv<2.1.0,>=2.0.0rc1->mmpose==1.0.0rc1) (21.3)\n",
      "Requirement already satisfied: pyyaml in /Users/tommy/opt/anaconda3/envs/open-mmlab/lib/python3.7/site-packages (from mmcv<2.1.0,>=2.0.0rc1->mmpose==1.0.0rc1) (6.0)\n",
      "Requirement already satisfied: pycocotools in /Users/tommy/opt/anaconda3/envs/open-mmlab/lib/python3.7/site-packages (from mmdet<3.1.0,>=3.0.0rc6->mmpose==1.0.0rc1) (2.0.3)\n",
      "Requirement already satisfied: six in /Users/tommy/opt/anaconda3/envs/open-mmlab/lib/python3.7/site-packages (from mmdet<3.1.0,>=3.0.0rc6->mmpose==1.0.0rc1) (1.16.0)\n",
      "Requirement already satisfied: terminaltables in /Users/tommy/opt/anaconda3/envs/open-mmlab/lib/python3.7/site-packages (from mmdet<3.1.0,>=3.0.0rc6->mmpose==1.0.0rc1) (3.1.10)\n",
      "Requirement already satisfied: termcolor in /Users/tommy/opt/anaconda3/envs/open-mmlab/lib/python3.7/site-packages (from mmengine<1.0.0,>=0.4.0->mmpose==1.0.0rc1) (2.2.0)\n",
      "Requirement already satisfied: rich in /Users/tommy/opt/anaconda3/envs/open-mmlab/lib/python3.7/site-packages (from mmengine<1.0.0,>=0.4.0->mmpose==1.0.0rc1) (13.3.3)\n",
      "Requirement already satisfied: cython>=0.27.3 in /Users/tommy/opt/anaconda3/envs/open-mmlab/lib/python3.7/site-packages (from xtcocotools>=1.12->mmpose==1.0.0rc1) (0.29.25)\n",
      "Requirement already satisfied: setuptools>=18.0 in /Users/tommy/opt/anaconda3/envs/open-mmlab/lib/python3.7/site-packages (from xtcocotools>=1.12->mmpose==1.0.0rc1) (59.4.0)\n",
      "Requirement already satisfied: python-dateutil>=2.7 in /Users/tommy/opt/anaconda3/envs/open-mmlab/lib/python3.7/site-packages (from matplotlib->mmpose==1.0.0rc1) (2.8.2)\n",
      "Requirement already satisfied: cycler>=0.10 in /Users/tommy/opt/anaconda3/envs/open-mmlab/lib/python3.7/site-packages (from matplotlib->mmpose==1.0.0rc1) (0.11.0)\n",
      "Requirement already satisfied: fonttools>=4.22.0 in /Users/tommy/opt/anaconda3/envs/open-mmlab/lib/python3.7/site-packages (from matplotlib->mmpose==1.0.0rc1) (4.28.3)\n",
      "Requirement already satisfied: pyparsing>=2.2.1 in /Users/tommy/opt/anaconda3/envs/open-mmlab/lib/python3.7/site-packages (from matplotlib->mmpose==1.0.0rc1) (3.0.6)\n",
      "Requirement already satisfied: kiwisolver>=1.0.1 in /Users/tommy/opt/anaconda3/envs/open-mmlab/lib/python3.7/site-packages (from matplotlib->mmpose==1.0.0rc1) (1.3.2)\n",
      "Requirement already satisfied: setuptools-scm>=4 in /Users/tommy/opt/anaconda3/envs/open-mmlab/lib/python3.7/site-packages (from matplotlib->mmpose==1.0.0rc1) (6.3.2)\n",
      "Requirement already satisfied: torch in /Users/tommy/opt/anaconda3/envs/open-mmlab/lib/python3.7/site-packages (from torchvision->mmpose==1.0.0rc1) (1.10.0)\n",
      "Requirement already satisfied: tomli>=1.0.0 in /Users/tommy/opt/anaconda3/envs/open-mmlab/lib/python3.7/site-packages (from setuptools-scm>=4->matplotlib->mmpose==1.0.0rc1) (1.2.2)\n",
      "Requirement already satisfied: markdown-it-py<3.0.0,>=2.2.0 in /Users/tommy/opt/anaconda3/envs/open-mmlab/lib/python3.7/site-packages (from rich->mmengine<1.0.0,>=0.4.0->mmpose==1.0.0rc1) (2.2.0)\n",
      "Requirement already satisfied: pygments<3.0.0,>=2.13.0 in /Users/tommy/opt/anaconda3/envs/open-mmlab/lib/python3.7/site-packages (from rich->mmengine<1.0.0,>=0.4.0->mmpose==1.0.0rc1) (2.14.0)\n",
      "Requirement already satisfied: typing-extensions<5.0,>=4.0.0 in /Users/tommy/opt/anaconda3/envs/open-mmlab/lib/python3.7/site-packages (from rich->mmengine<1.0.0,>=0.4.0->mmpose==1.0.0rc1) (4.0.1)\n",
      "Requirement already satisfied: mdurl~=0.1 in /Users/tommy/opt/anaconda3/envs/open-mmlab/lib/python3.7/site-packages (from markdown-it-py<3.0.0,>=2.2.0->rich->mmengine<1.0.0,>=0.4.0->mmpose==1.0.0rc1) (0.1.2)\n",
      "Installing collected packages: mmpose\n",
      "  Attempting uninstall: mmpose\n",
      "    Found existing installation: mmpose 0.28.0\n",
      "    Uninstalling mmpose-0.28.0:\n",
      "      Successfully uninstalled mmpose-0.28.0\n",
      "  Running setup.py develop for mmpose\n",
      "Successfully installed mmpose-1.0.0rc1\n"
     ]
    }
   ],
   "source": [
    "!mim install -e ."
   ]
  },
  {
   "cell_type": "markdown",
   "id": "489f542c",
   "metadata": {},
   "source": [
    "## 检查安装成功"
   ]
  },
  {
   "cell_type": "code",
   "execution_count": 7,
   "id": "f9c52f3a",
   "metadata": {},
   "outputs": [
    {
     "name": "stderr",
     "output_type": "stream",
     "text": [
      "/Users/tommy/opt/anaconda3/envs/open-mmlab/lib/python3.7/site-packages/tqdm/auto.py:22: TqdmWarning: IProgress not found. Please update jupyter and ipywidgets. See https://ipywidgets.readthedocs.io/en/stable/user_install.html\n",
      "  from .autonotebook import tqdm as notebook_tqdm\n"
     ]
    },
    {
     "name": "stdout",
     "output_type": "stream",
     "text": [
      "Pytorch 版本 1.10.0\n",
      "CUDA 是否可用 False\n"
     ]
    }
   ],
   "source": [
    "# 检查 Pytorch\n",
    "import torch, torchvision\n",
    "print('Pytorch 版本', torch.__version__)\n",
    "print('CUDA 是否可用',torch.cuda.is_available())"
   ]
  },
  {
   "cell_type": "code",
   "execution_count": 8,
   "id": "cb8b7786",
   "metadata": {},
   "outputs": [
    {
     "name": "stdout",
     "output_type": "stream",
     "text": [
      "MMCV版本 2.0.0rc4\n",
      "CUDA版本 not available\n",
      "编译器版本 clang 12.0.0\n"
     ]
    }
   ],
   "source": [
    "# 检查 mmcv\n",
    "import mmcv\n",
    "from mmcv.ops import get_compiling_cuda_version, get_compiler_version\n",
    "print('MMCV版本', mmcv.__version__)\n",
    "print('CUDA版本', get_compiling_cuda_version())\n",
    "print('编译器版本', get_compiler_version())"
   ]
  },
  {
   "cell_type": "code",
   "execution_count": 11,
   "id": "a204d77d",
   "metadata": {},
   "outputs": [
    {
     "name": "stdout",
     "output_type": "stream",
     "text": [
      "mmpose版本 1.0.0rc1\n"
     ]
    }
   ],
   "source": [
    "# 检查 mmpose\n",
    "import mmpose\n",
    "print('mmpose版本', mmpose.__version__)"
   ]
  },
  {
   "cell_type": "markdown",
   "id": "334edc2d",
   "metadata": {},
   "source": [
    "没有报错，即证明安装成功。"
   ]
  },
  {
   "cell_type": "code",
   "execution_count": null,
   "id": "dc40e714",
   "metadata": {},
   "outputs": [],
   "source": []
  }
 ],
 "metadata": {
  "kernelspec": {
   "display_name": "Python 3 (ipykernel)",
   "language": "python",
   "name": "python3"
  },
  "language_info": {
   "codemirror_mode": {
    "name": "ipython",
    "version": 3
   },
   "file_extension": ".py",
   "mimetype": "text/x-python",
   "name": "python",
   "nbconvert_exporter": "python",
   "pygments_lexer": "ipython3",
   "version": "3.7.12"
  }
 },
 "nbformat": 4,
 "nbformat_minor": 5
}
