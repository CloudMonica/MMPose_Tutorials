{
 "cells": [
  {
   "cell_type": "markdown",
   "id": "9b7cedd3",
   "metadata": {},
   "source": [
    "# 三角板目标检测-下载config配置文件和模型权重文件\n",
    "\n",
    "同济子豪兄 2023-4-5"
   ]
  },
  {
   "cell_type": "markdown",
   "id": "be4f99e5",
   "metadata": {},
   "source": [
    "## 进入 mmpose 主目录 或 mmdetection 主目录"
   ]
  },
  {
   "cell_type": "code",
   "execution_count": 1,
   "id": "cffa5e65",
   "metadata": {},
   "outputs": [],
   "source": [
    "import os\n",
    "os.chdir('mmpose')\n",
    "# os.chdir('mmdetection')"
   ]
  },
  {
   "cell_type": "markdown",
   "id": "878f0aa8",
   "metadata": {},
   "source": [
    "## 下载config配置文件至`data`目录"
   ]
  },
  {
   "cell_type": "code",
   "execution_count": 2,
   "id": "e478810f",
   "metadata": {},
   "outputs": [
    {
     "name": "stdout",
     "output_type": "stream",
     "text": [
      "--2023-04-05 13:03:28--  https://zihao-openmmlab.obs.myhuaweicloud.com/20220610-mmpose/triangle_dataset/faster_r_cnn_triangle.py\n",
      "正在解析主机 zihao-openmmlab.obs.myhuaweicloud.com (zihao-openmmlab.obs.myhuaweicloud.com)... 121.36.235.132\n",
      "正在连接 zihao-openmmlab.obs.myhuaweicloud.com (zihao-openmmlab.obs.myhuaweicloud.com)|121.36.235.132|:443... 已连接。\n",
      "已发出 HTTP 请求，正在等待回应... 200 OK\n",
      "长度：7764 (7.6K) [binary/octet-stream]\n",
      "正在保存至: “data/faster_r_cnn_triangle.py”\n",
      "\n",
      "faster_r_cnn_triang 100%[===================>]   7.58K  --.-KB/s  用时 0s        \n",
      "\n",
      "2023-04-05 13:03:28 (65.0 MB/s) - 已保存 “data/faster_r_cnn_triangle.py” [7764/7764])\n",
      "\n"
     ]
    }
   ],
   "source": [
    "# Faster R CNN 三角板目标检测\n",
    "!rm -rf data/faster_r_cnn_triangle.py\n",
    "!wget https://zihao-openmmlab.obs.myhuaweicloud.com/20220610-mmpose/triangle_dataset/faster_r_cnn_triangle.py -P data"
   ]
  },
  {
   "cell_type": "code",
   "execution_count": 3,
   "id": "8ade9976",
   "metadata": {},
   "outputs": [
    {
     "name": "stdout",
     "output_type": "stream",
     "text": [
      "--2023-04-05 13:03:29--  https://zihao-openmmlab.obs.myhuaweicloud.com/20220610-mmpose/triangle_dataset/rtmdet_tiny_triangle.py\n",
      "正在解析主机 zihao-openmmlab.obs.myhuaweicloud.com (zihao-openmmlab.obs.myhuaweicloud.com)... 121.36.235.132\n",
      "正在连接 zihao-openmmlab.obs.myhuaweicloud.com (zihao-openmmlab.obs.myhuaweicloud.com)|121.36.235.132|:443... 已连接。\n",
      "已发出 HTTP 请求，正在等待回应... 200 OK\n",
      "长度：8872 (8.7K) [binary/octet-stream]\n",
      "正在保存至: “data/rtmdet_tiny_triangle.py”\n",
      "\n",
      "rtmdet_tiny_triangl 100%[===================>]   8.66K  --.-KB/s  用时 0.001s    \n",
      "\n",
      "2023-04-05 13:03:29 (6.90 MB/s) - 已保存 “data/rtmdet_tiny_triangle.py” [8872/8872])\n",
      "\n"
     ]
    }
   ],
   "source": [
    "# RTMDet-Tiny 三角板目标检测\n",
    "!rm -rf data/rtmdet_tiny_triangle.py\n",
    "!wget https://zihao-openmmlab.obs.myhuaweicloud.com/20220610-mmpose/triangle_dataset/rtmdet_tiny_triangle.py -P data"
   ]
  },
  {
   "cell_type": "markdown",
   "id": "5ed35bef",
   "metadata": {},
   "source": [
    "## 下载模型权重文件至`checkpoint`目录"
   ]
  },
  {
   "cell_type": "code",
   "execution_count": 2,
   "id": "f3ed1cba",
   "metadata": {},
   "outputs": [
    {
     "name": "stdout",
     "output_type": "stream",
     "text": [
      "--2023-04-05 20:56:35--  https://zihao-openmmlab.obs.myhuaweicloud.com/20220610-mmpose/triangle_dataset/ckpt/faster_r_cnn_triangle_epoch_50_202304052050-1e56824f.pth\n",
      "正在解析主机 zihao-openmmlab.obs.myhuaweicloud.com (zihao-openmmlab.obs.myhuaweicloud.com)... 121.36.235.132\n",
      "正在连接 zihao-openmmlab.obs.myhuaweicloud.com (zihao-openmmlab.obs.myhuaweicloud.com)|121.36.235.132|:443... 已连接。\n",
      "已发出 HTTP 请求，正在等待回应... 200 OK\n",
      "长度：165679689 (158M) [binary/octet-stream]\n",
      "正在保存至: “checkpoint/faster_r_cnn_triangle_epoch_50_202304052050-1e56824f.pth”\n",
      "\n",
      "faster_r_cnn_triang 100%[===================>] 158.00M  25.8MB/s  用时 5.2s      \n",
      "\n",
      "2023-04-05 20:56:40 (30.6 MB/s) - 已保存 “checkpoint/faster_r_cnn_triangle_epoch_50_202304052050-1e56824f.pth” [165679689/165679689])\n",
      "\n"
     ]
    }
   ],
   "source": [
    "# Faster R CNN 三角板目标检测\n",
    "!rm -rf checkpoint/faster_r_cnn_triangle_epoch_50_202304052050-1e56824f.pth\n",
    "!wget https://zihao-openmmlab.obs.myhuaweicloud.com/20220610-mmpose/triangle_dataset/ckpt/faster_r_cnn_triangle_epoch_50_202304052050-1e56824f.pth -P checkpoint\n",
    "    "
   ]
  },
  {
   "cell_type": "code",
   "execution_count": 5,
   "id": "ec097063",
   "metadata": {},
   "outputs": [
    {
     "name": "stdout",
     "output_type": "stream",
     "text": [
      "--2023-04-05 13:03:34--  https://zihao-openmmlab.obs.myhuaweicloud.com/20220610-mmpose/triangle_dataset/ckpt/rtmdet_tiny_triangle_epoch_200_202304051235-ee3a6d30.pth\n",
      "正在解析主机 zihao-openmmlab.obs.myhuaweicloud.com (zihao-openmmlab.obs.myhuaweicloud.com)... 121.36.235.132\n",
      "正在连接 zihao-openmmlab.obs.myhuaweicloud.com (zihao-openmmlab.obs.myhuaweicloud.com)|121.36.235.132|:443... 已连接。\n",
      "已发出 HTTP 请求，正在等待回应... 200 OK\n",
      "长度：19679902 (19M) [binary/octet-stream]\n",
      "正在保存至: “checkpoint/rtmdet_tiny_triangle_epoch_200_202304051235-ee3a6d30.pth”\n",
      "\n",
      "rtmdet_tiny_triangl 100%[===================>]  18.77M  42.0MB/s  用时 0.4s      \n",
      "\n",
      "2023-04-05 13:03:35 (42.0 MB/s) - 已保存 “checkpoint/rtmdet_tiny_triangle_epoch_200_202304051235-ee3a6d30.pth” [19679902/19679902])\n",
      "\n"
     ]
    }
   ],
   "source": [
    "# RTMDet-S 三角板目标检测\n",
    "!rm -rf checkpoint/rtmdet_tiny_triangle_epoch_200_202304051235-ee3a6d30.pth\n",
    "!wget https://zihao-openmmlab.obs.myhuaweicloud.com/20220610-mmpose/triangle_dataset/ckpt/rtmdet_tiny_triangle_epoch_200_202304051235-ee3a6d30.pth -P checkpoint\n"
   ]
  },
  {
   "cell_type": "markdown",
   "id": "7f59e21f",
   "metadata": {},
   "source": [
    "## 注意，要在`mmpose`和`mmdetection`两个目录都运行一遍"
   ]
  },
  {
   "cell_type": "code",
   "execution_count": null,
   "id": "f4123702",
   "metadata": {},
   "outputs": [],
   "source": []
  }
 ],
 "metadata": {
  "kernelspec": {
   "display_name": "Python 3 (ipykernel)",
   "language": "python",
   "name": "python3"
  },
  "language_info": {
   "codemirror_mode": {
    "name": "ipython",
    "version": 3
   },
   "file_extension": ".py",
   "mimetype": "text/x-python",
   "name": "python",
   "nbconvert_exporter": "python",
   "pygments_lexer": "ipython3",
   "version": "3.7.12"
  }
 },
 "nbformat": 4,
 "nbformat_minor": 5
}
