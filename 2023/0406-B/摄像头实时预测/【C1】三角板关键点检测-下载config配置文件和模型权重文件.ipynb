{
 "cells": [
  {
   "cell_type": "markdown",
   "id": "97535c77",
   "metadata": {},
   "source": [
    "# 三角板关键点检测-下载config配置文件和checkpoint模型权重文件\n",
    "\n",
    "同济子豪兄 2023-4-6"
   ]
  },
  {
   "cell_type": "markdown",
   "id": "545f5adb",
   "metadata": {},
   "source": [
    "## 进入mmpose主目录"
   ]
  },
  {
   "cell_type": "code",
   "execution_count": 1,
   "id": "871a6dd7",
   "metadata": {},
   "outputs": [],
   "source": [
    "import os\n",
    "os.chdir('mmpose')"
   ]
  },
  {
   "cell_type": "markdown",
   "id": "342a1c23",
   "metadata": {},
   "source": [
    "## 下载config配置文件至`data`目录"
   ]
  },
  {
   "cell_type": "code",
   "execution_count": 2,
   "id": "f888e228",
   "metadata": {},
   "outputs": [
    {
     "name": "stdout",
     "output_type": "stream",
     "text": [
      "--2023-04-06 09:14:11--  https://zihao-openmmlab.obs.myhuaweicloud.com/20220610-mmpose/triangle_dataset/rtmpose-s_triangle_8xb256-420e_coco-256x192.py\n",
      "正在解析主机 zihao-openmmlab.obs.myhuaweicloud.com (zihao-openmmlab.obs.myhuaweicloud.com)... 121.36.235.132\n",
      "正在连接 zihao-openmmlab.obs.myhuaweicloud.com (zihao-openmmlab.obs.myhuaweicloud.com)|121.36.235.132|:443... 已连接。\n",
      "已发出 HTTP 请求，正在等待回应... 200 OK\n",
      "长度：12688 (12K) [binary/octet-stream]\n",
      "正在保存至: “data/rtmpose-s_triangle_8xb256-420e_coco-256x192.py”\n",
      "\n",
      "rtmpose-s_triangle_ 100%[===================>]  12.39K  --.-KB/s  用时 0.002s    \n",
      "\n",
      "2023-04-06 09:14:11 (8.02 MB/s) - 已保存 “data/rtmpose-s_triangle_8xb256-420e_coco-256x192.py” [12688/12688])\n",
      "\n"
     ]
    }
   ],
   "source": [
    "!rm -rf data/rtmpose-s_triangle_8xb256-420e_coco-256x192.py\n",
    "!wget https://zihao-openmmlab.obs.myhuaweicloud.com/20220610-mmpose/triangle_dataset/rtmpose-s_triangle_8xb256-420e_coco-256x192.py -P data\n"
   ]
  },
  {
   "cell_type": "markdown",
   "id": "325a5e88",
   "metadata": {},
   "source": [
    "## 下载模型权重文件至`checkpoint`目录"
   ]
  },
  {
   "cell_type": "code",
   "execution_count": 3,
   "id": "bdf07622",
   "metadata": {},
   "outputs": [
    {
     "name": "stdout",
     "output_type": "stream",
     "text": [
      "--2023-04-06 09:14:40--  https://zihao-openmmlab.obs.myhuaweicloud.com/20220610-mmpose/triangle_dataset/ckpt/rtmpose_s_triangle_300-a5080a04_20230406.pth\n",
      "正在解析主机 zihao-openmmlab.obs.myhuaweicloud.com (zihao-openmmlab.obs.myhuaweicloud.com)... 121.36.235.132\n",
      "正在连接 zihao-openmmlab.obs.myhuaweicloud.com (zihao-openmmlab.obs.myhuaweicloud.com)|121.36.235.132|:443... 已连接。\n",
      "已发出 HTTP 请求，正在等待回应... 200 OK\n",
      "长度：52582800 (50M) [binary/octet-stream]\n",
      "正在保存至: “checkpoint/rtmpose_s_triangle_300-a5080a04_20230406.pth”\n",
      "\n",
      "rtmpose_s_triangle_ 100%[===================>]  50.15M  35.6MB/s  用时 1.4s      \n",
      "\n",
      "2023-04-06 09:14:42 (35.6 MB/s) - 已保存 “checkpoint/rtmpose_s_triangle_300-a5080a04_20230406.pth” [52582800/52582800])\n",
      "\n"
     ]
    }
   ],
   "source": [
    "# RTMDet-S 三角板目标检测\n",
    "!rm -rf checkpoint/rtmpose_s_triangle_300-a5080a04_20230406.pth\n",
    "!wget https://zihao-openmmlab.obs.myhuaweicloud.com/20220610-mmpose/triangle_dataset/ckpt/rtmpose_s_triangle_300-a5080a04_20230406.pth -P checkpoint\n"
   ]
  },
  {
   "cell_type": "code",
   "execution_count": null,
   "id": "7bb040a4",
   "metadata": {},
   "outputs": [],
   "source": []
  }
 ],
 "metadata": {
  "kernelspec": {
   "display_name": "Python 3 (ipykernel)",
   "language": "python",
   "name": "python3"
  },
  "language_info": {
   "codemirror_mode": {
    "name": "ipython",
    "version": 3
   },
   "file_extension": ".py",
   "mimetype": "text/x-python",
   "name": "python",
   "nbconvert_exporter": "python",
   "pygments_lexer": "ipython3",
   "version": "3.7.12"
  }
 },
 "nbformat": 4,
 "nbformat_minor": 5
}
