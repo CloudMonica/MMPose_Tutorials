{
 "cells": [
  {
   "cell_type": "markdown",
   "id": "6da8d1fb-60f6-477c-ab2b-088cbc632c77",
   "metadata": {},
   "source": [
    "# MMDeploy本地部署预测-环境配置\n",
    "\n",
    "本代码教程需在本地环境运行\n",
    "\n",
    "同济子豪兄 2023-5-12\n",
    "\n",
    "特别感谢 MMDeploy 陈鑫：https://github.com/irexyc"
   ]
  },
  {
   "cell_type": "markdown",
   "id": "8bd4f15d-9a44-4ef0-b496-7db65d7cc4fe",
   "metadata": {},
   "source": [
    "## 下载安装Python\n",
    "\n",
    "建议Python 3.6 至 Python 3.10"
   ]
  },
  {
   "cell_type": "markdown",
   "id": "31074358-4089-4ad8-b602-848e517ec4ff",
   "metadata": {
    "tags": []
   },
   "source": [
    "## 安装推理后端"
   ]
  },
  {
   "cell_type": "code",
   "execution_count": 7,
   "id": "7c2647d2-56cc-42b5-94da-66cc753c0e09",
   "metadata": {},
   "outputs": [],
   "source": [
    "# 没有 GPU\n",
    "!pip install mmdeploy-runtime==1.0.0"
   ]
  },
  {
   "cell_type": "code",
   "execution_count": 1,
   "id": "1464235e-f0b9-4cbc-8a98-012ff27889a7",
   "metadata": {},
   "outputs": [],
   "source": [
    "# 有 GPU\n",
    "# !pip install mmdeploy-runtime-gpu==1.0.0"
   ]
  },
  {
   "cell_type": "markdown",
   "id": "8e7edf15-c653-40bd-8522-5a1b44b56bf3",
   "metadata": {},
   "source": [
    "## 安装其他第三方工具包"
   ]
  },
  {
   "cell_type": "code",
   "execution_count": null,
   "id": "6701818c-6df2-4cd9-b601-0e849af94926",
   "metadata": {},
   "outputs": [],
   "source": [
    "!pip install matplotlib tqdm "
   ]
  },
  {
   "cell_type": "markdown",
   "id": "4b734a1b-56f7-41e0-a5b7-586d2d9e440b",
   "metadata": {},
   "source": [
    "## 下载待测视频文件"
   ]
  },
  {
   "cell_type": "code",
   "execution_count": 5,
   "id": "95b9415a-0d0a-4a98-a548-099ade8d1779",
   "metadata": {},
   "outputs": [],
   "source": [
    "!wget https://zihao-openmmlab.obs.myhuaweicloud.com/20220610-mmpose/triangle_dataset/videos/triangle_9.mp4"
   ]
  },
  {
   "cell_type": "code",
   "execution_count": null,
   "id": "8fe195e6-0dd2-4755-9223-cdfd67d9e122",
   "metadata": {},
   "outputs": [],
   "source": []
  }
 ],
 "metadata": {
  "kernelspec": {
   "display_name": "Python 3 (ipykernel)",
   "language": "python",
   "name": "python3"
  },
  "language_info": {
   "codemirror_mode": {
    "name": "ipython",
    "version": 3
   },
   "file_extension": ".py",
   "mimetype": "text/x-python",
   "name": "python",
   "nbconvert_exporter": "python",
   "pygments_lexer": "ipython3",
   "version": "3.7.10"
  }
 },
 "nbformat": 4,
 "nbformat_minor": 5
}
